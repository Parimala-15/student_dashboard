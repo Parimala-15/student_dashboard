{
  "cells": [
    {
      "cell_type": "markdown",
      "metadata": {
        "id": "view-in-github",
        "colab_type": "text"
      },
      "source": [
        "<a href=\"https://colab.research.google.com/github/Parimala-15/student_dashboard/blob/main/Student_Dropout_Prediction_Big_Data.ipynb\" target=\"_parent\"><img src=\"https://colab.research.google.com/assets/colab-badge.svg\" alt=\"Open In Colab\"/></a>"
      ]
    },
    {
      "cell_type": "code",
      "execution_count": 48,
      "metadata": {
        "colab": {
          "base_uri": "https://localhost:8080/"
        },
        "id": "IeOPRweSXfRe",
        "outputId": "80c3a910-a30a-4fcd-fbb8-76e7d74c2f78"
      },
      "outputs": [
        {
          "output_type": "stream",
          "name": "stdout",
          "text": [
            "Drive already mounted at /content/drive; to attempt to forcibly remount, call drive.mount(\"/content/drive\", force_remount=True).\n"
          ]
        }
      ],
      "source": [
        "from google.colab import drive\n",
        "drive.mount('/content/drive')\n"
      ]
    },
    {
      "cell_type": "markdown",
      "metadata": {
        "id": "b8CdATn8a_8s"
      },
      "source": [
        "- Set path to the OULAD dataset in your Google Drive.\n",
        "\n",
        "- List all .csv files in that folder.\n",
        "\n",
        "- Load each CSV into a Pandas DataFrame and store in a dictionary.\n",
        "\n",
        "- Print shape of each dataset to confirm successful loading.\n",
        "\n",
        "- Preview studentInfo if it exists, else show a warning."
      ]
    },
    {
      "cell_type": "code",
      "execution_count": 49,
      "metadata": {
        "colab": {
          "base_uri": "https://localhost:8080/",
          "height": 460
        },
        "id": "ET-frT0WYdud",
        "outputId": "c353587a-0ff1-4b7d-9dbf-7490ebb41753"
      },
      "outputs": [
        {
          "output_type": "stream",
          "name": "stdout",
          "text": [
            "assessments: (206, 6)\n",
            "studentAssessment: (173912, 5)\n",
            "courses: (22, 3)\n",
            "studentRegistration: (32593, 5)\n",
            "studentVle_0: (1500000, 7)\n",
            "studentInfo: (32593, 12)\n",
            "studentVle_1: (1500000, 7)\n",
            "studentVle_2: (1500000, 7)\n",
            "studentVle_3: (1500000, 7)\n",
            "studentVle_4: (1500000, 7)\n",
            "studentVle_5: (1500000, 7)\n",
            "studentVle_6: (1500000, 7)\n",
            "vle: (6364, 6)\n",
            "studentVle_7: (155280, 7)\n"
          ]
        },
        {
          "output_type": "display_data",
          "data": {
            "text/plain": [
              "  code_module code_presentation  id_student gender                region  \\\n",
              "0         AAA             2013J       11391      M   East Anglian Region   \n",
              "1         AAA             2013J       28400      F              Scotland   \n",
              "2         AAA             2013J       30268      F  North Western Region   \n",
              "3         AAA             2013J       31604      F     South East Region   \n",
              "4         AAA             2013J       32885      F  West Midlands Region   \n",
              "\n",
              "       highest_education imd_band age_band  num_of_prev_attempts  \\\n",
              "0       HE Qualification  90-100%     55<=                     0   \n",
              "1       HE Qualification   20-30%    35-55                     0   \n",
              "2  A Level or Equivalent   30-40%    35-55                     0   \n",
              "3  A Level or Equivalent   50-60%    35-55                     0   \n",
              "4     Lower Than A Level   50-60%     0-35                     0   \n",
              "\n",
              "   studied_credits disability final_result  \n",
              "0              240          N         Pass  \n",
              "1               60          N         Pass  \n",
              "2               60          Y    Withdrawn  \n",
              "3               60          N         Pass  \n",
              "4               60          N         Pass  "
            ],
            "text/html": [
              "\n",
              "  <div id=\"df-6154e725-fe29-4a52-a43d-a51f32e89335\" class=\"colab-df-container\">\n",
              "    <div>\n",
              "<style scoped>\n",
              "    .dataframe tbody tr th:only-of-type {\n",
              "        vertical-align: middle;\n",
              "    }\n",
              "\n",
              "    .dataframe tbody tr th {\n",
              "        vertical-align: top;\n",
              "    }\n",
              "\n",
              "    .dataframe thead th {\n",
              "        text-align: right;\n",
              "    }\n",
              "</style>\n",
              "<table border=\"1\" class=\"dataframe\">\n",
              "  <thead>\n",
              "    <tr style=\"text-align: right;\">\n",
              "      <th></th>\n",
              "      <th>code_module</th>\n",
              "      <th>code_presentation</th>\n",
              "      <th>id_student</th>\n",
              "      <th>gender</th>\n",
              "      <th>region</th>\n",
              "      <th>highest_education</th>\n",
              "      <th>imd_band</th>\n",
              "      <th>age_band</th>\n",
              "      <th>num_of_prev_attempts</th>\n",
              "      <th>studied_credits</th>\n",
              "      <th>disability</th>\n",
              "      <th>final_result</th>\n",
              "    </tr>\n",
              "  </thead>\n",
              "  <tbody>\n",
              "    <tr>\n",
              "      <th>0</th>\n",
              "      <td>AAA</td>\n",
              "      <td>2013J</td>\n",
              "      <td>11391</td>\n",
              "      <td>M</td>\n",
              "      <td>East Anglian Region</td>\n",
              "      <td>HE Qualification</td>\n",
              "      <td>90-100%</td>\n",
              "      <td>55&lt;=</td>\n",
              "      <td>0</td>\n",
              "      <td>240</td>\n",
              "      <td>N</td>\n",
              "      <td>Pass</td>\n",
              "    </tr>\n",
              "    <tr>\n",
              "      <th>1</th>\n",
              "      <td>AAA</td>\n",
              "      <td>2013J</td>\n",
              "      <td>28400</td>\n",
              "      <td>F</td>\n",
              "      <td>Scotland</td>\n",
              "      <td>HE Qualification</td>\n",
              "      <td>20-30%</td>\n",
              "      <td>35-55</td>\n",
              "      <td>0</td>\n",
              "      <td>60</td>\n",
              "      <td>N</td>\n",
              "      <td>Pass</td>\n",
              "    </tr>\n",
              "    <tr>\n",
              "      <th>2</th>\n",
              "      <td>AAA</td>\n",
              "      <td>2013J</td>\n",
              "      <td>30268</td>\n",
              "      <td>F</td>\n",
              "      <td>North Western Region</td>\n",
              "      <td>A Level or Equivalent</td>\n",
              "      <td>30-40%</td>\n",
              "      <td>35-55</td>\n",
              "      <td>0</td>\n",
              "      <td>60</td>\n",
              "      <td>Y</td>\n",
              "      <td>Withdrawn</td>\n",
              "    </tr>\n",
              "    <tr>\n",
              "      <th>3</th>\n",
              "      <td>AAA</td>\n",
              "      <td>2013J</td>\n",
              "      <td>31604</td>\n",
              "      <td>F</td>\n",
              "      <td>South East Region</td>\n",
              "      <td>A Level or Equivalent</td>\n",
              "      <td>50-60%</td>\n",
              "      <td>35-55</td>\n",
              "      <td>0</td>\n",
              "      <td>60</td>\n",
              "      <td>N</td>\n",
              "      <td>Pass</td>\n",
              "    </tr>\n",
              "    <tr>\n",
              "      <th>4</th>\n",
              "      <td>AAA</td>\n",
              "      <td>2013J</td>\n",
              "      <td>32885</td>\n",
              "      <td>F</td>\n",
              "      <td>West Midlands Region</td>\n",
              "      <td>Lower Than A Level</td>\n",
              "      <td>50-60%</td>\n",
              "      <td>0-35</td>\n",
              "      <td>0</td>\n",
              "      <td>60</td>\n",
              "      <td>N</td>\n",
              "      <td>Pass</td>\n",
              "    </tr>\n",
              "  </tbody>\n",
              "</table>\n",
              "</div>\n",
              "    <div class=\"colab-df-buttons\">\n",
              "\n",
              "  <div class=\"colab-df-container\">\n",
              "    <button class=\"colab-df-convert\" onclick=\"convertToInteractive('df-6154e725-fe29-4a52-a43d-a51f32e89335')\"\n",
              "            title=\"Convert this dataframe to an interactive table.\"\n",
              "            style=\"display:none;\">\n",
              "\n",
              "  <svg xmlns=\"http://www.w3.org/2000/svg\" height=\"24px\" viewBox=\"0 -960 960 960\">\n",
              "    <path d=\"M120-120v-720h720v720H120Zm60-500h600v-160H180v160Zm220 220h160v-160H400v160Zm0 220h160v-160H400v160ZM180-400h160v-160H180v160Zm440 0h160v-160H620v160ZM180-180h160v-160H180v160Zm440 0h160v-160H620v160Z\"/>\n",
              "  </svg>\n",
              "    </button>\n",
              "\n",
              "  <style>\n",
              "    .colab-df-container {\n",
              "      display:flex;\n",
              "      gap: 12px;\n",
              "    }\n",
              "\n",
              "    .colab-df-convert {\n",
              "      background-color: #E8F0FE;\n",
              "      border: none;\n",
              "      border-radius: 50%;\n",
              "      cursor: pointer;\n",
              "      display: none;\n",
              "      fill: #1967D2;\n",
              "      height: 32px;\n",
              "      padding: 0 0 0 0;\n",
              "      width: 32px;\n",
              "    }\n",
              "\n",
              "    .colab-df-convert:hover {\n",
              "      background-color: #E2EBFA;\n",
              "      box-shadow: 0px 1px 2px rgba(60, 64, 67, 0.3), 0px 1px 3px 1px rgba(60, 64, 67, 0.15);\n",
              "      fill: #174EA6;\n",
              "    }\n",
              "\n",
              "    .colab-df-buttons div {\n",
              "      margin-bottom: 4px;\n",
              "    }\n",
              "\n",
              "    [theme=dark] .colab-df-convert {\n",
              "      background-color: #3B4455;\n",
              "      fill: #D2E3FC;\n",
              "    }\n",
              "\n",
              "    [theme=dark] .colab-df-convert:hover {\n",
              "      background-color: #434B5C;\n",
              "      box-shadow: 0px 1px 3px 1px rgba(0, 0, 0, 0.15);\n",
              "      filter: drop-shadow(0px 1px 2px rgba(0, 0, 0, 0.3));\n",
              "      fill: #FFFFFF;\n",
              "    }\n",
              "  </style>\n",
              "\n",
              "    <script>\n",
              "      const buttonEl =\n",
              "        document.querySelector('#df-6154e725-fe29-4a52-a43d-a51f32e89335 button.colab-df-convert');\n",
              "      buttonEl.style.display =\n",
              "        google.colab.kernel.accessAllowed ? 'block' : 'none';\n",
              "\n",
              "      async function convertToInteractive(key) {\n",
              "        const element = document.querySelector('#df-6154e725-fe29-4a52-a43d-a51f32e89335');\n",
              "        const dataTable =\n",
              "          await google.colab.kernel.invokeFunction('convertToInteractive',\n",
              "                                                    [key], {});\n",
              "        if (!dataTable) return;\n",
              "\n",
              "        const docLinkHtml = 'Like what you see? Visit the ' +\n",
              "          '<a target=\"_blank\" href=https://colab.research.google.com/notebooks/data_table.ipynb>data table notebook</a>'\n",
              "          + ' to learn more about interactive tables.';\n",
              "        element.innerHTML = '';\n",
              "        dataTable['output_type'] = 'display_data';\n",
              "        await google.colab.output.renderOutput(dataTable, element);\n",
              "        const docLink = document.createElement('div');\n",
              "        docLink.innerHTML = docLinkHtml;\n",
              "        element.appendChild(docLink);\n",
              "      }\n",
              "    </script>\n",
              "  </div>\n",
              "\n",
              "\n",
              "    <div id=\"df-5b95f62e-3c77-46e6-80a5-2a2bd4736e77\">\n",
              "      <button class=\"colab-df-quickchart\" onclick=\"quickchart('df-5b95f62e-3c77-46e6-80a5-2a2bd4736e77')\"\n",
              "                title=\"Suggest charts\"\n",
              "                style=\"display:none;\">\n",
              "\n",
              "<svg xmlns=\"http://www.w3.org/2000/svg\" height=\"24px\"viewBox=\"0 0 24 24\"\n",
              "     width=\"24px\">\n",
              "    <g>\n",
              "        <path d=\"M19 3H5c-1.1 0-2 .9-2 2v14c0 1.1.9 2 2 2h14c1.1 0 2-.9 2-2V5c0-1.1-.9-2-2-2zM9 17H7v-7h2v7zm4 0h-2V7h2v10zm4 0h-2v-4h2v4z\"/>\n",
              "    </g>\n",
              "</svg>\n",
              "      </button>\n",
              "\n",
              "<style>\n",
              "  .colab-df-quickchart {\n",
              "      --bg-color: #E8F0FE;\n",
              "      --fill-color: #1967D2;\n",
              "      --hover-bg-color: #E2EBFA;\n",
              "      --hover-fill-color: #174EA6;\n",
              "      --disabled-fill-color: #AAA;\n",
              "      --disabled-bg-color: #DDD;\n",
              "  }\n",
              "\n",
              "  [theme=dark] .colab-df-quickchart {\n",
              "      --bg-color: #3B4455;\n",
              "      --fill-color: #D2E3FC;\n",
              "      --hover-bg-color: #434B5C;\n",
              "      --hover-fill-color: #FFFFFF;\n",
              "      --disabled-bg-color: #3B4455;\n",
              "      --disabled-fill-color: #666;\n",
              "  }\n",
              "\n",
              "  .colab-df-quickchart {\n",
              "    background-color: var(--bg-color);\n",
              "    border: none;\n",
              "    border-radius: 50%;\n",
              "    cursor: pointer;\n",
              "    display: none;\n",
              "    fill: var(--fill-color);\n",
              "    height: 32px;\n",
              "    padding: 0;\n",
              "    width: 32px;\n",
              "  }\n",
              "\n",
              "  .colab-df-quickchart:hover {\n",
              "    background-color: var(--hover-bg-color);\n",
              "    box-shadow: 0 1px 2px rgba(60, 64, 67, 0.3), 0 1px 3px 1px rgba(60, 64, 67, 0.15);\n",
              "    fill: var(--button-hover-fill-color);\n",
              "  }\n",
              "\n",
              "  .colab-df-quickchart-complete:disabled,\n",
              "  .colab-df-quickchart-complete:disabled:hover {\n",
              "    background-color: var(--disabled-bg-color);\n",
              "    fill: var(--disabled-fill-color);\n",
              "    box-shadow: none;\n",
              "  }\n",
              "\n",
              "  .colab-df-spinner {\n",
              "    border: 2px solid var(--fill-color);\n",
              "    border-color: transparent;\n",
              "    border-bottom-color: var(--fill-color);\n",
              "    animation:\n",
              "      spin 1s steps(1) infinite;\n",
              "  }\n",
              "\n",
              "  @keyframes spin {\n",
              "    0% {\n",
              "      border-color: transparent;\n",
              "      border-bottom-color: var(--fill-color);\n",
              "      border-left-color: var(--fill-color);\n",
              "    }\n",
              "    20% {\n",
              "      border-color: transparent;\n",
              "      border-left-color: var(--fill-color);\n",
              "      border-top-color: var(--fill-color);\n",
              "    }\n",
              "    30% {\n",
              "      border-color: transparent;\n",
              "      border-left-color: var(--fill-color);\n",
              "      border-top-color: var(--fill-color);\n",
              "      border-right-color: var(--fill-color);\n",
              "    }\n",
              "    40% {\n",
              "      border-color: transparent;\n",
              "      border-right-color: var(--fill-color);\n",
              "      border-top-color: var(--fill-color);\n",
              "    }\n",
              "    60% {\n",
              "      border-color: transparent;\n",
              "      border-right-color: var(--fill-color);\n",
              "    }\n",
              "    80% {\n",
              "      border-color: transparent;\n",
              "      border-right-color: var(--fill-color);\n",
              "      border-bottom-color: var(--fill-color);\n",
              "    }\n",
              "    90% {\n",
              "      border-color: transparent;\n",
              "      border-bottom-color: var(--fill-color);\n",
              "    }\n",
              "  }\n",
              "</style>\n",
              "\n",
              "      <script>\n",
              "        async function quickchart(key) {\n",
              "          const quickchartButtonEl =\n",
              "            document.querySelector('#' + key + ' button');\n",
              "          quickchartButtonEl.disabled = true;  // To prevent multiple clicks.\n",
              "          quickchartButtonEl.classList.add('colab-df-spinner');\n",
              "          try {\n",
              "            const charts = await google.colab.kernel.invokeFunction(\n",
              "                'suggestCharts', [key], {});\n",
              "          } catch (error) {\n",
              "            console.error('Error during call to suggestCharts:', error);\n",
              "          }\n",
              "          quickchartButtonEl.classList.remove('colab-df-spinner');\n",
              "          quickchartButtonEl.classList.add('colab-df-quickchart-complete');\n",
              "        }\n",
              "        (() => {\n",
              "          let quickchartButtonEl =\n",
              "            document.querySelector('#df-5b95f62e-3c77-46e6-80a5-2a2bd4736e77 button');\n",
              "          quickchartButtonEl.style.display =\n",
              "            google.colab.kernel.accessAllowed ? 'block' : 'none';\n",
              "        })();\n",
              "      </script>\n",
              "    </div>\n",
              "\n",
              "    </div>\n",
              "  </div>\n"
            ],
            "application/vnd.google.colaboratory.intrinsic+json": {
              "type": "dataframe",
              "summary": "{\n  \"name\": \"    print(\\\"studentInfo\",\n  \"rows\": 5,\n  \"fields\": [\n    {\n      \"column\": \"code_module\",\n      \"properties\": {\n        \"dtype\": \"category\",\n        \"num_unique_values\": 1,\n        \"samples\": [\n          \"AAA\"\n        ],\n        \"semantic_type\": \"\",\n        \"description\": \"\"\n      }\n    },\n    {\n      \"column\": \"code_presentation\",\n      \"properties\": {\n        \"dtype\": \"category\",\n        \"num_unique_values\": 1,\n        \"samples\": [\n          \"2013J\"\n        ],\n        \"semantic_type\": \"\",\n        \"description\": \"\"\n      }\n    },\n    {\n      \"column\": \"id_student\",\n      \"properties\": {\n        \"dtype\": \"number\",\n        \"std\": 8832,\n        \"min\": 11391,\n        \"max\": 32885,\n        \"num_unique_values\": 5,\n        \"samples\": [\n          28400\n        ],\n        \"semantic_type\": \"\",\n        \"description\": \"\"\n      }\n    },\n    {\n      \"column\": \"gender\",\n      \"properties\": {\n        \"dtype\": \"category\",\n        \"num_unique_values\": 2,\n        \"samples\": [\n          \"F\"\n        ],\n        \"semantic_type\": \"\",\n        \"description\": \"\"\n      }\n    },\n    {\n      \"column\": \"region\",\n      \"properties\": {\n        \"dtype\": \"string\",\n        \"num_unique_values\": 5,\n        \"samples\": [\n          \"Scotland\"\n        ],\n        \"semantic_type\": \"\",\n        \"description\": \"\"\n      }\n    },\n    {\n      \"column\": \"highest_education\",\n      \"properties\": {\n        \"dtype\": \"string\",\n        \"num_unique_values\": 3,\n        \"samples\": [\n          \"HE Qualification\"\n        ],\n        \"semantic_type\": \"\",\n        \"description\": \"\"\n      }\n    },\n    {\n      \"column\": \"imd_band\",\n      \"properties\": {\n        \"dtype\": \"string\",\n        \"num_unique_values\": 4,\n        \"samples\": [\n          \"20-30%\"\n        ],\n        \"semantic_type\": \"\",\n        \"description\": \"\"\n      }\n    },\n    {\n      \"column\": \"age_band\",\n      \"properties\": {\n        \"dtype\": \"string\",\n        \"num_unique_values\": 3,\n        \"samples\": [\n          \"55<=\"\n        ],\n        \"semantic_type\": \"\",\n        \"description\": \"\"\n      }\n    },\n    {\n      \"column\": \"num_of_prev_attempts\",\n      \"properties\": {\n        \"dtype\": \"number\",\n        \"std\": 0,\n        \"min\": 0,\n        \"max\": 0,\n        \"num_unique_values\": 1,\n        \"samples\": [\n          0\n        ],\n        \"semantic_type\": \"\",\n        \"description\": \"\"\n      }\n    },\n    {\n      \"column\": \"studied_credits\",\n      \"properties\": {\n        \"dtype\": \"number\",\n        \"std\": 80,\n        \"min\": 60,\n        \"max\": 240,\n        \"num_unique_values\": 2,\n        \"samples\": [\n          60\n        ],\n        \"semantic_type\": \"\",\n        \"description\": \"\"\n      }\n    },\n    {\n      \"column\": \"disability\",\n      \"properties\": {\n        \"dtype\": \"category\",\n        \"num_unique_values\": 2,\n        \"samples\": [\n          \"Y\"\n        ],\n        \"semantic_type\": \"\",\n        \"description\": \"\"\n      }\n    },\n    {\n      \"column\": \"final_result\",\n      \"properties\": {\n        \"dtype\": \"category\",\n        \"num_unique_values\": 2,\n        \"samples\": [\n          \"Withdrawn\"\n        ],\n        \"semantic_type\": \"\",\n        \"description\": \"\"\n      }\n    }\n  ]\n}"
            }
          },
          "metadata": {}
        }
      ],
      "source": [
        "import pandas as pd\n",
        "import os\n",
        "\n",
        "data_path = \"/content/drive/MyDrive/Colab Notebooks/OULAD Dataset\"  # change this to your path\n",
        "\n",
        "\n",
        "# List all CSV files in the folder\n",
        "csv_files = [f for f in os.listdir(data_path) if f.endswith('.csv')]\n",
        "\n",
        "# Load all CSV files into a dictionary of DataFrames\n",
        "data = {}\n",
        "for file in csv_files:\n",
        "    name = file.replace(\".csv\", \"\")\n",
        "    data[name] = pd.read_csv(os.path.join(data_path, file))\n",
        "    print(f\"{name}: {data[name].shape}\")\n",
        "\n",
        "# Example: preview the 'studentInfo' dataset\n",
        "# Make sure 'studentInfo' is one of the CSV files in your folder\n",
        "if 'studentInfo' in data:\n",
        "    display(data['studentInfo'].head())\n",
        "else:\n",
        "    print(\"studentInfo.csv not found in the specified directory.\")"
      ]
    },
    {
      "cell_type": "markdown",
      "metadata": {
        "id": "f6FYX32zbQHs"
      },
      "source": [
        "- Iterates through each dataset in the data dictionary.\n",
        "\n",
        "- Prints the dataset name and its shape (rows × columns).\n",
        "\n",
        "- Displays column info including data types and null counts.\n",
        "\n",
        "- Shows the first 3 rows of each dataset for a quick preview."
      ]
    },
    {
      "cell_type": "code",
      "execution_count": 50,
      "metadata": {
        "colab": {
          "base_uri": "https://localhost:8080/"
        },
        "id": "HX2sxlSuZ4yf",
        "outputId": "452b9efc-30e7-445d-e085-57dadcd32e87"
      },
      "outputs": [
        {
          "output_type": "stream",
          "name": "stdout",
          "text": [
            "\n",
            "📄 ASSESSMENTS – Shape: (206, 6)\n",
            "<class 'pandas.core.frame.DataFrame'>\n",
            "RangeIndex: 206 entries, 0 to 205\n",
            "Data columns (total 6 columns):\n",
            " #   Column             Non-Null Count  Dtype  \n",
            "---  ------             --------------  -----  \n",
            " 0   code_module        206 non-null    object \n",
            " 1   code_presentation  206 non-null    object \n",
            " 2   id_assessment      206 non-null    int64  \n",
            " 3   assessment_type    206 non-null    object \n",
            " 4   date               195 non-null    float64\n",
            " 5   weight             206 non-null    float64\n",
            "dtypes: float64(2), int64(1), object(3)\n",
            "memory usage: 9.8+ KB\n",
            "None\n",
            "  code_module code_presentation  id_assessment assessment_type   date  weight\n",
            "0         AAA             2013J           1752             TMA   19.0    10.0\n",
            "1         AAA             2013J           1753             TMA   54.0    20.0\n",
            "2         AAA             2013J           1754             TMA  117.0    20.0\n",
            "\n",
            "📄 STUDENTASSESSMENT – Shape: (173912, 5)\n",
            "<class 'pandas.core.frame.DataFrame'>\n",
            "RangeIndex: 173912 entries, 0 to 173911\n",
            "Data columns (total 5 columns):\n",
            " #   Column          Non-Null Count   Dtype  \n",
            "---  ------          --------------   -----  \n",
            " 0   id_assessment   173912 non-null  int64  \n",
            " 1   id_student      173912 non-null  int64  \n",
            " 2   date_submitted  173912 non-null  int64  \n",
            " 3   is_banked       173912 non-null  int64  \n",
            " 4   score           173739 non-null  float64\n",
            "dtypes: float64(1), int64(4)\n",
            "memory usage: 6.6 MB\n",
            "None\n",
            "   id_assessment  id_student  date_submitted  is_banked  score\n",
            "0           1752       11391              18          0   78.0\n",
            "1           1752       28400              22          0   70.0\n",
            "2           1752       31604              17          0   72.0\n",
            "\n",
            "📄 COURSES – Shape: (22, 3)\n",
            "<class 'pandas.core.frame.DataFrame'>\n",
            "RangeIndex: 22 entries, 0 to 21\n",
            "Data columns (total 3 columns):\n",
            " #   Column                      Non-Null Count  Dtype \n",
            "---  ------                      --------------  ----- \n",
            " 0   code_module                 22 non-null     object\n",
            " 1   code_presentation           22 non-null     object\n",
            " 2   module_presentation_length  22 non-null     int64 \n",
            "dtypes: int64(1), object(2)\n",
            "memory usage: 660.0+ bytes\n",
            "None\n",
            "  code_module code_presentation  module_presentation_length\n",
            "0         AAA             2013J                         268\n",
            "1         AAA             2014J                         269\n",
            "2         BBB             2013J                         268\n",
            "\n",
            "📄 STUDENTREGISTRATION – Shape: (32593, 5)\n",
            "<class 'pandas.core.frame.DataFrame'>\n",
            "RangeIndex: 32593 entries, 0 to 32592\n",
            "Data columns (total 5 columns):\n",
            " #   Column               Non-Null Count  Dtype  \n",
            "---  ------               --------------  -----  \n",
            " 0   code_module          32593 non-null  object \n",
            " 1   code_presentation    32593 non-null  object \n",
            " 2   id_student           32593 non-null  int64  \n",
            " 3   date_registration    32548 non-null  float64\n",
            " 4   date_unregistration  10072 non-null  float64\n",
            "dtypes: float64(2), int64(1), object(2)\n",
            "memory usage: 1.2+ MB\n",
            "None\n",
            "  code_module code_presentation  id_student  date_registration  \\\n",
            "0         AAA             2013J       11391             -159.0   \n",
            "1         AAA             2013J       28400              -53.0   \n",
            "2         AAA             2013J       30268              -92.0   \n",
            "\n",
            "   date_unregistration  \n",
            "0                  NaN  \n",
            "1                  NaN  \n",
            "2                 12.0  \n",
            "\n",
            "📄 STUDENTVLE_0 – Shape: (1500000, 7)\n",
            "<class 'pandas.core.frame.DataFrame'>\n",
            "RangeIndex: 1500000 entries, 0 to 1499999\n",
            "Data columns (total 7 columns):\n",
            " #   Column             Non-Null Count    Dtype \n",
            "---  ------             --------------    ----- \n",
            " 0   Unnamed: 0         1500000 non-null  int64 \n",
            " 1   code_module        1500000 non-null  object\n",
            " 2   code_presentation  1500000 non-null  object\n",
            " 3   id_student         1500000 non-null  int64 \n",
            " 4   id_site            1500000 non-null  int64 \n",
            " 5   date               1500000 non-null  int64 \n",
            " 6   sum_click          1500000 non-null  int64 \n",
            "dtypes: int64(5), object(2)\n",
            "memory usage: 80.1+ MB\n",
            "None\n",
            "   Unnamed: 0 code_module code_presentation  id_student  id_site  date  \\\n",
            "0           0         AAA             2013J       28400   546652   -10   \n",
            "1           1         AAA             2013J       28400   546652   -10   \n",
            "2           2         AAA             2013J       28400   546652   -10   \n",
            "\n",
            "   sum_click  \n",
            "0          4  \n",
            "1          1  \n",
            "2          1  \n",
            "\n",
            "📄 STUDENTINFO – Shape: (32593, 12)\n",
            "<class 'pandas.core.frame.DataFrame'>\n",
            "RangeIndex: 32593 entries, 0 to 32592\n",
            "Data columns (total 12 columns):\n",
            " #   Column                Non-Null Count  Dtype \n",
            "---  ------                --------------  ----- \n",
            " 0   code_module           32593 non-null  object\n",
            " 1   code_presentation     32593 non-null  object\n",
            " 2   id_student            32593 non-null  int64 \n",
            " 3   gender                32593 non-null  object\n",
            " 4   region                32593 non-null  object\n",
            " 5   highest_education     32593 non-null  object\n",
            " 6   imd_band              31482 non-null  object\n",
            " 7   age_band              32593 non-null  object\n",
            " 8   num_of_prev_attempts  32593 non-null  int64 \n",
            " 9   studied_credits       32593 non-null  int64 \n",
            " 10  disability            32593 non-null  object\n",
            " 11  final_result          32593 non-null  object\n",
            "dtypes: int64(3), object(9)\n",
            "memory usage: 3.0+ MB\n",
            "None\n",
            "  code_module code_presentation  id_student gender                region  \\\n",
            "0         AAA             2013J       11391      M   East Anglian Region   \n",
            "1         AAA             2013J       28400      F              Scotland   \n",
            "2         AAA             2013J       30268      F  North Western Region   \n",
            "\n",
            "       highest_education imd_band age_band  num_of_prev_attempts  \\\n",
            "0       HE Qualification  90-100%     55<=                     0   \n",
            "1       HE Qualification   20-30%    35-55                     0   \n",
            "2  A Level or Equivalent   30-40%    35-55                     0   \n",
            "\n",
            "   studied_credits disability final_result  \n",
            "0              240          N         Pass  \n",
            "1               60          N         Pass  \n",
            "2               60          Y    Withdrawn  \n",
            "\n",
            "📄 STUDENTVLE_1 – Shape: (1500000, 7)\n",
            "<class 'pandas.core.frame.DataFrame'>\n",
            "RangeIndex: 1500000 entries, 0 to 1499999\n",
            "Data columns (total 7 columns):\n",
            " #   Column             Non-Null Count    Dtype \n",
            "---  ------             --------------    ----- \n",
            " 0   Unnamed: 0         1500000 non-null  int64 \n",
            " 1   code_module        1500000 non-null  object\n",
            " 2   code_presentation  1500000 non-null  object\n",
            " 3   id_student         1500000 non-null  int64 \n",
            " 4   id_site            1500000 non-null  int64 \n",
            " 5   date               1500000 non-null  int64 \n",
            " 6   sum_click          1500000 non-null  int64 \n",
            "dtypes: int64(5), object(2)\n",
            "memory usage: 80.1+ MB\n",
            "None\n",
            "   Unnamed: 0 code_module code_presentation  id_student  id_site  date  \\\n",
            "0     1500000         BBB             2014J     1891028   913468    -4   \n",
            "1     1500001         BBB             2014J     1891028   913473    -4   \n",
            "2     1500002         BBB             2014J     1732956   913474    -4   \n",
            "\n",
            "   sum_click  \n",
            "0          3  \n",
            "1          1  \n",
            "2          2  \n",
            "\n",
            "📄 STUDENTVLE_2 – Shape: (1500000, 7)\n",
            "<class 'pandas.core.frame.DataFrame'>\n",
            "RangeIndex: 1500000 entries, 0 to 1499999\n",
            "Data columns (total 7 columns):\n",
            " #   Column             Non-Null Count    Dtype \n",
            "---  ------             --------------    ----- \n",
            " 0   Unnamed: 0         1500000 non-null  int64 \n",
            " 1   code_module        1500000 non-null  object\n",
            " 2   code_presentation  1500000 non-null  object\n",
            " 3   id_student         1500000 non-null  int64 \n",
            " 4   id_site            1500000 non-null  int64 \n",
            " 5   date               1500000 non-null  int64 \n",
            " 6   sum_click          1500000 non-null  int64 \n",
            "dtypes: int64(5), object(2)\n",
            "memory usage: 80.1+ MB\n",
            "None\n",
            "   Unnamed: 0 code_module code_presentation  id_student  id_site  date  \\\n",
            "0     3000000         CCC             2014J      610234   909013   205   \n",
            "1     3000001         CCC             2014J      610234   909090   205   \n",
            "2     3000002         CCC             2014J      610234   909090   205   \n",
            "\n",
            "   sum_click  \n",
            "0         14  \n",
            "1          4  \n",
            "2         25  \n",
            "\n",
            "📄 STUDENTVLE_3 – Shape: (1500000, 7)\n",
            "<class 'pandas.core.frame.DataFrame'>\n",
            "RangeIndex: 1500000 entries, 0 to 1499999\n",
            "Data columns (total 7 columns):\n",
            " #   Column             Non-Null Count    Dtype \n",
            "---  ------             --------------    ----- \n",
            " 0   Unnamed: 0         1500000 non-null  int64 \n",
            " 1   code_module        1500000 non-null  object\n",
            " 2   code_presentation  1500000 non-null  object\n",
            " 3   id_student         1500000 non-null  int64 \n",
            " 4   id_site            1500000 non-null  int64 \n",
            " 5   date               1500000 non-null  int64 \n",
            " 6   sum_click          1500000 non-null  int64 \n",
            "dtypes: int64(5), object(2)\n",
            "memory usage: 80.1+ MB\n",
            "None\n",
            "   Unnamed: 0 code_module code_presentation  id_student  id_site  date  \\\n",
            "0     4500000         DDD             2014B      629405   773112    45   \n",
            "1     4500001         DDD             2014B      628502   772995    45   \n",
            "2     4500002         DDD             2014B      628502   772705    45   \n",
            "\n",
            "   sum_click  \n",
            "0          2  \n",
            "1          4  \n",
            "2          1  \n",
            "\n",
            "📄 STUDENTVLE_4 – Shape: (1500000, 7)\n",
            "<class 'pandas.core.frame.DataFrame'>\n",
            "RangeIndex: 1500000 entries, 0 to 1499999\n",
            "Data columns (total 7 columns):\n",
            " #   Column             Non-Null Count    Dtype \n",
            "---  ------             --------------    ----- \n",
            " 0   Unnamed: 0         1500000 non-null  int64 \n",
            " 1   code_module        1500000 non-null  object\n",
            " 2   code_presentation  1500000 non-null  object\n",
            " 3   id_student         1500000 non-null  int64 \n",
            " 4   id_site            1500000 non-null  int64 \n",
            " 5   date               1500000 non-null  int64 \n",
            " 6   sum_click          1500000 non-null  int64 \n",
            "dtypes: int64(5), object(2)\n",
            "memory usage: 80.1+ MB\n",
            "None\n",
            "   Unnamed: 0 code_module code_presentation  id_student  id_site  date  \\\n",
            "0     6000000         EEE             2014J      575623   832567    57   \n",
            "1     6000001         EEE             2014J      587008   832566    57   \n",
            "2     6000002         EEE             2014J      587008   832566    57   \n",
            "\n",
            "   sum_click  \n",
            "0          1  \n",
            "1          6  \n",
            "2          5  \n",
            "\n",
            "📄 STUDENTVLE_5 – Shape: (1500000, 7)\n",
            "<class 'pandas.core.frame.DataFrame'>\n",
            "RangeIndex: 1500000 entries, 0 to 1499999\n",
            "Data columns (total 7 columns):\n",
            " #   Column             Non-Null Count    Dtype \n",
            "---  ------             --------------    ----- \n",
            " 0   Unnamed: 0         1500000 non-null  int64 \n",
            " 1   code_module        1500000 non-null  object\n",
            " 2   code_presentation  1500000 non-null  object\n",
            " 3   id_student         1500000 non-null  int64 \n",
            " 4   id_site            1500000 non-null  int64 \n",
            " 5   date               1500000 non-null  int64 \n",
            " 6   sum_click          1500000 non-null  int64 \n",
            "dtypes: int64(5), object(2)\n",
            "memory usage: 80.1+ MB\n",
            "None\n",
            "   Unnamed: 0 code_module code_presentation  id_student  id_site  date  \\\n",
            "0     7500000         FFF             2013J     2548055   716216    25   \n",
            "1     7500001         FFF             2013J     2548055   716217    25   \n",
            "2     7500002         FFF             2013J     2545923   716216    25   \n",
            "\n",
            "   sum_click  \n",
            "0          3  \n",
            "1          1  \n",
            "2          2  \n",
            "\n",
            "📄 STUDENTVLE_6 – Shape: (1500000, 7)\n",
            "<class 'pandas.core.frame.DataFrame'>\n",
            "RangeIndex: 1500000 entries, 0 to 1499999\n",
            "Data columns (total 7 columns):\n",
            " #   Column             Non-Null Count    Dtype \n",
            "---  ------             --------------    ----- \n",
            " 0   Unnamed: 0         1500000 non-null  int64 \n",
            " 1   code_module        1500000 non-null  object\n",
            " 2   code_presentation  1500000 non-null  object\n",
            " 3   id_student         1500000 non-null  int64 \n",
            " 4   id_site            1500000 non-null  int64 \n",
            " 5   date               1500000 non-null  int64 \n",
            " 6   sum_click          1500000 non-null  int64 \n",
            "dtypes: int64(5), object(2)\n",
            "memory usage: 80.1+ MB\n",
            "None\n",
            "   Unnamed: 0 code_module code_presentation  id_student  id_site  date  \\\n",
            "0     9000000         FFF             2014B      537703   779075   207   \n",
            "1     9000001         FFF             2014B      537703   779075   207   \n",
            "2     9000002         FFF             2014B      537703   779075   207   \n",
            "\n",
            "   sum_click  \n",
            "0          1  \n",
            "1          2  \n",
            "2          1  \n",
            "\n",
            "📄 VLE – Shape: (6364, 6)\n",
            "<class 'pandas.core.frame.DataFrame'>\n",
            "RangeIndex: 6364 entries, 0 to 6363\n",
            "Data columns (total 6 columns):\n",
            " #   Column             Non-Null Count  Dtype  \n",
            "---  ------             --------------  -----  \n",
            " 0   id_site            6364 non-null   int64  \n",
            " 1   code_module        6364 non-null   object \n",
            " 2   code_presentation  6364 non-null   object \n",
            " 3   activity_type      6364 non-null   object \n",
            " 4   week_from          1121 non-null   float64\n",
            " 5   week_to            1121 non-null   float64\n",
            "dtypes: float64(2), int64(1), object(3)\n",
            "memory usage: 298.4+ KB\n",
            "None\n",
            "   id_site code_module code_presentation activity_type  week_from  week_to\n",
            "0   546943         AAA             2013J      resource        NaN      NaN\n",
            "1   546712         AAA             2013J     oucontent        NaN      NaN\n",
            "2   546998         AAA             2013J      resource        NaN      NaN\n",
            "\n",
            "📄 STUDENTVLE_7 – Shape: (155280, 7)\n",
            "<class 'pandas.core.frame.DataFrame'>\n",
            "RangeIndex: 155280 entries, 0 to 155279\n",
            "Data columns (total 7 columns):\n",
            " #   Column             Non-Null Count   Dtype \n",
            "---  ------             --------------   ----- \n",
            " 0   Unnamed: 0         155280 non-null  int64 \n",
            " 1   code_module        155280 non-null  object\n",
            " 2   code_presentation  155280 non-null  object\n",
            " 3   id_student         155280 non-null  int64 \n",
            " 4   id_site            155280 non-null  int64 \n",
            " 5   date               155280 non-null  int64 \n",
            " 6   sum_click          155280 non-null  int64 \n",
            "dtypes: int64(5), object(2)\n",
            "memory usage: 8.3+ MB\n",
            "None\n",
            "   Unnamed: 0 code_module code_presentation  id_student  id_site  date  \\\n",
            "0    10500000         GGG             2014B      626282   798622   167   \n",
            "1    10500001         GGG             2014B      626159   798620   167   \n",
            "2    10500002         GGG             2014B      626159   798622   167   \n",
            "\n",
            "   sum_click  \n",
            "0          3  \n",
            "1          1  \n",
            "2         10  \n"
          ]
        }
      ],
      "source": [
        "for name, df in data.items():\n",
        "    print(f\"\\n📄 {name.upper()} – Shape: {df.shape}\")\n",
        "    print(df.info())\n",
        "    print(df.head(3))\n"
      ]
    },
    {
      "cell_type": "markdown",
      "metadata": {
        "id": "TpfO186Bbh9s"
      },
      "source": [
        "# **📌 Phase 1 – Data Ingestion & Merging**"
      ]
    },
    {
      "cell_type": "markdown",
      "metadata": {
        "id": "Kr2M6qASbkiL"
      },
      "source": [
        "# Step 1 – Identify the Key Tables\n",
        "\n",
        "From OULAD, the 3 main student-related files are:\n",
        "\n",
        "studentInfo.csv → student demographics & final result\n",
        "\n",
        "studentAssessment.csv → student assessment scores\n",
        "\n",
        "studentVle.csv → student activity in the Virtual Learning Environment (clicks)\n",
        "\n",
        "All of them share the id_student column, which allows us to merge them."
      ]
    },
    {
      "cell_type": "markdown",
      "metadata": {
        "id": "VJ6zUYQZbrjM"
      },
      "source": [
        "# Step 2 – Load the studentInfo and studentAssessment"
      ]
    },
    {
      "cell_type": "code",
      "execution_count": 51,
      "metadata": {
        "colab": {
          "base_uri": "https://localhost:8080/"
        },
        "id": "RtNf9A84f5HK",
        "outputId": "d09b757b-79d8-438f-b6c6-3aff8f051388"
      },
      "outputs": [
        {
          "output_type": "stream",
          "name": "stdout",
          "text": [
            "studentInfo shape: (32593, 12)\n",
            "studentAssessment shape: (173912, 5)\n"
          ]
        }
      ],
      "source": [
        "# Load main student and assessment data\n",
        "student_info = pd.read_csv(f\"{data_path}/studentInfo.csv\")\n",
        "student_assessment = pd.read_csv(f\"{data_path}/studentAssessment.csv\")\n",
        "\n",
        "print(\"studentInfo shape:\", student_info.shape)\n",
        "print(\"studentAssessment shape:\", student_assessment.shape)\n"
      ]
    },
    {
      "cell_type": "markdown",
      "metadata": {
        "id": "xEGkvEf2gTxE"
      },
      "source": [
        "# Step 3 – Combine All studentVle Files into One"
      ]
    },
    {
      "cell_type": "markdown",
      "metadata": {
        "id": "uNpAeNe5ch1k"
      },
      "source": [
        "We have 7 studentVle.csv files, it means our OULAD dataset is split by module/presentation instead of having one combined file.\n",
        "That’s normal in some versions of OULAD where activity logs are stored separately for each course module.\n",
        "\n",
        "What we’ll do:\n",
        "\n",
        "Identify all studentVle CSVs in your dataset folder.\n",
        "\n",
        "Read and combine them into a single student_vle DataFrame before merging."
      ]
    },
    {
      "cell_type": "code",
      "execution_count": 52,
      "metadata": {
        "colab": {
          "base_uri": "https://localhost:8080/"
        },
        "id": "PfE-xQiqiUkE",
        "outputId": "8d853b55-2d32-4c57-9f6c-e4927f0395a0"
      },
      "outputs": [
        {
          "output_type": "stream",
          "name": "stdout",
          "text": [
            "Found studentVle files: ['studentVle_0.csv', 'studentVle_1.csv', 'studentVle_2.csv', 'studentVle_3.csv', 'studentVle_4.csv', 'studentVle_5.csv', 'studentVle_6.csv', 'studentVle_7.csv']\n",
            "Aggregated studentVle shape: (26074, 2)\n"
          ]
        }
      ],
      "source": [
        "# Find all studentVle CSV files in the folder\n",
        "vle_files = [f for f in os.listdir(data_path) if \"studentVle\" in f and f.endswith(\".csv\")]\n",
        "print(\"Found studentVle files:\", vle_files)\n",
        "\n",
        "# Read, keep only needed columns, and aggregate clicks\n",
        "student_vle_list = []\n",
        "for file in vle_files:\n",
        "    temp_df = pd.read_csv(os.path.join(data_path, file), usecols=[\"id_student\", \"sum_click\"])\n",
        "    student_vle_list.append(temp_df)\n",
        "\n",
        "# Combine all studentVle data\n",
        "student_vle = pd.concat(student_vle_list, ignore_index=True)\n",
        "\n",
        "# Aggregate total clicks per student\n",
        "student_vle = student_vle.groupby(\"id_student\", as_index=False)[\"sum_click\"].sum()\n",
        "print(\"Aggregated studentVle shape:\", student_vle.shape)\n"
      ]
    },
    {
      "cell_type": "markdown",
      "metadata": {
        "id": "RSNppxm1gh5L"
      },
      "source": [
        "# Step  4– Merge All Student Data"
      ]
    },
    {
      "cell_type": "code",
      "execution_count": 53,
      "metadata": {
        "colab": {
          "base_uri": "https://localhost:8080/",
          "height": 418
        },
        "id": "wvIPonw6gjLE",
        "outputId": "b9555352-449d-4d83-802b-d27a557c58a9"
      },
      "outputs": [
        {
          "output_type": "stream",
          "name": "stdout",
          "text": [
            "Final merged_df shape: (213166, 17)\n"
          ]
        },
        {
          "output_type": "execute_result",
          "data": {
            "text/plain": [
              "  code_module code_presentation  id_student gender               region  \\\n",
              "0         AAA             2013J       11391      M  East Anglian Region   \n",
              "1         AAA             2013J       11391      M  East Anglian Region   \n",
              "2         AAA             2013J       11391      M  East Anglian Region   \n",
              "3         AAA             2013J       11391      M  East Anglian Region   \n",
              "4         AAA             2013J       11391      M  East Anglian Region   \n",
              "\n",
              "  highest_education imd_band age_band  num_of_prev_attempts  studied_credits  \\\n",
              "0  HE Qualification  90-100%     55<=                     0              240   \n",
              "1  HE Qualification  90-100%     55<=                     0              240   \n",
              "2  HE Qualification  90-100%     55<=                     0              240   \n",
              "3  HE Qualification  90-100%     55<=                     0              240   \n",
              "4  HE Qualification  90-100%     55<=                     0              240   \n",
              "\n",
              "  disability final_result  sum_click  id_assessment  date_submitted  \\\n",
              "0          N         Pass      934.0         1752.0            18.0   \n",
              "1          N         Pass      934.0         1753.0            53.0   \n",
              "2          N         Pass      934.0         1754.0           115.0   \n",
              "3          N         Pass      934.0         1755.0           164.0   \n",
              "4          N         Pass      934.0         1756.0           212.0   \n",
              "\n",
              "   is_banked  score  \n",
              "0        0.0   78.0  \n",
              "1        0.0   85.0  \n",
              "2        0.0   80.0  \n",
              "3        0.0   85.0  \n",
              "4        0.0   82.0  "
            ],
            "text/html": [
              "\n",
              "  <div id=\"df-7cbc152b-d624-45d8-9be7-2396b0632622\" class=\"colab-df-container\">\n",
              "    <div>\n",
              "<style scoped>\n",
              "    .dataframe tbody tr th:only-of-type {\n",
              "        vertical-align: middle;\n",
              "    }\n",
              "\n",
              "    .dataframe tbody tr th {\n",
              "        vertical-align: top;\n",
              "    }\n",
              "\n",
              "    .dataframe thead th {\n",
              "        text-align: right;\n",
              "    }\n",
              "</style>\n",
              "<table border=\"1\" class=\"dataframe\">\n",
              "  <thead>\n",
              "    <tr style=\"text-align: right;\">\n",
              "      <th></th>\n",
              "      <th>code_module</th>\n",
              "      <th>code_presentation</th>\n",
              "      <th>id_student</th>\n",
              "      <th>gender</th>\n",
              "      <th>region</th>\n",
              "      <th>highest_education</th>\n",
              "      <th>imd_band</th>\n",
              "      <th>age_band</th>\n",
              "      <th>num_of_prev_attempts</th>\n",
              "      <th>studied_credits</th>\n",
              "      <th>disability</th>\n",
              "      <th>final_result</th>\n",
              "      <th>sum_click</th>\n",
              "      <th>id_assessment</th>\n",
              "      <th>date_submitted</th>\n",
              "      <th>is_banked</th>\n",
              "      <th>score</th>\n",
              "    </tr>\n",
              "  </thead>\n",
              "  <tbody>\n",
              "    <tr>\n",
              "      <th>0</th>\n",
              "      <td>AAA</td>\n",
              "      <td>2013J</td>\n",
              "      <td>11391</td>\n",
              "      <td>M</td>\n",
              "      <td>East Anglian Region</td>\n",
              "      <td>HE Qualification</td>\n",
              "      <td>90-100%</td>\n",
              "      <td>55&lt;=</td>\n",
              "      <td>0</td>\n",
              "      <td>240</td>\n",
              "      <td>N</td>\n",
              "      <td>Pass</td>\n",
              "      <td>934.0</td>\n",
              "      <td>1752.0</td>\n",
              "      <td>18.0</td>\n",
              "      <td>0.0</td>\n",
              "      <td>78.0</td>\n",
              "    </tr>\n",
              "    <tr>\n",
              "      <th>1</th>\n",
              "      <td>AAA</td>\n",
              "      <td>2013J</td>\n",
              "      <td>11391</td>\n",
              "      <td>M</td>\n",
              "      <td>East Anglian Region</td>\n",
              "      <td>HE Qualification</td>\n",
              "      <td>90-100%</td>\n",
              "      <td>55&lt;=</td>\n",
              "      <td>0</td>\n",
              "      <td>240</td>\n",
              "      <td>N</td>\n",
              "      <td>Pass</td>\n",
              "      <td>934.0</td>\n",
              "      <td>1753.0</td>\n",
              "      <td>53.0</td>\n",
              "      <td>0.0</td>\n",
              "      <td>85.0</td>\n",
              "    </tr>\n",
              "    <tr>\n",
              "      <th>2</th>\n",
              "      <td>AAA</td>\n",
              "      <td>2013J</td>\n",
              "      <td>11391</td>\n",
              "      <td>M</td>\n",
              "      <td>East Anglian Region</td>\n",
              "      <td>HE Qualification</td>\n",
              "      <td>90-100%</td>\n",
              "      <td>55&lt;=</td>\n",
              "      <td>0</td>\n",
              "      <td>240</td>\n",
              "      <td>N</td>\n",
              "      <td>Pass</td>\n",
              "      <td>934.0</td>\n",
              "      <td>1754.0</td>\n",
              "      <td>115.0</td>\n",
              "      <td>0.0</td>\n",
              "      <td>80.0</td>\n",
              "    </tr>\n",
              "    <tr>\n",
              "      <th>3</th>\n",
              "      <td>AAA</td>\n",
              "      <td>2013J</td>\n",
              "      <td>11391</td>\n",
              "      <td>M</td>\n",
              "      <td>East Anglian Region</td>\n",
              "      <td>HE Qualification</td>\n",
              "      <td>90-100%</td>\n",
              "      <td>55&lt;=</td>\n",
              "      <td>0</td>\n",
              "      <td>240</td>\n",
              "      <td>N</td>\n",
              "      <td>Pass</td>\n",
              "      <td>934.0</td>\n",
              "      <td>1755.0</td>\n",
              "      <td>164.0</td>\n",
              "      <td>0.0</td>\n",
              "      <td>85.0</td>\n",
              "    </tr>\n",
              "    <tr>\n",
              "      <th>4</th>\n",
              "      <td>AAA</td>\n",
              "      <td>2013J</td>\n",
              "      <td>11391</td>\n",
              "      <td>M</td>\n",
              "      <td>East Anglian Region</td>\n",
              "      <td>HE Qualification</td>\n",
              "      <td>90-100%</td>\n",
              "      <td>55&lt;=</td>\n",
              "      <td>0</td>\n",
              "      <td>240</td>\n",
              "      <td>N</td>\n",
              "      <td>Pass</td>\n",
              "      <td>934.0</td>\n",
              "      <td>1756.0</td>\n",
              "      <td>212.0</td>\n",
              "      <td>0.0</td>\n",
              "      <td>82.0</td>\n",
              "    </tr>\n",
              "  </tbody>\n",
              "</table>\n",
              "</div>\n",
              "    <div class=\"colab-df-buttons\">\n",
              "\n",
              "  <div class=\"colab-df-container\">\n",
              "    <button class=\"colab-df-convert\" onclick=\"convertToInteractive('df-7cbc152b-d624-45d8-9be7-2396b0632622')\"\n",
              "            title=\"Convert this dataframe to an interactive table.\"\n",
              "            style=\"display:none;\">\n",
              "\n",
              "  <svg xmlns=\"http://www.w3.org/2000/svg\" height=\"24px\" viewBox=\"0 -960 960 960\">\n",
              "    <path d=\"M120-120v-720h720v720H120Zm60-500h600v-160H180v160Zm220 220h160v-160H400v160Zm0 220h160v-160H400v160ZM180-400h160v-160H180v160Zm440 0h160v-160H620v160ZM180-180h160v-160H180v160Zm440 0h160v-160H620v160Z\"/>\n",
              "  </svg>\n",
              "    </button>\n",
              "\n",
              "  <style>\n",
              "    .colab-df-container {\n",
              "      display:flex;\n",
              "      gap: 12px;\n",
              "    }\n",
              "\n",
              "    .colab-df-convert {\n",
              "      background-color: #E8F0FE;\n",
              "      border: none;\n",
              "      border-radius: 50%;\n",
              "      cursor: pointer;\n",
              "      display: none;\n",
              "      fill: #1967D2;\n",
              "      height: 32px;\n",
              "      padding: 0 0 0 0;\n",
              "      width: 32px;\n",
              "    }\n",
              "\n",
              "    .colab-df-convert:hover {\n",
              "      background-color: #E2EBFA;\n",
              "      box-shadow: 0px 1px 2px rgba(60, 64, 67, 0.3), 0px 1px 3px 1px rgba(60, 64, 67, 0.15);\n",
              "      fill: #174EA6;\n",
              "    }\n",
              "\n",
              "    .colab-df-buttons div {\n",
              "      margin-bottom: 4px;\n",
              "    }\n",
              "\n",
              "    [theme=dark] .colab-df-convert {\n",
              "      background-color: #3B4455;\n",
              "      fill: #D2E3FC;\n",
              "    }\n",
              "\n",
              "    [theme=dark] .colab-df-convert:hover {\n",
              "      background-color: #434B5C;\n",
              "      box-shadow: 0px 1px 3px 1px rgba(0, 0, 0, 0.15);\n",
              "      filter: drop-shadow(0px 1px 2px rgba(0, 0, 0, 0.3));\n",
              "      fill: #FFFFFF;\n",
              "    }\n",
              "  </style>\n",
              "\n",
              "    <script>\n",
              "      const buttonEl =\n",
              "        document.querySelector('#df-7cbc152b-d624-45d8-9be7-2396b0632622 button.colab-df-convert');\n",
              "      buttonEl.style.display =\n",
              "        google.colab.kernel.accessAllowed ? 'block' : 'none';\n",
              "\n",
              "      async function convertToInteractive(key) {\n",
              "        const element = document.querySelector('#df-7cbc152b-d624-45d8-9be7-2396b0632622');\n",
              "        const dataTable =\n",
              "          await google.colab.kernel.invokeFunction('convertToInteractive',\n",
              "                                                    [key], {});\n",
              "        if (!dataTable) return;\n",
              "\n",
              "        const docLinkHtml = 'Like what you see? Visit the ' +\n",
              "          '<a target=\"_blank\" href=https://colab.research.google.com/notebooks/data_table.ipynb>data table notebook</a>'\n",
              "          + ' to learn more about interactive tables.';\n",
              "        element.innerHTML = '';\n",
              "        dataTable['output_type'] = 'display_data';\n",
              "        await google.colab.output.renderOutput(dataTable, element);\n",
              "        const docLink = document.createElement('div');\n",
              "        docLink.innerHTML = docLinkHtml;\n",
              "        element.appendChild(docLink);\n",
              "      }\n",
              "    </script>\n",
              "  </div>\n",
              "\n",
              "\n",
              "    <div id=\"df-ca82c554-77ec-4639-9fdf-60933649534b\">\n",
              "      <button class=\"colab-df-quickchart\" onclick=\"quickchart('df-ca82c554-77ec-4639-9fdf-60933649534b')\"\n",
              "                title=\"Suggest charts\"\n",
              "                style=\"display:none;\">\n",
              "\n",
              "<svg xmlns=\"http://www.w3.org/2000/svg\" height=\"24px\"viewBox=\"0 0 24 24\"\n",
              "     width=\"24px\">\n",
              "    <g>\n",
              "        <path d=\"M19 3H5c-1.1 0-2 .9-2 2v14c0 1.1.9 2 2 2h14c1.1 0 2-.9 2-2V5c0-1.1-.9-2-2-2zM9 17H7v-7h2v7zm4 0h-2V7h2v10zm4 0h-2v-4h2v4z\"/>\n",
              "    </g>\n",
              "</svg>\n",
              "      </button>\n",
              "\n",
              "<style>\n",
              "  .colab-df-quickchart {\n",
              "      --bg-color: #E8F0FE;\n",
              "      --fill-color: #1967D2;\n",
              "      --hover-bg-color: #E2EBFA;\n",
              "      --hover-fill-color: #174EA6;\n",
              "      --disabled-fill-color: #AAA;\n",
              "      --disabled-bg-color: #DDD;\n",
              "  }\n",
              "\n",
              "  [theme=dark] .colab-df-quickchart {\n",
              "      --bg-color: #3B4455;\n",
              "      --fill-color: #D2E3FC;\n",
              "      --hover-bg-color: #434B5C;\n",
              "      --hover-fill-color: #FFFFFF;\n",
              "      --disabled-bg-color: #3B4455;\n",
              "      --disabled-fill-color: #666;\n",
              "  }\n",
              "\n",
              "  .colab-df-quickchart {\n",
              "    background-color: var(--bg-color);\n",
              "    border: none;\n",
              "    border-radius: 50%;\n",
              "    cursor: pointer;\n",
              "    display: none;\n",
              "    fill: var(--fill-color);\n",
              "    height: 32px;\n",
              "    padding: 0;\n",
              "    width: 32px;\n",
              "  }\n",
              "\n",
              "  .colab-df-quickchart:hover {\n",
              "    background-color: var(--hover-bg-color);\n",
              "    box-shadow: 0 1px 2px rgba(60, 64, 67, 0.3), 0 1px 3px 1px rgba(60, 64, 67, 0.15);\n",
              "    fill: var(--button-hover-fill-color);\n",
              "  }\n",
              "\n",
              "  .colab-df-quickchart-complete:disabled,\n",
              "  .colab-df-quickchart-complete:disabled:hover {\n",
              "    background-color: var(--disabled-bg-color);\n",
              "    fill: var(--disabled-fill-color);\n",
              "    box-shadow: none;\n",
              "  }\n",
              "\n",
              "  .colab-df-spinner {\n",
              "    border: 2px solid var(--fill-color);\n",
              "    border-color: transparent;\n",
              "    border-bottom-color: var(--fill-color);\n",
              "    animation:\n",
              "      spin 1s steps(1) infinite;\n",
              "  }\n",
              "\n",
              "  @keyframes spin {\n",
              "    0% {\n",
              "      border-color: transparent;\n",
              "      border-bottom-color: var(--fill-color);\n",
              "      border-left-color: var(--fill-color);\n",
              "    }\n",
              "    20% {\n",
              "      border-color: transparent;\n",
              "      border-left-color: var(--fill-color);\n",
              "      border-top-color: var(--fill-color);\n",
              "    }\n",
              "    30% {\n",
              "      border-color: transparent;\n",
              "      border-left-color: var(--fill-color);\n",
              "      border-top-color: var(--fill-color);\n",
              "      border-right-color: var(--fill-color);\n",
              "    }\n",
              "    40% {\n",
              "      border-color: transparent;\n",
              "      border-right-color: var(--fill-color);\n",
              "      border-top-color: var(--fill-color);\n",
              "    }\n",
              "    60% {\n",
              "      border-color: transparent;\n",
              "      border-right-color: var(--fill-color);\n",
              "    }\n",
              "    80% {\n",
              "      border-color: transparent;\n",
              "      border-right-color: var(--fill-color);\n",
              "      border-bottom-color: var(--fill-color);\n",
              "    }\n",
              "    90% {\n",
              "      border-color: transparent;\n",
              "      border-bottom-color: var(--fill-color);\n",
              "    }\n",
              "  }\n",
              "</style>\n",
              "\n",
              "      <script>\n",
              "        async function quickchart(key) {\n",
              "          const quickchartButtonEl =\n",
              "            document.querySelector('#' + key + ' button');\n",
              "          quickchartButtonEl.disabled = true;  // To prevent multiple clicks.\n",
              "          quickchartButtonEl.classList.add('colab-df-spinner');\n",
              "          try {\n",
              "            const charts = await google.colab.kernel.invokeFunction(\n",
              "                'suggestCharts', [key], {});\n",
              "          } catch (error) {\n",
              "            console.error('Error during call to suggestCharts:', error);\n",
              "          }\n",
              "          quickchartButtonEl.classList.remove('colab-df-spinner');\n",
              "          quickchartButtonEl.classList.add('colab-df-quickchart-complete');\n",
              "        }\n",
              "        (() => {\n",
              "          let quickchartButtonEl =\n",
              "            document.querySelector('#df-ca82c554-77ec-4639-9fdf-60933649534b button');\n",
              "          quickchartButtonEl.style.display =\n",
              "            google.colab.kernel.accessAllowed ? 'block' : 'none';\n",
              "        })();\n",
              "      </script>\n",
              "    </div>\n",
              "\n",
              "    </div>\n",
              "  </div>\n"
            ],
            "application/vnd.google.colaboratory.intrinsic+json": {
              "type": "dataframe",
              "variable_name": "merged_df"
            }
          },
          "metadata": {},
          "execution_count": 53
        }
      ],
      "source": [
        "# Merge studentInfo with aggregated clicks\n",
        "merged_df = pd.merge(student_info, student_vle, on=\"id_student\", how=\"left\")\n",
        "\n",
        "# Merge with studentAssessment\n",
        "merged_df = pd.merge(merged_df, student_assessment, on=\"id_student\", how=\"left\")\n",
        "\n",
        "print(\"Final merged_df shape:\", merged_df.shape)\n",
        "merged_df.head()\n",
        "\n"
      ]
    },
    {
      "cell_type": "markdown",
      "metadata": {
        "id": "-H1r2K5hip9D"
      },
      "source": [
        "# Step 5 – Save the Merged Dataset"
      ]
    },
    {
      "cell_type": "code",
      "execution_count": 54,
      "metadata": {
        "colab": {
          "base_uri": "https://localhost:8080/"
        },
        "id": "rnlMitDjilST",
        "outputId": "4bafb52b-f8e1-41e3-beda-ff88cbd64b18"
      },
      "outputs": [
        {
          "output_type": "stream",
          "name": "stdout",
          "text": [
            "Merged dataset saved as OULAD_merged_small.csv\n"
          ]
        }
      ],
      "source": [
        "merged_df.to_csv(\"OULAD_merged_small.csv\", index=False)\n",
        "print(\"Merged dataset saved as OULAD_merged_small.csv\")\n"
      ]
    },
    {
      "cell_type": "markdown",
      "metadata": {
        "id": "xsLFoPTXi06T"
      },
      "source": [
        "# **📌 Phase 2 – Data Cleaning & Preprocessing for merged OULAD dataset.**"
      ]
    },
    {
      "cell_type": "markdown",
      "metadata": {
        "id": "Nt1xUU_BjLRq"
      },
      "source": [
        "# Step 1 – Load the Merged Dataset"
      ]
    },
    {
      "cell_type": "code",
      "execution_count": 55,
      "metadata": {
        "colab": {
          "base_uri": "https://localhost:8080/",
          "height": 418
        },
        "id": "bIRQRckXjM9d",
        "outputId": "89f576dc-b1ae-45c3-fe8f-e7ed3edfcecc"
      },
      "outputs": [
        {
          "output_type": "stream",
          "name": "stdout",
          "text": [
            "Dataset shape: (213166, 17)\n"
          ]
        },
        {
          "output_type": "execute_result",
          "data": {
            "text/plain": [
              "  code_module code_presentation  id_student gender               region  \\\n",
              "0         AAA             2013J       11391      M  East Anglian Region   \n",
              "1         AAA             2013J       11391      M  East Anglian Region   \n",
              "2         AAA             2013J       11391      M  East Anglian Region   \n",
              "3         AAA             2013J       11391      M  East Anglian Region   \n",
              "4         AAA             2013J       11391      M  East Anglian Region   \n",
              "\n",
              "  highest_education imd_band age_band  num_of_prev_attempts  studied_credits  \\\n",
              "0  HE Qualification  90-100%     55<=                     0              240   \n",
              "1  HE Qualification  90-100%     55<=                     0              240   \n",
              "2  HE Qualification  90-100%     55<=                     0              240   \n",
              "3  HE Qualification  90-100%     55<=                     0              240   \n",
              "4  HE Qualification  90-100%     55<=                     0              240   \n",
              "\n",
              "  disability final_result  sum_click  id_assessment  date_submitted  \\\n",
              "0          N         Pass      934.0         1752.0            18.0   \n",
              "1          N         Pass      934.0         1753.0            53.0   \n",
              "2          N         Pass      934.0         1754.0           115.0   \n",
              "3          N         Pass      934.0         1755.0           164.0   \n",
              "4          N         Pass      934.0         1756.0           212.0   \n",
              "\n",
              "   is_banked  score  \n",
              "0        0.0   78.0  \n",
              "1        0.0   85.0  \n",
              "2        0.0   80.0  \n",
              "3        0.0   85.0  \n",
              "4        0.0   82.0  "
            ],
            "text/html": [
              "\n",
              "  <div id=\"df-d85e9d59-8ae4-4508-a023-94112534261a\" class=\"colab-df-container\">\n",
              "    <div>\n",
              "<style scoped>\n",
              "    .dataframe tbody tr th:only-of-type {\n",
              "        vertical-align: middle;\n",
              "    }\n",
              "\n",
              "    .dataframe tbody tr th {\n",
              "        vertical-align: top;\n",
              "    }\n",
              "\n",
              "    .dataframe thead th {\n",
              "        text-align: right;\n",
              "    }\n",
              "</style>\n",
              "<table border=\"1\" class=\"dataframe\">\n",
              "  <thead>\n",
              "    <tr style=\"text-align: right;\">\n",
              "      <th></th>\n",
              "      <th>code_module</th>\n",
              "      <th>code_presentation</th>\n",
              "      <th>id_student</th>\n",
              "      <th>gender</th>\n",
              "      <th>region</th>\n",
              "      <th>highest_education</th>\n",
              "      <th>imd_band</th>\n",
              "      <th>age_band</th>\n",
              "      <th>num_of_prev_attempts</th>\n",
              "      <th>studied_credits</th>\n",
              "      <th>disability</th>\n",
              "      <th>final_result</th>\n",
              "      <th>sum_click</th>\n",
              "      <th>id_assessment</th>\n",
              "      <th>date_submitted</th>\n",
              "      <th>is_banked</th>\n",
              "      <th>score</th>\n",
              "    </tr>\n",
              "  </thead>\n",
              "  <tbody>\n",
              "    <tr>\n",
              "      <th>0</th>\n",
              "      <td>AAA</td>\n",
              "      <td>2013J</td>\n",
              "      <td>11391</td>\n",
              "      <td>M</td>\n",
              "      <td>East Anglian Region</td>\n",
              "      <td>HE Qualification</td>\n",
              "      <td>90-100%</td>\n",
              "      <td>55&lt;=</td>\n",
              "      <td>0</td>\n",
              "      <td>240</td>\n",
              "      <td>N</td>\n",
              "      <td>Pass</td>\n",
              "      <td>934.0</td>\n",
              "      <td>1752.0</td>\n",
              "      <td>18.0</td>\n",
              "      <td>0.0</td>\n",
              "      <td>78.0</td>\n",
              "    </tr>\n",
              "    <tr>\n",
              "      <th>1</th>\n",
              "      <td>AAA</td>\n",
              "      <td>2013J</td>\n",
              "      <td>11391</td>\n",
              "      <td>M</td>\n",
              "      <td>East Anglian Region</td>\n",
              "      <td>HE Qualification</td>\n",
              "      <td>90-100%</td>\n",
              "      <td>55&lt;=</td>\n",
              "      <td>0</td>\n",
              "      <td>240</td>\n",
              "      <td>N</td>\n",
              "      <td>Pass</td>\n",
              "      <td>934.0</td>\n",
              "      <td>1753.0</td>\n",
              "      <td>53.0</td>\n",
              "      <td>0.0</td>\n",
              "      <td>85.0</td>\n",
              "    </tr>\n",
              "    <tr>\n",
              "      <th>2</th>\n",
              "      <td>AAA</td>\n",
              "      <td>2013J</td>\n",
              "      <td>11391</td>\n",
              "      <td>M</td>\n",
              "      <td>East Anglian Region</td>\n",
              "      <td>HE Qualification</td>\n",
              "      <td>90-100%</td>\n",
              "      <td>55&lt;=</td>\n",
              "      <td>0</td>\n",
              "      <td>240</td>\n",
              "      <td>N</td>\n",
              "      <td>Pass</td>\n",
              "      <td>934.0</td>\n",
              "      <td>1754.0</td>\n",
              "      <td>115.0</td>\n",
              "      <td>0.0</td>\n",
              "      <td>80.0</td>\n",
              "    </tr>\n",
              "    <tr>\n",
              "      <th>3</th>\n",
              "      <td>AAA</td>\n",
              "      <td>2013J</td>\n",
              "      <td>11391</td>\n",
              "      <td>M</td>\n",
              "      <td>East Anglian Region</td>\n",
              "      <td>HE Qualification</td>\n",
              "      <td>90-100%</td>\n",
              "      <td>55&lt;=</td>\n",
              "      <td>0</td>\n",
              "      <td>240</td>\n",
              "      <td>N</td>\n",
              "      <td>Pass</td>\n",
              "      <td>934.0</td>\n",
              "      <td>1755.0</td>\n",
              "      <td>164.0</td>\n",
              "      <td>0.0</td>\n",
              "      <td>85.0</td>\n",
              "    </tr>\n",
              "    <tr>\n",
              "      <th>4</th>\n",
              "      <td>AAA</td>\n",
              "      <td>2013J</td>\n",
              "      <td>11391</td>\n",
              "      <td>M</td>\n",
              "      <td>East Anglian Region</td>\n",
              "      <td>HE Qualification</td>\n",
              "      <td>90-100%</td>\n",
              "      <td>55&lt;=</td>\n",
              "      <td>0</td>\n",
              "      <td>240</td>\n",
              "      <td>N</td>\n",
              "      <td>Pass</td>\n",
              "      <td>934.0</td>\n",
              "      <td>1756.0</td>\n",
              "      <td>212.0</td>\n",
              "      <td>0.0</td>\n",
              "      <td>82.0</td>\n",
              "    </tr>\n",
              "  </tbody>\n",
              "</table>\n",
              "</div>\n",
              "    <div class=\"colab-df-buttons\">\n",
              "\n",
              "  <div class=\"colab-df-container\">\n",
              "    <button class=\"colab-df-convert\" onclick=\"convertToInteractive('df-d85e9d59-8ae4-4508-a023-94112534261a')\"\n",
              "            title=\"Convert this dataframe to an interactive table.\"\n",
              "            style=\"display:none;\">\n",
              "\n",
              "  <svg xmlns=\"http://www.w3.org/2000/svg\" height=\"24px\" viewBox=\"0 -960 960 960\">\n",
              "    <path d=\"M120-120v-720h720v720H120Zm60-500h600v-160H180v160Zm220 220h160v-160H400v160Zm0 220h160v-160H400v160ZM180-400h160v-160H180v160Zm440 0h160v-160H620v160ZM180-180h160v-160H180v160Zm440 0h160v-160H620v160Z\"/>\n",
              "  </svg>\n",
              "    </button>\n",
              "\n",
              "  <style>\n",
              "    .colab-df-container {\n",
              "      display:flex;\n",
              "      gap: 12px;\n",
              "    }\n",
              "\n",
              "    .colab-df-convert {\n",
              "      background-color: #E8F0FE;\n",
              "      border: none;\n",
              "      border-radius: 50%;\n",
              "      cursor: pointer;\n",
              "      display: none;\n",
              "      fill: #1967D2;\n",
              "      height: 32px;\n",
              "      padding: 0 0 0 0;\n",
              "      width: 32px;\n",
              "    }\n",
              "\n",
              "    .colab-df-convert:hover {\n",
              "      background-color: #E2EBFA;\n",
              "      box-shadow: 0px 1px 2px rgba(60, 64, 67, 0.3), 0px 1px 3px 1px rgba(60, 64, 67, 0.15);\n",
              "      fill: #174EA6;\n",
              "    }\n",
              "\n",
              "    .colab-df-buttons div {\n",
              "      margin-bottom: 4px;\n",
              "    }\n",
              "\n",
              "    [theme=dark] .colab-df-convert {\n",
              "      background-color: #3B4455;\n",
              "      fill: #D2E3FC;\n",
              "    }\n",
              "\n",
              "    [theme=dark] .colab-df-convert:hover {\n",
              "      background-color: #434B5C;\n",
              "      box-shadow: 0px 1px 3px 1px rgba(0, 0, 0, 0.15);\n",
              "      filter: drop-shadow(0px 1px 2px rgba(0, 0, 0, 0.3));\n",
              "      fill: #FFFFFF;\n",
              "    }\n",
              "  </style>\n",
              "\n",
              "    <script>\n",
              "      const buttonEl =\n",
              "        document.querySelector('#df-d85e9d59-8ae4-4508-a023-94112534261a button.colab-df-convert');\n",
              "      buttonEl.style.display =\n",
              "        google.colab.kernel.accessAllowed ? 'block' : 'none';\n",
              "\n",
              "      async function convertToInteractive(key) {\n",
              "        const element = document.querySelector('#df-d85e9d59-8ae4-4508-a023-94112534261a');\n",
              "        const dataTable =\n",
              "          await google.colab.kernel.invokeFunction('convertToInteractive',\n",
              "                                                    [key], {});\n",
              "        if (!dataTable) return;\n",
              "\n",
              "        const docLinkHtml = 'Like what you see? Visit the ' +\n",
              "          '<a target=\"_blank\" href=https://colab.research.google.com/notebooks/data_table.ipynb>data table notebook</a>'\n",
              "          + ' to learn more about interactive tables.';\n",
              "        element.innerHTML = '';\n",
              "        dataTable['output_type'] = 'display_data';\n",
              "        await google.colab.output.renderOutput(dataTable, element);\n",
              "        const docLink = document.createElement('div');\n",
              "        docLink.innerHTML = docLinkHtml;\n",
              "        element.appendChild(docLink);\n",
              "      }\n",
              "    </script>\n",
              "  </div>\n",
              "\n",
              "\n",
              "    <div id=\"df-205973b8-2220-4b31-a363-22f7ef222273\">\n",
              "      <button class=\"colab-df-quickchart\" onclick=\"quickchart('df-205973b8-2220-4b31-a363-22f7ef222273')\"\n",
              "                title=\"Suggest charts\"\n",
              "                style=\"display:none;\">\n",
              "\n",
              "<svg xmlns=\"http://www.w3.org/2000/svg\" height=\"24px\"viewBox=\"0 0 24 24\"\n",
              "     width=\"24px\">\n",
              "    <g>\n",
              "        <path d=\"M19 3H5c-1.1 0-2 .9-2 2v14c0 1.1.9 2 2 2h14c1.1 0 2-.9 2-2V5c0-1.1-.9-2-2-2zM9 17H7v-7h2v7zm4 0h-2V7h2v10zm4 0h-2v-4h2v4z\"/>\n",
              "    </g>\n",
              "</svg>\n",
              "      </button>\n",
              "\n",
              "<style>\n",
              "  .colab-df-quickchart {\n",
              "      --bg-color: #E8F0FE;\n",
              "      --fill-color: #1967D2;\n",
              "      --hover-bg-color: #E2EBFA;\n",
              "      --hover-fill-color: #174EA6;\n",
              "      --disabled-fill-color: #AAA;\n",
              "      --disabled-bg-color: #DDD;\n",
              "  }\n",
              "\n",
              "  [theme=dark] .colab-df-quickchart {\n",
              "      --bg-color: #3B4455;\n",
              "      --fill-color: #D2E3FC;\n",
              "      --hover-bg-color: #434B5C;\n",
              "      --hover-fill-color: #FFFFFF;\n",
              "      --disabled-bg-color: #3B4455;\n",
              "      --disabled-fill-color: #666;\n",
              "  }\n",
              "\n",
              "  .colab-df-quickchart {\n",
              "    background-color: var(--bg-color);\n",
              "    border: none;\n",
              "    border-radius: 50%;\n",
              "    cursor: pointer;\n",
              "    display: none;\n",
              "    fill: var(--fill-color);\n",
              "    height: 32px;\n",
              "    padding: 0;\n",
              "    width: 32px;\n",
              "  }\n",
              "\n",
              "  .colab-df-quickchart:hover {\n",
              "    background-color: var(--hover-bg-color);\n",
              "    box-shadow: 0 1px 2px rgba(60, 64, 67, 0.3), 0 1px 3px 1px rgba(60, 64, 67, 0.15);\n",
              "    fill: var(--button-hover-fill-color);\n",
              "  }\n",
              "\n",
              "  .colab-df-quickchart-complete:disabled,\n",
              "  .colab-df-quickchart-complete:disabled:hover {\n",
              "    background-color: var(--disabled-bg-color);\n",
              "    fill: var(--disabled-fill-color);\n",
              "    box-shadow: none;\n",
              "  }\n",
              "\n",
              "  .colab-df-spinner {\n",
              "    border: 2px solid var(--fill-color);\n",
              "    border-color: transparent;\n",
              "    border-bottom-color: var(--fill-color);\n",
              "    animation:\n",
              "      spin 1s steps(1) infinite;\n",
              "  }\n",
              "\n",
              "  @keyframes spin {\n",
              "    0% {\n",
              "      border-color: transparent;\n",
              "      border-bottom-color: var(--fill-color);\n",
              "      border-left-color: var(--fill-color);\n",
              "    }\n",
              "    20% {\n",
              "      border-color: transparent;\n",
              "      border-left-color: var(--fill-color);\n",
              "      border-top-color: var(--fill-color);\n",
              "    }\n",
              "    30% {\n",
              "      border-color: transparent;\n",
              "      border-left-color: var(--fill-color);\n",
              "      border-top-color: var(--fill-color);\n",
              "      border-right-color: var(--fill-color);\n",
              "    }\n",
              "    40% {\n",
              "      border-color: transparent;\n",
              "      border-right-color: var(--fill-color);\n",
              "      border-top-color: var(--fill-color);\n",
              "    }\n",
              "    60% {\n",
              "      border-color: transparent;\n",
              "      border-right-color: var(--fill-color);\n",
              "    }\n",
              "    80% {\n",
              "      border-color: transparent;\n",
              "      border-right-color: var(--fill-color);\n",
              "      border-bottom-color: var(--fill-color);\n",
              "    }\n",
              "    90% {\n",
              "      border-color: transparent;\n",
              "      border-bottom-color: var(--fill-color);\n",
              "    }\n",
              "  }\n",
              "</style>\n",
              "\n",
              "      <script>\n",
              "        async function quickchart(key) {\n",
              "          const quickchartButtonEl =\n",
              "            document.querySelector('#' + key + ' button');\n",
              "          quickchartButtonEl.disabled = true;  // To prevent multiple clicks.\n",
              "          quickchartButtonEl.classList.add('colab-df-spinner');\n",
              "          try {\n",
              "            const charts = await google.colab.kernel.invokeFunction(\n",
              "                'suggestCharts', [key], {});\n",
              "          } catch (error) {\n",
              "            console.error('Error during call to suggestCharts:', error);\n",
              "          }\n",
              "          quickchartButtonEl.classList.remove('colab-df-spinner');\n",
              "          quickchartButtonEl.classList.add('colab-df-quickchart-complete');\n",
              "        }\n",
              "        (() => {\n",
              "          let quickchartButtonEl =\n",
              "            document.querySelector('#df-205973b8-2220-4b31-a363-22f7ef222273 button');\n",
              "          quickchartButtonEl.style.display =\n",
              "            google.colab.kernel.accessAllowed ? 'block' : 'none';\n",
              "        })();\n",
              "      </script>\n",
              "    </div>\n",
              "\n",
              "    </div>\n",
              "  </div>\n"
            ],
            "application/vnd.google.colaboratory.intrinsic+json": {
              "type": "dataframe",
              "variable_name": "merged_df"
            }
          },
          "metadata": {},
          "execution_count": 55
        }
      ],
      "source": [
        "import pandas as pd\n",
        "\n",
        "merged_df = pd.read_csv(\"OULAD_merged_small.csv\")\n",
        "print(\"Dataset shape:\", merged_df.shape)\n",
        "merged_df.head()\n"
      ]
    },
    {
      "cell_type": "markdown",
      "metadata": {
        "id": "zrq7fLufjQ16"
      },
      "source": [
        "# Step 2 – Check for Missing Values"
      ]
    },
    {
      "cell_type": "code",
      "execution_count": 56,
      "metadata": {
        "colab": {
          "base_uri": "https://localhost:8080/"
        },
        "id": "wkAkz6tllDek",
        "outputId": "89bc00da-d238-427d-eb03-99a0f1101556"
      },
      "outputs": [
        {
          "output_type": "stream",
          "name": "stdout",
          "text": [
            "imd_band          9413\n",
            "sum_click         2904\n",
            "id_assessment     5847\n",
            "date_submitted    5847\n",
            "is_banked         5847\n",
            "score             6074\n",
            "dtype: int64\n"
          ]
        }
      ],
      "source": [
        "# Count missing values per column\n",
        "missing_counts = merged_df.isnull().sum()\n",
        "print(missing_counts[missing_counts > 0])\n"
      ]
    },
    {
      "cell_type": "markdown",
      "metadata": {
        "id": "LFs81ha3lHiy"
      },
      "source": [
        "# Step 3 – Handle Missing Values\n",
        "\n",
        "We’ll:\n",
        "\n",
        "Fill missing sum_click with 0 (no clicks recorded)\n",
        "\n",
        "Fill missing score in assessments with mean (or drop if too many)\n",
        "\n",
        "For categorical columns, fill with \"Unknown\""
      ]
    },
    {
      "cell_type": "code",
      "execution_count": 57,
      "metadata": {
        "id": "c1J-Kkj3lJA7"
      },
      "outputs": [],
      "source": [
        "# Fill numeric NaN values\n",
        "merged_df[\"sum_click\"] = merged_df[\"sum_click\"].fillna(0)\n",
        "merged_df[\"score\"] = merged_df[\"score\"].fillna(merged_df[\"score\"].mean())\n",
        "\n",
        "# Fill missing values in assessment-related columns after merge\n",
        "merged_df[\"id_assessment\"] = merged_df[\"id_assessment\"].fillna(0) # Assuming 0 or another placeholder is appropriate for missing assessment IDs\n",
        "merged_df[\"date_submitted\"] = merged_df[\"date_submitted\"].fillna(0) # Assuming 0 or another placeholder is appropriate for missing submission dates\n",
        "merged_df[\"is_banked\"] = merged_df[\"is_banked\"].fillna(0) # Assuming 0 is appropriate for missing 'is_banked' status\n",
        "\n",
        "# Fill categorical NaN values\n",
        "for col in merged_df.select_dtypes(include=\"object\").columns:\n",
        "    merged_df[col] = merged_df[col].fillna(\"Unknown\")"
      ]
    },
    {
      "cell_type": "markdown",
      "metadata": {
        "id": "xAitK-AmlM6T"
      },
      "source": [
        "# Step 4 – Encode Categorical Variables\n",
        "\n",
        "We’ll use Label Encoding for simplicity."
      ]
    },
    {
      "cell_type": "code",
      "execution_count": 58,
      "metadata": {
        "id": "WaXrmTrxlOTs"
      },
      "outputs": [],
      "source": [
        "from sklearn.preprocessing import LabelEncoder\n",
        "\n",
        "label_encoders = {}\n",
        "for col in merged_df.select_dtypes(include=\"object\").columns:\n",
        "    le = LabelEncoder()\n",
        "    merged_df[col] = le.fit_transform(merged_df[col])\n",
        "    label_encoders[col] = le\n"
      ]
    },
    {
      "cell_type": "markdown",
      "metadata": {
        "id": "RGYJnfrgliS_"
      },
      "source": [
        "# Step 5 – Create Dropout Label\n",
        "\n",
        "We define dropout as final_result == 'Withdrawn'"
      ]
    },
    {
      "cell_type": "code",
      "execution_count": 59,
      "metadata": {
        "colab": {
          "base_uri": "https://localhost:8080/"
        },
        "id": "hIZ0a9gQljw6",
        "outputId": "de60de4d-4d47-406e-f034-0b87193aba01"
      },
      "outputs": [
        {
          "output_type": "stream",
          "name": "stdout",
          "text": [
            "dropout\n",
            "0    182544\n",
            "1     30622\n",
            "Name: count, dtype: int64\n"
          ]
        }
      ],
      "source": [
        "# If using original dataset (before label encoding):\n",
        "# merged_df[\"dropout\"] = merged_df[\"final_result\"].apply(lambda x: 1 if x == \"Withdrawn\" else 0)\n",
        "\n",
        "# If already label encoded, get code for \"Withdrawn\"\n",
        "# First, get the inverse transform to see what each number means\n",
        "result_le = label_encoders[\"final_result\"]\n",
        "withdrawn_code = list(result_le.classes_).index(\"Withdrawn\")\n",
        "\n",
        "merged_df[\"dropout\"] = merged_df[\"final_result\"].apply(lambda x: 1 if x == withdrawn_code else 0)\n",
        "\n",
        "print(merged_df[\"dropout\"].value_counts())\n"
      ]
    },
    {
      "cell_type": "markdown",
      "metadata": {
        "id": "P1vj8Sw8ltRD"
      },
      "source": [
        "# Step 6 – Final Check Before Modeling"
      ]
    },
    {
      "cell_type": "code",
      "execution_count": 60,
      "metadata": {
        "colab": {
          "base_uri": "https://localhost:8080/"
        },
        "id": "wI_MpkNNlvWM",
        "outputId": "628fdad4-39a5-45a0-ee5b-ca0bb972d4c3"
      },
      "outputs": [
        {
          "output_type": "stream",
          "name": "stdout",
          "text": [
            "Final dataset shape: (213166, 18)\n",
            "Columns: ['code_module', 'code_presentation', 'id_student', 'gender', 'region', 'highest_education', 'imd_band', 'age_band', 'num_of_prev_attempts', 'studied_credits', 'disability', 'final_result', 'sum_click', 'id_assessment', 'date_submitted', 'is_banked', 'score', 'dropout']\n",
            "   code_module  code_presentation  id_student  gender  region  \\\n",
            "0            0                  1       11391       1       0   \n",
            "1            0                  1       11391       1       0   \n",
            "2            0                  1       11391       1       0   \n",
            "3            0                  1       11391       1       0   \n",
            "4            0                  1       11391       1       0   \n",
            "\n",
            "   highest_education  imd_band  age_band  num_of_prev_attempts  \\\n",
            "0                  1         9         2                     0   \n",
            "1                  1         9         2                     0   \n",
            "2                  1         9         2                     0   \n",
            "3                  1         9         2                     0   \n",
            "4                  1         9         2                     0   \n",
            "\n",
            "   studied_credits  disability  final_result  sum_click  id_assessment  \\\n",
            "0              240           0             2      934.0         1752.0   \n",
            "1              240           0             2      934.0         1753.0   \n",
            "2              240           0             2      934.0         1754.0   \n",
            "3              240           0             2      934.0         1755.0   \n",
            "4              240           0             2      934.0         1756.0   \n",
            "\n",
            "   date_submitted  is_banked  score  dropout  \n",
            "0            18.0        0.0   78.0        0  \n",
            "1            53.0        0.0   85.0        0  \n",
            "2           115.0        0.0   80.0        0  \n",
            "3           164.0        0.0   85.0        0  \n",
            "4           212.0        0.0   82.0        0  \n"
          ]
        }
      ],
      "source": [
        "print(\"Final dataset shape:\", merged_df.shape)\n",
        "print(\"Columns:\", merged_df.columns.tolist())\n",
        "print(merged_df.head())\n",
        "\n"
      ]
    },
    {
      "cell_type": "markdown",
      "metadata": {
        "id": "8YG6FwEonQHF"
      },
      "source": [
        "# **📌 Phase 3 – EDA (Exploratory Data Analysis) & Feature Engineering for  cleaned OULAD dataset.**"
      ]
    },
    {
      "cell_type": "markdown",
      "metadata": {
        "id": "SlDC5_8inWkj"
      },
      "source": [
        "# Step 1 – Import Libraries for EDA"
      ]
    },
    {
      "cell_type": "code",
      "execution_count": 61,
      "metadata": {
        "id": "YLtjliHGnZHU"
      },
      "outputs": [],
      "source": [
        "import pandas as pd\n",
        "import matplotlib.pyplot as plt\n",
        "import seaborn as sns\n",
        "\n",
        "# Optional: prettier plots\n",
        "sns.set(style=\"whitegrid\", palette=\"muted\", font_scale=1.1)\n"
      ]
    },
    {
      "cell_type": "code",
      "execution_count": 62,
      "metadata": {
        "colab": {
          "base_uri": "https://localhost:8080/"
        },
        "id": "eX9i9ZV6nuca",
        "outputId": "2d42dfd6-0949-43dc-e26f-ddf51002b69e"
      },
      "outputs": [
        {
          "output_type": "stream",
          "name": "stdout",
          "text": [
            "{'aliceblue': '#F0F8FF', 'antiquewhite': '#FAEBD7', 'aqua': '#00FFFF', 'aquamarine': '#7FFFD4', 'azure': '#F0FFFF', 'beige': '#F5F5DC', 'bisque': '#FFE4C4', 'black': '#000000', 'blanchedalmond': '#FFEBCD', 'blue': '#0000FF', 'blueviolet': '#8A2BE2', 'brown': '#A52A2A', 'burlywood': '#DEB887', 'cadetblue': '#5F9EA0', 'chartreuse': '#7FFF00', 'chocolate': '#D2691E', 'coral': '#FF7F50', 'cornflowerblue': '#6495ED', 'cornsilk': '#FFF8DC', 'crimson': '#DC143C', 'cyan': '#00FFFF', 'darkblue': '#00008B', 'darkcyan': '#008B8B', 'darkgoldenrod': '#B8860B', 'darkgray': '#A9A9A9', 'darkgreen': '#006400', 'darkgrey': '#A9A9A9', 'darkkhaki': '#BDB76B', 'darkmagenta': '#8B008B', 'darkolivegreen': '#556B2F', 'darkorange': '#FF8C00', 'darkorchid': '#9932CC', 'darkred': '#8B0000', 'darksalmon': '#E9967A', 'darkseagreen': '#8FBC8F', 'darkslateblue': '#483D8B', 'darkslategray': '#2F4F4F', 'darkslategrey': '#2F4F4F', 'darkturquoise': '#00CED1', 'darkviolet': '#9400D3', 'deeppink': '#FF1493', 'deepskyblue': '#00BFFF', 'dimgray': '#696969', 'dimgrey': '#696969', 'dodgerblue': '#1E90FF', 'firebrick': '#B22222', 'floralwhite': '#FFFAF0', 'forestgreen': '#228B22', 'fuchsia': '#FF00FF', 'gainsboro': '#DCDCDC', 'ghostwhite': '#F8F8FF', 'gold': '#FFD700', 'goldenrod': '#DAA520', 'gray': '#808080', 'green': '#008000', 'greenyellow': '#ADFF2F', 'grey': '#808080', 'honeydew': '#F0FFF0', 'hotpink': '#FF69B4', 'indianred': '#CD5C5C', 'indigo': '#4B0082', 'ivory': '#FFFFF0', 'khaki': '#F0E68C', 'lavender': '#E6E6FA', 'lavenderblush': '#FFF0F5', 'lawngreen': '#7CFC00', 'lemonchiffon': '#FFFACD', 'lightblue': '#ADD8E6', 'lightcoral': '#F08080', 'lightcyan': '#E0FFFF', 'lightgoldenrodyellow': '#FAFAD2', 'lightgray': '#D3D3D3', 'lightgreen': '#90EE90', 'lightgrey': '#D3D3D3', 'lightpink': '#FFB6C1', 'lightsalmon': '#FFA07A', 'lightseagreen': '#20B2AA', 'lightskyblue': '#87CEFA', 'lightslategray': '#778899', 'lightslategrey': '#778899', 'lightsteelblue': '#B0C4DE', 'lightyellow': '#FFFFE0', 'lime': '#00FF00', 'limegreen': '#32CD32', 'linen': '#FAF0E6', 'magenta': '#FF00FF', 'maroon': '#800000', 'mediumaquamarine': '#66CDAA', 'mediumblue': '#0000CD', 'mediumorchid': '#BA55D3', 'mediumpurple': '#9370DB', 'mediumseagreen': '#3CB371', 'mediumslateblue': '#7B68EE', 'mediumspringgreen': '#00FA9A', 'mediumturquoise': '#48D1CC', 'mediumvioletred': '#C71585', 'midnightblue': '#191970', 'mintcream': '#F5FFFA', 'mistyrose': '#FFE4E1', 'moccasin': '#FFE4B5', 'navajowhite': '#FFDEAD', 'navy': '#000080', 'oldlace': '#FDF5E6', 'olive': '#808000', 'olivedrab': '#6B8E23', 'orange': '#FFA500', 'orangered': '#FF4500', 'orchid': '#DA70D6', 'palegoldenrod': '#EEE8AA', 'palegreen': '#98FB98', 'paleturquoise': '#AFEEEE', 'palevioletred': '#DB7093', 'papayawhip': '#FFEFD5', 'peachpuff': '#FFDAB9', 'peru': '#CD853F', 'pink': '#FFC0CB', 'plum': '#DDA0DD', 'powderblue': '#B0E0E6', 'purple': '#800080', 'rebeccapurple': '#663399', 'red': '#FF0000', 'rosybrown': '#BC8F8F', 'royalblue': '#4169E1', 'saddlebrown': '#8B4513', 'salmon': '#FA8072', 'sandybrown': '#F4A460', 'seagreen': '#2E8B57', 'seashell': '#FFF5EE', 'sienna': '#A0522D', 'silver': '#C0C0C0', 'skyblue': '#87CEEB', 'slateblue': '#6A5ACD', 'slategray': '#708090', 'slategrey': '#708090', 'snow': '#FFFAFA', 'springgreen': '#00FF7F', 'steelblue': '#4682B4', 'tan': '#D2B48C', 'teal': '#008080', 'thistle': '#D8BFD8', 'tomato': '#FF6347', 'turquoise': '#40E0D0', 'violet': '#EE82EE', 'wheat': '#F5DEB3', 'white': '#FFFFFF', 'whitesmoke': '#F5F5F5', 'yellow': '#FFFF00', 'yellowgreen': '#9ACD32'}\n"
          ]
        }
      ],
      "source": [
        "import matplotlib\n",
        "print(matplotlib.colors.CSS4_COLORS)\n"
      ]
    },
    {
      "cell_type": "markdown",
      "metadata": {
        "id": "lQgLdRy3nbzE"
      },
      "source": [
        "# Step 2 – Dropout Distribution"
      ]
    },
    {
      "cell_type": "markdown",
      "metadata": {
        "id": "OYczWbCe4Vwc"
      },
      "source": [
        "A simple bar plot showing how many students stayed vs dropped."
      ]
    },
    {
      "cell_type": "code",
      "execution_count": 63,
      "metadata": {
        "colab": {
          "base_uri": "https://localhost:8080/",
          "height": 422
        },
        "id": "qutSJVSvndsS",
        "outputId": "bc8b562e-bb24-4162-a91a-d137f42d24bd"
      },
      "outputs": [
        {
          "output_type": "display_data",
          "data": {
            "text/plain": [
              "<Figure size 500x400 with 1 Axes>"
            ],
            "image/png": "[encoded data removed]"
          },
          "metadata": {}
        }
      ],
      "source": [
        "plt.figure(figsize=(5, 4))\n",
        "sns.countplot(x=\"dropout\", data=merged_df, color=\"aqua\")\n",
        "plt.title(\"Dropout Distribution (0 = Stayed, 1 = Dropped)\")\n",
        "plt.xlabel(\"Dropout\")\n",
        "plt.ylabel(\"Number of Students\")\n",
        "plt.show()\n"
      ]
    },
    {
      "cell_type": "code",
      "execution_count": 64,
      "metadata": {
        "colab": {
          "base_uri": "https://localhost:8080/",
          "height": 423
        },
        "id": "jJFMzu3vK8a_",
        "outputId": "b19e9532-92f7-46cf-91b3-623bc24b10e4"
      },
      "outputs": [
        {
          "output_type": "display_data",
          "data": {
            "text/plain": [
              "<Figure size 600x400 with 1 Axes>"
            ],
            "image/png": "[encoded data removed]"
          },
          "metadata": {}
        }
      ],
      "source": [
        "import matplotlib.pyplot as plt\n",
        "import seaborn as sns\n",
        "import pandas as pd\n",
        "\n",
        "# Assuming 'df' is a Pandas DataFrame with 'gender' and 'dropout' columns\n",
        "\n",
        "# Calculate dropout % explicitly\n",
        "dropout_by_gender = merged_df.groupby('gender')['dropout'].mean().reset_index()\n",
        "dropout_by_gender['dropout_percent'] = dropout_by_gender['dropout'] * 100\n",
        "\n",
        "# Plot\n",
        "plt.figure(figsize=(6,4))\n",
        "sns.barplot(x='gender', y='dropout_percent', data=dropout_by_gender, color=\"blueviolet\")\n",
        "plt.title(\"Dropout Rate by Gender (%)\", fontsize=14)\n",
        "plt.ylabel(\"Dropout Rate (%)\")\n",
        "plt.xlabel(\"Gender\")\n",
        "plt.ylim(0, 100)  # optional: makes it clear it's a percentage\n",
        "plt.show()"
      ]
    },
    {
      "cell_type": "code",
      "execution_count": 65,
      "metadata": {
        "colab": {
          "base_uri": "https://localhost:8080/",
          "height": 497
        },
        "id": "LBNitHk2LOxv",
        "outputId": "466d1113-4225-49d2-8e3d-42d099825074"
      },
      "outputs": [
        {
          "output_type": "display_data",
          "data": {
            "text/plain": [
              "<Figure size 800x500 with 1 Axes>"
            ],
            "image/png": "[encoded data removed]"
          },
          "metadata": {}
        }
      ],
      "source": [
        "import matplotlib.pyplot as plt\n",
        "import seaborn as sns\n",
        "import pandas as pd\n",
        "\n",
        "# Calculate dropout % by highest_education\n",
        "dropout_by_edu = merged_df.groupby('highest_education')['dropout'].mean().reset_index()\n",
        "dropout_by_edu['dropout_percent'] = dropout_by_edu['dropout'] * 100\n",
        "\n",
        "# Plot\n",
        "plt.figure(figsize=(8,5))\n",
        "sns.barplot(x='highest_education', y='dropout_percent', data=dropout_by_edu, color=\"chartreuse\")\n",
        "plt.xticks(rotation=45, ha='right')\n",
        "plt.title(\"Dropout Rate by Education Level (%)\", fontsize=14)\n",
        "plt.ylabel(\"Dropout Rate (%)\")\n",
        "plt.xlabel(\"Highest Education\")\n",
        "plt.ylim(0, 100)\n",
        "\n",
        "# Add values on top of bars\n",
        "for index, row in dropout_by_edu.iterrows():\n",
        "    plt.text(index, row['dropout_percent'] + 1, f\"{row['dropout_percent']:.1f}%\", ha='center', fontsize=10)\n",
        "\n",
        "plt.tight_layout()\n",
        "plt.show()"
      ]
    },
    {
      "cell_type": "markdown",
      "metadata": {
        "id": "CW3f0ruw4Yrb"
      },
      "source": [
        "# Step 3 – Clicks vs Dropout"
      ]
    },
    {
      "cell_type": "markdown",
      "metadata": {
        "id": "0-f-K1xO4c2K"
      },
      "source": [
        "Students with fewer clicks tend to have higher dropout rates."
      ]
    },
    {
      "cell_type": "code",
      "execution_count": 66,
      "metadata": {
        "colab": {
          "base_uri": "https://localhost:8080/",
          "height": 422
        },
        "id": "QsdVl1G14WyR",
        "outputId": "724c4654-6559-4f95-dcb0-825a40606426"
      },
      "outputs": [
        {
          "output_type": "display_data",
          "data": {
            "text/plain": [
              "<Figure size 600x400 with 1 Axes>"
            ],
            "image/png": "[encoded data removed]"
          },
          "metadata": {}
        }
      ],
      "source": [
        "plt.figure(figsize=(6,4))\n",
        "sns.boxplot(x=\"dropout\", y=\"sum_click\", data=merged_df)\n",
        "plt.title(\"Clicks vs Dropout\")\n",
        "plt.xlabel(\"Dropout\")\n",
        "plt.ylabel(\"Total Clicks\")\n",
        "plt.show()"
      ]
    },
    {
      "cell_type": "markdown",
      "metadata": {
        "id": "UzmOcTwJ4i2a"
      },
      "source": [
        "# Step 4 – Score vs Dropout"
      ]
    },
    {
      "cell_type": "markdown",
      "metadata": {
        "id": "xIbR0htv4kXq"
      },
      "source": [
        "Lower scores might correlate with higher dropout."
      ]
    },
    {
      "cell_type": "code",
      "execution_count": 67,
      "metadata": {
        "colab": {
          "base_uri": "https://localhost:8080/",
          "height": 422
        },
        "id": "h5WGoQL_4mQC",
        "outputId": "646c350c-67c0-4b2f-b978-5777e982c78a"
      },
      "outputs": [
        {
          "output_type": "display_data",
          "data": {
            "text/plain": [
              "<Figure size 600x400 with 1 Axes>"
            ],
            "image/png": "[encoded data removed]"
          },
          "metadata": {}
        }
      ],
      "source": [
        "plt.figure(figsize=(6,4))\n",
        "sns.boxplot(x=\"dropout\", y=\"score\", data=merged_df, color=\"aquamarine\")\n",
        "plt.title(\"Assessment Score vs Dropout\")\n",
        "plt.xlabel(\"Dropout\")\n",
        "plt.ylabel(\"Score\")\n",
        "plt.show()\n"
      ]
    },
    {
      "cell_type": "markdown",
      "metadata": {
        "id": "Z2_QdskX4vl5"
      },
      "source": [
        "# Step 5 – Feature Correlation Heatmap"
      ]
    },
    {
      "cell_type": "markdown",
      "metadata": {
        "id": "E4aoLwC844PB"
      },
      "source": [
        "Helps spot relationships between features and the dropout label."
      ]
    },
    {
      "cell_type": "code",
      "execution_count": 68,
      "metadata": {
        "colab": {
          "base_uri": "https://localhost:8080/",
          "height": 880
        },
        "id": "V8kHGemV442I",
        "outputId": "0b929d61-6d8c-4b13-fab9-dfa4caef937a"
      },
      "outputs": [
        {
          "output_type": "display_data",
          "data": {
            "text/plain": [
              "<Figure size 1000x800 with 2 Axes>"
            ],
            "image/png": "[encoded data removed]"
          },
          "metadata": {}
        }
      ],
      "source": [
        "plt.figure(figsize=(10,8))\n",
        "corr = merged_df.corr(numeric_only=True)\n",
        "sns.heatmap(corr, cmap=\"coolwarm\", annot=False)\n",
        "plt.title(\"Feature Correlation Heatmap\")\n",
        "plt.show()\n"
      ]
    },
    {
      "cell_type": "markdown",
      "metadata": {
        "id": "TPPkIyUT5DNy"
      },
      "source": [
        "# Step 6 – Feature Engineering"
      ]
    },
    {
      "cell_type": "markdown",
      "metadata": {
        "id": "DOJNkOIG5Eqq"
      },
      "source": [
        "We’ll create:\n",
        "\n",
        "- avg_score_per_student → average score across assessments\n",
        "\n",
        "- click_score_ratio → clicks per score point (engagement efficiency)"
      ]
    },
    {
      "cell_type": "code",
      "execution_count": 69,
      "metadata": {
        "colab": {
          "base_uri": "https://localhost:8080/"
        },
        "id": "Kn83QTmG5JZ5",
        "outputId": "7a42b23a-fbdc-4744-9cf2-3b2cd2f70216"
      },
      "outputs": [
        {
          "output_type": "stream",
          "name": "stdout",
          "text": [
            "New features added: ['avg_score_per_student', 'click_score_ratio']\n"
          ]
        }
      ],
      "source": [
        "# Average score per student\n",
        "avg_scores = merged_df.groupby(\"id_student\")[\"score\"].mean().reset_index()\n",
        "avg_scores.rename(columns={\"score\": \"avg_score_per_student\"}, inplace=True)\n",
        "\n",
        "# Merge back\n",
        "merged_df = pd.merge(merged_df, avg_scores, on=\"id_student\", how=\"left\")\n",
        "\n",
        "# Click-score ratio\n",
        "merged_df[\"click_score_ratio\"] = merged_df[\"sum_click\"] / (merged_df[\"avg_score_per_student\"] + 1)\n",
        "\n",
        "print(\"New features added:\", [\"avg_score_per_student\", \"click_score_ratio\"])\n"
      ]
    },
    {
      "cell_type": "markdown",
      "metadata": {
        "id": "Mc-J_y7O5h14"
      },
      "source": [
        "# Step 7 – Save EDA-Ready Data"
      ]
    },
    {
      "cell_type": "code",
      "execution_count": 70,
      "metadata": {
        "colab": {
          "base_uri": "https://localhost:8080/"
        },
        "id": "sWPZVGih5jc1",
        "outputId": "1a328f8f-a4a1-4658-9f5a-ba1935bcc4ad"
      },
      "outputs": [
        {
          "output_type": "stream",
          "name": "stdout",
          "text": [
            "Dataset saved as OULAD_ready_for_model.csv\n"
          ]
        }
      ],
      "source": [
        "merged_df.to_csv(\"OULAD_ready_for_model.csv\", index=False)\n",
        "print(\"Dataset saved as OULAD_ready_for_model.csv\")\n"
      ]
    },
    {
      "cell_type": "markdown",
      "metadata": {
        "id": "oXK_rbj_5ynZ"
      },
      "source": [
        "Now we have :\n",
        "- Visuals showing trends in dropout behavior\n",
        "\n",
        "- Correlation heatmap for feature selection\n",
        "\n",
        "- Extra features for better ML prediction"
      ]
    },
    {
      "cell_type": "markdown",
      "metadata": {
        "id": "1yHsCuIy6Edy"
      },
      "source": [
        "# **📌 Phase 4 – Modeling**"
      ]
    },
    {
      "cell_type": "markdown",
      "metadata": {
        "id": "9XsIWTfd6IOw"
      },
      "source": [
        "# Step 1 – Import Libraries"
      ]
    },
    {
      "cell_type": "code",
      "execution_count": 71,
      "metadata": {
        "id": "fYBLXj8x6OAR"
      },
      "outputs": [],
      "source": [
        "import pandas as pd\n",
        "import numpy as np\n",
        "from sklearn.model_selection import train_test_split\n",
        "from sklearn.preprocessing import StandardScaler\n",
        "from sklearn.linear_model import LogisticRegression\n",
        "from sklearn.ensemble import RandomForestClassifier\n",
        "from xgboost import XGBClassifier\n",
        "from sklearn.metrics import accuracy_score, classification_report\n",
        "from sklearn.impute import SimpleImputer\n",
        "import matplotlib.pyplot as plt\n",
        "import seaborn as sns\n"
      ]
    },
    {
      "cell_type": "markdown",
      "metadata": {
        "id": "CWg1sL7-6RR6"
      },
      "source": [
        "# Step 2 – Load Processed Dataset"
      ]
    },
    {
      "cell_type": "code",
      "execution_count": 72,
      "metadata": {
        "colab": {
          "base_uri": "https://localhost:8080/",
          "height": 244
        },
        "id": "kLRU32XH6H0i",
        "outputId": "04010e37-f39e-4c8a-b363-896343c966e0"
      },
      "outputs": [
        {
          "output_type": "stream",
          "name": "stdout",
          "text": [
            "(213166, 20)\n"
          ]
        },
        {
          "output_type": "execute_result",
          "data": {
            "text/plain": [
              "   code_module  code_presentation  id_student  gender  region  \\\n",
              "0            0                  1       11391       1       0   \n",
              "1            0                  1       11391       1       0   \n",
              "2            0                  1       11391       1       0   \n",
              "3            0                  1       11391       1       0   \n",
              "4            0                  1       11391       1       0   \n",
              "\n",
              "   highest_education  imd_band  age_band  num_of_prev_attempts  \\\n",
              "0                  1         9         2                     0   \n",
              "1                  1         9         2                     0   \n",
              "2                  1         9         2                     0   \n",
              "3                  1         9         2                     0   \n",
              "4                  1         9         2                     0   \n",
              "\n",
              "   studied_credits  disability  final_result  sum_click  id_assessment  \\\n",
              "0              240           0             2      934.0         1752.0   \n",
              "1              240           0             2      934.0         1753.0   \n",
              "2              240           0             2      934.0         1754.0   \n",
              "3              240           0             2      934.0         1755.0   \n",
              "4              240           0             2      934.0         1756.0   \n",
              "\n",
              "   date_submitted  is_banked  score  dropout  avg_score_per_student  \\\n",
              "0            18.0        0.0   78.0        0                   82.0   \n",
              "1            53.0        0.0   85.0        0                   82.0   \n",
              "2           115.0        0.0   80.0        0                   82.0   \n",
              "3           164.0        0.0   85.0        0                   82.0   \n",
              "4           212.0        0.0   82.0        0                   82.0   \n",
              "\n",
              "   click_score_ratio  \n",
              "0          11.253012  \n",
              "1          11.253012  \n",
              "2          11.253012  \n",
              "3          11.253012  \n",
              "4          11.253012  "
            ],
            "text/html": [
              "\n",
              "  <div id=\"df-695c9a35-b162-4e94-b5ce-e0207e25471e\" class=\"colab-df-container\">\n",
              "    <div>\n",
              "<style scoped>\n",
              "    .dataframe tbody tr th:only-of-type {\n",
              "        vertical-align: middle;\n",
              "    }\n",
              "\n",
              "    .dataframe tbody tr th {\n",
              "        vertical-align: top;\n",
              "    }\n",
              "\n",
              "    .dataframe thead th {\n",
              "        text-align: right;\n",
              "    }\n",
              "</style>\n",
              "<table border=\"1\" class=\"dataframe\">\n",
              "  <thead>\n",
              "    <tr style=\"text-align: right;\">\n",
              "      <th></th>\n",
              "      <th>code_module</th>\n",
              "      <th>code_presentation</th>\n",
              "      <th>id_student</th>\n",
              "      <th>gender</th>\n",
              "      <th>region</th>\n",
              "      <th>highest_education</th>\n",
              "      <th>imd_band</th>\n",
              "      <th>age_band</th>\n",
              "      <th>num_of_prev_attempts</th>\n",
              "      <th>studied_credits</th>\n",
              "      <th>disability</th>\n",
              "      <th>final_result</th>\n",
              "      <th>sum_click</th>\n",
              "      <th>id_assessment</th>\n",
              "      <th>date_submitted</th>\n",
              "      <th>is_banked</th>\n",
              "      <th>score</th>\n",
              "      <th>dropout</th>\n",
              "      <th>avg_score_per_student</th>\n",
              "      <th>click_score_ratio</th>\n",
              "    </tr>\n",
              "  </thead>\n",
              "  <tbody>\n",
              "    <tr>\n",
              "      <th>0</th>\n",
              "      <td>0</td>\n",
              "      <td>1</td>\n",
              "      <td>11391</td>\n",
              "      <td>1</td>\n",
              "      <td>0</td>\n",
              "      <td>1</td>\n",
              "      <td>9</td>\n",
              "      <td>2</td>\n",
              "      <td>0</td>\n",
              "      <td>240</td>\n",
              "      <td>0</td>\n",
              "      <td>2</td>\n",
              "      <td>934.0</td>\n",
              "      <td>1752.0</td>\n",
              "      <td>18.0</td>\n",
              "      <td>0.0</td>\n",
              "      <td>78.0</td>\n",
              "      <td>0</td>\n",
              "      <td>82.0</td>\n",
              "      <td>11.253012</td>\n",
              "    </tr>\n",
              "    <tr>\n",
              "      <th>1</th>\n",
              "      <td>0</td>\n",
              "      <td>1</td>\n",
              "      <td>11391</td>\n",
              "      <td>1</td>\n",
              "      <td>0</td>\n",
              "      <td>1</td>\n",
              "      <td>9</td>\n",
              "      <td>2</td>\n",
              "      <td>0</td>\n",
              "      <td>240</td>\n",
              "      <td>0</td>\n",
              "      <td>2</td>\n",
              "      <td>934.0</td>\n",
              "      <td>1753.0</td>\n",
              "      <td>53.0</td>\n",
              "      <td>0.0</td>\n",
              "      <td>85.0</td>\n",
              "      <td>0</td>\n",
              "      <td>82.0</td>\n",
              "      <td>11.253012</td>\n",
              "    </tr>\n",
              "    <tr>\n",
              "      <th>2</th>\n",
              "      <td>0</td>\n",
              "      <td>1</td>\n",
              "      <td>11391</td>\n",
              "      <td>1</td>\n",
              "      <td>0</td>\n",
              "      <td>1</td>\n",
              "      <td>9</td>\n",
              "      <td>2</td>\n",
              "      <td>0</td>\n",
              "      <td>240</td>\n",
              "      <td>0</td>\n",
              "      <td>2</td>\n",
              "      <td>934.0</td>\n",
              "      <td>1754.0</td>\n",
              "      <td>115.0</td>\n",
              "      <td>0.0</td>\n",
              "      <td>80.0</td>\n",
              "      <td>0</td>\n",
              "      <td>82.0</td>\n",
              "      <td>11.253012</td>\n",
              "    </tr>\n",
              "    <tr>\n",
              "      <th>3</th>\n",
              "      <td>0</td>\n",
              "      <td>1</td>\n",
              "      <td>11391</td>\n",
              "      <td>1</td>\n",
              "      <td>0</td>\n",
              "      <td>1</td>\n",
              "      <td>9</td>\n",
              "      <td>2</td>\n",
              "      <td>0</td>\n",
              "      <td>240</td>\n",
              "      <td>0</td>\n",
              "      <td>2</td>\n",
              "      <td>934.0</td>\n",
              "      <td>1755.0</td>\n",
              "      <td>164.0</td>\n",
              "      <td>0.0</td>\n",
              "      <td>85.0</td>\n",
              "      <td>0</td>\n",
              "      <td>82.0</td>\n",
              "      <td>11.253012</td>\n",
              "    </tr>\n",
              "    <tr>\n",
              "      <th>4</th>\n",
              "      <td>0</td>\n",
              "      <td>1</td>\n",
              "      <td>11391</td>\n",
              "      <td>1</td>\n",
              "      <td>0</td>\n",
              "      <td>1</td>\n",
              "      <td>9</td>\n",
              "      <td>2</td>\n",
              "      <td>0</td>\n",
              "      <td>240</td>\n",
              "      <td>0</td>\n",
              "      <td>2</td>\n",
              "      <td>934.0</td>\n",
              "      <td>1756.0</td>\n",
              "      <td>212.0</td>\n",
              "      <td>0.0</td>\n",
              "      <td>82.0</td>\n",
              "      <td>0</td>\n",
              "      <td>82.0</td>\n",
              "      <td>11.253012</td>\n",
              "    </tr>\n",
              "  </tbody>\n",
              "</table>\n",
              "</div>\n",
              "    <div class=\"colab-df-buttons\">\n",
              "\n",
              "  <div class=\"colab-df-container\">\n",
              "    <button class=\"colab-df-convert\" onclick=\"convertToInteractive('df-695c9a35-b162-4e94-b5ce-e0207e25471e')\"\n",
              "            title=\"Convert this dataframe to an interactive table.\"\n",
              "            style=\"display:none;\">\n",
              "\n",
              "  <svg xmlns=\"http://www.w3.org/2000/svg\" height=\"24px\" viewBox=\"0 -960 960 960\">\n",
              "    <path d=\"M120-120v-720h720v720H120Zm60-500h600v-160H180v160Zm220 220h160v-160H400v160Zm0 220h160v-160H400v160ZM180-400h160v-160H180v160Zm440 0h160v-160H620v160ZM180-180h160v-160H180v160Zm440 0h160v-160H620v160Z\"/>\n",
              "  </svg>\n",
              "    </button>\n",
              "\n",
              "  <style>\n",
              "    .colab-df-container {\n",
              "      display:flex;\n",
              "      gap: 12px;\n",
              "    }\n",
              "\n",
              "    .colab-df-convert {\n",
              "      background-color: #E8F0FE;\n",
              "      border: none;\n",
              "      border-radius: 50%;\n",
              "      cursor: pointer;\n",
              "      display: none;\n",
              "      fill: #1967D2;\n",
              "      height: 32px;\n",
              "      padding: 0 0 0 0;\n",
              "      width: 32px;\n",
              "    }\n",
              "\n",
              "    .colab-df-convert:hover {\n",
              "      background-color: #E2EBFA;\n",
              "      box-shadow: 0px 1px 2px rgba(60, 64, 67, 0.3), 0px 1px 3px 1px rgba(60, 64, 67, 0.15);\n",
              "      fill: #174EA6;\n",
              "    }\n",
              "\n",
              "    .colab-df-buttons div {\n",
              "      margin-bottom: 4px;\n",
              "    }\n",
              "\n",
              "    [theme=dark] .colab-df-convert {\n",
              "      background-color: #3B4455;\n",
              "      fill: #D2E3FC;\n",
              "    }\n",
              "\n",
              "    [theme=dark] .colab-df-convert:hover {\n",
              "      background-color: #434B5C;\n",
              "      box-shadow: 0px 1px 3px 1px rgba(0, 0, 0, 0.15);\n",
              "      filter: drop-shadow(0px 1px 2px rgba(0, 0, 0, 0.3));\n",
              "      fill: #FFFFFF;\n",
              "    }\n",
              "  </style>\n",
              "\n",
              "    <script>\n",
              "      const buttonEl =\n",
              "        document.querySelector('#df-695c9a35-b162-4e94-b5ce-e0207e25471e button.colab-df-convert');\n",
              "      buttonEl.style.display =\n",
              "        google.colab.kernel.accessAllowed ? 'block' : 'none';\n",
              "\n",
              "      async function convertToInteractive(key) {\n",
              "        const element = document.querySelector('#df-695c9a35-b162-4e94-b5ce-e0207e25471e');\n",
              "        const dataTable =\n",
              "          await google.colab.kernel.invokeFunction('convertToInteractive',\n",
              "                                                    [key], {});\n",
              "        if (!dataTable) return;\n",
              "\n",
              "        const docLinkHtml = 'Like what you see? Visit the ' +\n",
              "          '<a target=\"_blank\" href=https://colab.research.google.com/notebooks/data_table.ipynb>data table notebook</a>'\n",
              "          + ' to learn more about interactive tables.';\n",
              "        element.innerHTML = '';\n",
              "        dataTable['output_type'] = 'display_data';\n",
              "        await google.colab.output.renderOutput(dataTable, element);\n",
              "        const docLink = document.createElement('div');\n",
              "        docLink.innerHTML = docLinkHtml;\n",
              "        element.appendChild(docLink);\n",
              "      }\n",
              "    </script>\n",
              "  </div>\n",
              "\n",
              "\n",
              "    <div id=\"df-7297f113-24d0-4923-89b6-9a88c3b7b3fd\">\n",
              "      <button class=\"colab-df-quickchart\" onclick=\"quickchart('df-7297f113-24d0-4923-89b6-9a88c3b7b3fd')\"\n",
              "                title=\"Suggest charts\"\n",
              "                style=\"display:none;\">\n",
              "\n",
              "<svg xmlns=\"http://www.w3.org/2000/svg\" height=\"24px\"viewBox=\"0 0 24 24\"\n",
              "     width=\"24px\">\n",
              "    <g>\n",
              "        <path d=\"M19 3H5c-1.1 0-2 .9-2 2v14c0 1.1.9 2 2 2h14c1.1 0 2-.9 2-2V5c0-1.1-.9-2-2-2zM9 17H7v-7h2v7zm4 0h-2V7h2v10zm4 0h-2v-4h2v4z\"/>\n",
              "    </g>\n",
              "</svg>\n",
              "      </button>\n",
              "\n",
              "<style>\n",
              "  .colab-df-quickchart {\n",
              "      --bg-color: #E8F0FE;\n",
              "      --fill-color: #1967D2;\n",
              "      --hover-bg-color: #E2EBFA;\n",
              "      --hover-fill-color: #174EA6;\n",
              "      --disabled-fill-color: #AAA;\n",
              "      --disabled-bg-color: #DDD;\n",
              "  }\n",
              "\n",
              "  [theme=dark] .colab-df-quickchart {\n",
              "      --bg-color: #3B4455;\n",
              "      --fill-color: #D2E3FC;\n",
              "      --hover-bg-color: #434B5C;\n",
              "      --hover-fill-color: #FFFFFF;\n",
              "      --disabled-bg-color: #3B4455;\n",
              "      --disabled-fill-color: #666;\n",
              "  }\n",
              "\n",
              "  .colab-df-quickchart {\n",
              "    background-color: var(--bg-color);\n",
              "    border: none;\n",
              "    border-radius: 50%;\n",
              "    cursor: pointer;\n",
              "    display: none;\n",
              "    fill: var(--fill-color);\n",
              "    height: 32px;\n",
              "    padding: 0;\n",
              "    width: 32px;\n",
              "  }\n",
              "\n",
              "  .colab-df-quickchart:hover {\n",
              "    background-color: var(--hover-bg-color);\n",
              "    box-shadow: 0 1px 2px rgba(60, 64, 67, 0.3), 0 1px 3px 1px rgba(60, 64, 67, 0.15);\n",
              "    fill: var(--button-hover-fill-color);\n",
              "  }\n",
              "\n",
              "  .colab-df-quickchart-complete:disabled,\n",
              "  .colab-df-quickchart-complete:disabled:hover {\n",
              "    background-color: var(--disabled-bg-color);\n",
              "    fill: var(--disabled-fill-color);\n",
              "    box-shadow: none;\n",
              "  }\n",
              "\n",
              "  .colab-df-spinner {\n",
              "    border: 2px solid var(--fill-color);\n",
              "    border-color: transparent;\n",
              "    border-bottom-color: var(--fill-color);\n",
              "    animation:\n",
              "      spin 1s steps(1) infinite;\n",
              "  }\n",
              "\n",
              "  @keyframes spin {\n",
              "    0% {\n",
              "      border-color: transparent;\n",
              "      border-bottom-color: var(--fill-color);\n",
              "      border-left-color: var(--fill-color);\n",
              "    }\n",
              "    20% {\n",
              "      border-color: transparent;\n",
              "      border-left-color: var(--fill-color);\n",
              "      border-top-color: var(--fill-color);\n",
              "    }\n",
              "    30% {\n",
              "      border-color: transparent;\n",
              "      border-left-color: var(--fill-color);\n",
              "      border-top-color: var(--fill-color);\n",
              "      border-right-color: var(--fill-color);\n",
              "    }\n",
              "    40% {\n",
              "      border-color: transparent;\n",
              "      border-right-color: var(--fill-color);\n",
              "      border-top-color: var(--fill-color);\n",
              "    }\n",
              "    60% {\n",
              "      border-color: transparent;\n",
              "      border-right-color: var(--fill-color);\n",
              "    }\n",
              "    80% {\n",
              "      border-color: transparent;\n",
              "      border-right-color: var(--fill-color);\n",
              "      border-bottom-color: var(--fill-color);\n",
              "    }\n",
              "    90% {\n",
              "      border-color: transparent;\n",
              "      border-bottom-color: var(--fill-color);\n",
              "    }\n",
              "  }\n",
              "</style>\n",
              "\n",
              "      <script>\n",
              "        async function quickchart(key) {\n",
              "          const quickchartButtonEl =\n",
              "            document.querySelector('#' + key + ' button');\n",
              "          quickchartButtonEl.disabled = true;  // To prevent multiple clicks.\n",
              "          quickchartButtonEl.classList.add('colab-df-spinner');\n",
              "          try {\n",
              "            const charts = await google.colab.kernel.invokeFunction(\n",
              "                'suggestCharts', [key], {});\n",
              "          } catch (error) {\n",
              "            console.error('Error during call to suggestCharts:', error);\n",
              "          }\n",
              "          quickchartButtonEl.classList.remove('colab-df-spinner');\n",
              "          quickchartButtonEl.classList.add('colab-df-quickchart-complete');\n",
              "        }\n",
              "        (() => {\n",
              "          let quickchartButtonEl =\n",
              "            document.querySelector('#df-7297f113-24d0-4923-89b6-9a88c3b7b3fd button');\n",
              "          quickchartButtonEl.style.display =\n",
              "            google.colab.kernel.accessAllowed ? 'block' : 'none';\n",
              "        })();\n",
              "      </script>\n",
              "    </div>\n",
              "\n",
              "    </div>\n",
              "  </div>\n"
            ],
            "application/vnd.google.colaboratory.intrinsic+json": {
              "type": "dataframe",
              "variable_name": "df"
            }
          },
          "metadata": {},
          "execution_count": 72
        }
      ],
      "source": [
        "# Load dataset from Phase 3\n",
        "df = pd.read_csv(\"OULAD_ready_for_model.csv\")\n",
        "print(df.shape)\n",
        "df.head()\n"
      ]
    },
    {
      "cell_type": "markdown",
      "metadata": {
        "id": "WsdS6JIM6n4z"
      },
      "source": [
        "# Step 3 – Select Features & Target"
      ]
    },
    {
      "cell_type": "code",
      "execution_count": 73,
      "metadata": {
        "id": "uMeDGZAD6p3K"
      },
      "outputs": [],
      "source": [
        "# Drop non-numeric identifiers\n",
        "X = df.drop(columns=[\"dropout\", \"id_student\"])\n",
        "y = df[\"dropout\"]\n"
      ]
    },
    {
      "cell_type": "code",
      "execution_count": 74,
      "metadata": {
        "id": "t0sIWLvK7hf3"
      },
      "outputs": [],
      "source": [
        "#  Impute any remaining NaNs in numeric columns\n",
        "num_cols = X.select_dtypes(include=[np.number]).columns\n",
        "imputer = SimpleImputer(strategy=\"mean\")\n",
        "X[num_cols] = imputer.fit_transform(X[num_cols])\n"
      ]
    },
    {
      "cell_type": "markdown",
      "metadata": {
        "id": "NsmaTtaw6tHR"
      },
      "source": [
        "# Step 4 – Train-Test Split"
      ]
    },
    {
      "cell_type": "code",
      "execution_count": 75,
      "metadata": {
        "id": "opqjCWGi6urZ"
      },
      "outputs": [],
      "source": [
        "X_train, X_test, y_train, y_test = train_test_split(\n",
        "    X, y, test_size=0.2, random_state=42, stratify=y\n",
        ")\n"
      ]
    },
    {
      "cell_type": "markdown",
      "metadata": {
        "id": "6XYsxU9Q6zyJ"
      },
      "source": [
        "# Step 5 – Feature Scaling (for Logistic Regression)"
      ]
    },
    {
      "cell_type": "code",
      "execution_count": 76,
      "metadata": {
        "id": "5dzXyMRr61lM"
      },
      "outputs": [],
      "source": [
        "scaler = StandardScaler()\n",
        "X_train_scaled = scaler.fit_transform(X_train)\n",
        "X_test_scaled = scaler.transform(X_test)\n"
      ]
    },
    {
      "cell_type": "markdown",
      "metadata": {
        "id": "3xGLxcR965Oh"
      },
      "source": [
        "# Step 6 – Train Logistic Regression"
      ]
    },
    {
      "cell_type": "code",
      "execution_count": 77,
      "metadata": {
        "colab": {
          "base_uri": "https://localhost:8080/"
        },
        "id": "CXaUYall68ZQ",
        "outputId": "65071897-a5dc-4065-ddc3-fb827b6961fd"
      },
      "outputs": [
        {
          "output_type": "stream",
          "name": "stdout",
          "text": [
            "\n",
            "🔹 Logistic Regression Accuracy: 1.0\n",
            "              precision    recall  f1-score   support\n",
            "\n",
            "           0       1.00      1.00      1.00     36509\n",
            "           1       1.00      1.00      1.00      6125\n",
            "\n",
            "    accuracy                           1.00     42634\n",
            "   macro avg       1.00      1.00      1.00     42634\n",
            "weighted avg       1.00      1.00      1.00     42634\n",
            "\n"
          ]
        }
      ],
      "source": [
        "log_reg = LogisticRegression(max_iter=500)\n",
        "log_reg.fit(X_train_scaled, y_train)\n",
        "y_pred_lr = log_reg.predict(X_test_scaled)\n",
        "\n",
        "print(\"\\n🔹 Logistic Regression Accuracy:\", accuracy_score(y_test, y_pred_lr))\n",
        "print(classification_report(y_test, y_pred_lr))\n"
      ]
    },
    {
      "cell_type": "code",
      "execution_count": 78,
      "metadata": {
        "colab": {
          "base_uri": "https://localhost:8080/",
          "height": 500
        },
        "id": "zcjiV5zM-hjX",
        "outputId": "3accf0a4-277c-46f6-ff46-63d245a9b160"
      },
      "outputs": [
        {
          "output_type": "display_data",
          "data": {
            "text/plain": [
              "<Figure size 600x500 with 2 Axes>"
            ],
            "image/png": "[encoded data removed]"
          },
          "metadata": {}
        }
      ],
      "source": [
        "import matplotlib.pyplot as plt\n",
        "import seaborn as sns\n",
        "from sklearn.metrics import confusion_matrix\n",
        "\n",
        "# Compute confusion matrix\n",
        "cm = confusion_matrix(y_test, y_pred_lr)\n",
        "\n",
        "# Normalize for percentages\n",
        "cm_percent = cm.astype('float') / cm.sum() * 100\n",
        "\n",
        "plt.figure(figsize=(6, 5))\n",
        "sns.heatmap(cm, annot=True, fmt='d', cmap='Blues',\n",
        "            xticklabels=['Stayed', 'Dropped'], yticklabels=['Stayed', 'Dropped'],\n",
        "            cbar=True, linewidths=0.5, linecolor='gray')\n",
        "\n",
        "# Overlay percentages\n",
        "for i in range(cm.shape[0]):\n",
        "    for j in range(cm.shape[1]):\n",
        "        plt.text(j + 0.5, i + 0.5, f\"{cm_percent[i, j]:.1f}%\",\n",
        "                 color='black', ha='center', va='center', fontsize=10)\n",
        "\n",
        "plt.xlabel(\"Predicted\", fontsize=12)\n",
        "plt.ylabel(\"Actual\", fontsize=12)\n",
        "plt.title(\"Confusion Matrix – Logistic Regression\", fontsize=14)\n",
        "plt.show()\n"
      ]
    },
    {
      "cell_type": "markdown",
      "metadata": {
        "id": "niFrq-8h964J"
      },
      "source": [
        "# Step 7 – Train Random Forest"
      ]
    },
    {
      "cell_type": "code",
      "execution_count": 79,
      "metadata": {
        "colab": {
          "base_uri": "https://localhost:8080/"
        },
        "id": "NwVolLXf-JWp",
        "outputId": "a0567d4b-3b5a-4167-e523-972787fcfd7a"
      },
      "outputs": [
        {
          "output_type": "stream",
          "name": "stdout",
          "text": [
            "\n",
            "🔹 Random Forest Accuracy: 1.0\n",
            "              precision    recall  f1-score   support\n",
            "\n",
            "           0       1.00      1.00      1.00     36509\n",
            "           1       1.00      1.00      1.00      6125\n",
            "\n",
            "    accuracy                           1.00     42634\n",
            "   macro avg       1.00      1.00      1.00     42634\n",
            "weighted avg       1.00      1.00      1.00     42634\n",
            "\n"
          ]
        }
      ],
      "source": [
        "\n",
        "rf = RandomForestClassifier(n_estimators=100, random_state=42)\n",
        "rf.fit(X_train, y_train)\n",
        "y_pred_rf = rf.predict(X_test)\n",
        "\n",
        "print(\"\\n🔹 Random Forest Accuracy:\", accuracy_score(y_test, y_pred_rf))\n",
        "print(classification_report(y_test, y_pred_rf))"
      ]
    },
    {
      "cell_type": "code",
      "execution_count": 80,
      "metadata": {
        "colab": {
          "base_uri": "https://localhost:8080/",
          "height": 422
        },
        "id": "iN5xZKw9-1s5",
        "outputId": "ef4660a5-25f6-4caf-ea65-a17fad56a637"
      },
      "outputs": [
        {
          "output_type": "display_data",
          "data": {
            "text/plain": [
              "<Figure size 500x400 with 2 Axes>"
            ],
            "image/png": "[encoded data removed]"
          },
          "metadata": {}
        }
      ],
      "source": [
        "cm_rf = confusion_matrix(y_test, y_pred_rf)\n",
        "plt.figure(figsize=(5, 4))\n",
        "sns.heatmap(cm_rf, annot=True, fmt='d', cmap='Greens',\n",
        "            xticklabels=['Stayed', 'Dropped'],\n",
        "            yticklabels=['Stayed', 'Dropped'])\n",
        "plt.xlabel(\"Predicted\")\n",
        "plt.ylabel(\"Actual\")\n",
        "plt.title(\"Confusion Matrix – Random Forest\")\n",
        "plt.show()"
      ]
    },
    {
      "cell_type": "markdown",
      "metadata": {
        "id": "Rs93QdT098SX"
      },
      "source": [
        "# Step 8 – Train XGBoost"
      ]
    },
    {
      "cell_type": "code",
      "execution_count": 81,
      "metadata": {
        "colab": {
          "base_uri": "https://localhost:8080/"
        },
        "id": "JplkKNu9-PFa",
        "outputId": "3bd5883f-3241-43bd-a43d-ab6361cca43e"
      },
      "outputs": [
        {
          "output_type": "stream",
          "name": "stderr",
          "text": [
            "/usr/local/lib/python3.11/dist-packages/xgboost/training.py:183: UserWarning: [06:49:50] WARNING: /workspace/src/learner.cc:738: \n",
            "Parameters: { \"use_label_encoder\" } are not used.\n",
            "\n",
            "  bst.update(dtrain, iteration=i, fobj=obj)\n"
          ]
        },
        {
          "output_type": "stream",
          "name": "stdout",
          "text": [
            "\n",
            "🔹 XGBoost Accuracy: 1.0\n",
            "              precision    recall  f1-score   support\n",
            "\n",
            "           0       1.00      1.00      1.00     36509\n",
            "           1       1.00      1.00      1.00      6125\n",
            "\n",
            "    accuracy                           1.00     42634\n",
            "   macro avg       1.00      1.00      1.00     42634\n",
            "weighted avg       1.00      1.00      1.00     42634\n",
            "\n"
          ]
        }
      ],
      "source": [
        "xgb = XGBClassifier(use_label_encoder=False, eval_metric=\"logloss\", random_state=42)\n",
        "xgb.fit(X_train, y_train)\n",
        "y_pred_xgb = xgb.predict(X_test)\n",
        "\n",
        "print(\"\\n🔹 XGBoost Accuracy:\", accuracy_score(y_test, y_pred_xgb))\n",
        "print(classification_report(y_test, y_pred_xgb))"
      ]
    },
    {
      "cell_type": "code",
      "execution_count": 82,
      "metadata": {
        "colab": {
          "base_uri": "https://localhost:8080/",
          "height": 422
        },
        "id": "FULbcum_-4uG",
        "outputId": "e8664154-5be6-49ef-8556-540427df2933"
      },
      "outputs": [
        {
          "output_type": "display_data",
          "data": {
            "text/plain": [
              "<Figure size 500x400 with 2 Axes>"
            ],
            "image/png": "[encoded data removed]"
          },
          "metadata": {}
        }
      ],
      "source": [
        "cm_xgb = confusion_matrix(y_test, y_pred_xgb)\n",
        "plt.figure(figsize=(5, 4))\n",
        "sns.heatmap(cm_xgb, annot=True, fmt='d', cmap='Oranges',\n",
        "            xticklabels=['Stayed', 'Dropped'],\n",
        "            yticklabels=['Stayed', 'Dropped'])\n",
        "plt.xlabel(\"Predicted\")\n",
        "plt.ylabel(\"Actual\")\n",
        "plt.title(\"Confusion Matrix – XGBoost\")\n",
        "plt.show()\n"
      ]
    },
    {
      "cell_type": "markdown",
      "metadata": {
        "id": "fkkr3Fvn9-9w"
      },
      "source": [
        "# Step 9 – Feature Importance (Random Forest)"
      ]
    },
    {
      "cell_type": "code",
      "execution_count": 83,
      "metadata": {
        "colab": {
          "base_uri": "https://localhost:8080/",
          "height": 552
        },
        "id": "gV7kThn4-S_q",
        "outputId": "075dbeb7-0eaf-4bb6-9486-199a0b6bb738"
      },
      "outputs": [
        {
          "output_type": "display_data",
          "data": {
            "text/plain": [
              "<Figure size 800x600 with 1 Axes>"
            ],
            "image/png": "[encoded data removed]"
          },
          "metadata": {}
        }
      ],
      "source": [
        "plt.figure(figsize=(8,6))\n",
        "feature_importances = pd.Series(rf.feature_importances_, index=X.columns)\n",
        "feature_importances.nlargest(10).plot(kind='barh', color='mediumseagreen')\n",
        "plt.title(\"Top 10 Important Features (Random Forest)\")\n",
        "plt.show()\n"
      ]
    },
    {
      "cell_type": "markdown",
      "metadata": {
        "id": "30MGsdwO-Ctp"
      },
      "source": [
        "# Step 10 – Model Comparison"
      ]
    },
    {
      "cell_type": "code",
      "execution_count": 84,
      "metadata": {
        "colab": {
          "base_uri": "https://localhost:8080/"
        },
        "id": "FazjgVq4-ZJh",
        "outputId": "a75f72c8-b0e4-42f7-e822-7b8bf0d8e70d"
      },
      "outputs": [
        {
          "output_type": "stream",
          "name": "stdout",
          "text": [
            "\n",
            "📊 Model Comparison:\n",
            "                  Model  Accuracy\n",
            "0  Logistic Regression       1.0\n",
            "1        Random Forest       1.0\n",
            "2              XGBoost       1.0\n"
          ]
        }
      ],
      "source": [
        "results = pd.DataFrame({\n",
        "    \"Model\": [\"Logistic Regression\", \"Random Forest\", \"XGBoost\"],\n",
        "    \"Accuracy\": [\n",
        "        accuracy_score(y_test, y_pred_lr),\n",
        "        accuracy_score(y_test, y_pred_rf),\n",
        "        accuracy_score(y_test, y_pred_xgb)\n",
        "    ]\n",
        "})\n",
        "print(\"\\n📊 Model Comparison:\\n\", results)"
      ]
    },
    {
      "cell_type": "code",
      "execution_count": 85,
      "metadata": {
        "colab": {
          "base_uri": "https://localhost:8080/",
          "height": 590
        },
        "id": "fpJMmZofBc4X",
        "outputId": "dbdb57be-b440-4df6-98c6-24a872ce84e1"
      },
      "outputs": [
        {
          "output_type": "stream",
          "name": "stderr",
          "text": [
            "/tmp/ipython-input-1369911128.py:2: FutureWarning: \n",
            "\n",
            "Passing `palette` without assigning `hue` is deprecated and will be removed in v0.14.0. Assign the `x` variable to `hue` and set `legend=False` for the same effect.\n",
            "\n",
            "  sns.barplot(x=\"Model\", y=\"Accuracy\", data=results, palette = [\"indigo\", \"firebrick\", \"teal\"]\n"
          ]
        },
        {
          "output_type": "display_data",
          "data": {
            "text/plain": [
              "<Figure size 700x500 with 1 Axes>"
            ],
            "image/png": "[encoded data removed]"
          },
          "metadata": {}
        }
      ],
      "source": [
        "plt.figure(figsize=(7, 5))\n",
        "sns.barplot(x=\"Model\", y=\"Accuracy\", data=results, palette = [\"indigo\", \"firebrick\", \"teal\"]\n",
        "\n",
        ")\n",
        "plt.ylim(0.9, 1.05)  # Zoom in to highlight perfect scores\n",
        "plt.title(\"Model Accuracy Comparison\")\n",
        "plt.ylabel(\"Accuracy Score\")\n",
        "plt.xlabel(\"Model\")\n",
        "plt.show()\n"
      ]
    },
    {
      "cell_type": "markdown",
      "metadata": {
        "id": "4oz4jK3kCVqa"
      },
      "source": [
        "# 📌 Phase 5 – Final Evaluation & Deployment Prep"
      ]
    },
    {
      "cell_type": "markdown",
      "metadata": {
        "id": "AojsMg-tCdkC"
      },
      "source": [
        "# Step 1 – Train Models & Choose the Best One\n",
        "\n",
        "We already trained Logistic Regression, Random Forest, and XGBoost in Phase 4.\n",
        "From the accuracy table, we’ll pick the best performing model."
      ]
    },
    {
      "cell_type": "code",
      "execution_count": 86,
      "metadata": {
        "id": "f4U5DV5sCfZJ"
      },
      "outputs": [],
      "source": [
        "best_model = rf\n"
      ]
    },
    {
      "cell_type": "markdown",
      "metadata": {
        "id": "XgJa8vAeCnWr"
      },
      "source": [
        "# Step 2 – Save the Model & Scaler\n",
        "\n",
        "We’ll save:\n",
        "\n",
        "- The trained model\n",
        "\n",
        "- The scaler (for Logistic Regression, or in case our model needs scaled inputs)\n",
        "\n",
        "- The imputer (to handle NaNs in new data)"
      ]
    },
    {
      "cell_type": "code",
      "execution_count": 87,
      "metadata": {
        "colab": {
          "base_uri": "https://localhost:8080/"
        },
        "id": "cGi3ioeVC1dX",
        "outputId": "f85ef082-02a5-495b-86bf-5fdca2b6aa6c"
      },
      "outputs": [
        {
          "output_type": "stream",
          "name": "stdout",
          "text": [
            "✅ Model, scaler, and imputer saved successfully!\n"
          ]
        }
      ],
      "source": [
        "import joblib\n",
        "\n",
        "# Save the model\n",
        "joblib.dump(best_model, \"dropout_model.pkl\")\n",
        "\n",
        "# Save scaler & imputer\n",
        "joblib.dump(scaler, \"scaler.pkl\")\n",
        "joblib.dump(imputer, \"imputer.pkl\")\n",
        "\n",
        "print(\"✅ Model, scaler, and imputer saved successfully!\")\n"
      ]
    },
    {
      "cell_type": "markdown",
      "metadata": {
        "id": "1wbSFojnC5bS"
      },
      "source": [
        "# Step 3 – Create a Single Prediction Function\n",
        "\n",
        "This function will:\n",
        "\n",
        "- Take a single student's data\n",
        "\n",
        "- Impute missing values\n",
        "\n",
        "- Scale (if needed)\n",
        "\n",
        "- Predict dropout probability"
      ]
    },
    {
      "cell_type": "code",
      "execution_count": 88,
      "metadata": {
        "id": "UxNlgYQ7DCtA"
      },
      "outputs": [],
      "source": [
        "def predict_dropout(student_data):\n",
        "    \"\"\"\n",
        "    Predict dropout for a single student.\n",
        "    student_data: dict containing feature names and values\n",
        "    \"\"\"\n",
        "    # Convert dict to DataFrame\n",
        "    input_df = pd.DataFrame([student_data])\n",
        "\n",
        "    # Handle missing values\n",
        "    input_df[num_cols] = imputer.transform(input_df[num_cols])\n",
        "\n",
        "    # Scale features\n",
        "    input_scaled = scaler.transform(input_df)\n",
        "\n",
        "    # Predict\n",
        "    prediction = best_model.predict(input_scaled)[0]\n",
        "    probability = best_model.predict_proba(input_scaled)[0][1]\n",
        "\n",
        "    return prediction, probability\n"
      ]
    },
    {
      "cell_type": "markdown",
      "metadata": {
        "id": "8DYGbioiDFOT"
      },
      "source": [
        "# Step 4 – Test the Function"
      ]
    },
    {
      "cell_type": "code",
      "execution_count": 89,
      "metadata": {
        "colab": {
          "base_uri": "https://localhost:8080/"
        },
        "id": "GvkSn_glEE2p",
        "outputId": "67ce24bd-51d9-47c1-8a8f-2350b1492745"
      },
      "outputs": [
        {
          "output_type": "stream",
          "name": "stdout",
          "text": [
            "Prediction: Stay, Probability: 0.08\n"
          ]
        },
        {
          "output_type": "stream",
          "name": "stderr",
          "text": [
            "/usr/local/lib/python3.11/dist-packages/sklearn/utils/validation.py:2739: UserWarning: X does not have valid feature names, but RandomForestClassifier was fitted with feature names\n",
            "  warnings.warn(\n",
            "/usr/local/lib/python3.11/dist-packages/sklearn/utils/validation.py:2739: UserWarning: X does not have valid feature names, but RandomForestClassifier was fitted with feature names\n",
            "  warnings.warn(\n"
          ]
        }
      ],
      "source": [
        "# Get the exact order of features\n",
        "feature_columns = list(X.columns)\n",
        "\n",
        "# Create a complete dict with default values for missing features\n",
        "sample_student = {col: 0 for col in feature_columns}  # start with zeros\n",
        "sample_student.update({\n",
        "    \"code_module\": 1,\n",
        "    \"code_presentation\": 2,\n",
        "    \"sum_click\": 150,\n",
        "    \"score\": 75,\n",
        "    \"avg_score_per_student\": 70,\n",
        "    \"click_score_ratio\": 2.14\n",
        "    # Add any other actual known values...\n",
        "})\n",
        "\n",
        "pred, prob = predict_dropout(sample_student)\n",
        "print(f\"Prediction: {'Dropout' if pred==1 else 'Stay'}, Probability: {prob:.2f}\")\n",
        "\n"
      ]
    },
    {
      "cell_type": "markdown",
      "metadata": {
        "id": "RTBBNAO0FMAo"
      },
      "source": [
        "# Step 5 – Ready for Deployment\n",
        "\n"
      ]
    },
    {
      "cell_type": "markdown",
      "metadata": {
        "id": "wxCw0o7WWbxW"
      },
      "source": [
        "# **📌 Phase 6 – Big Data Perspective**"
      ]
    },
    {
      "cell_type": "markdown",
      "metadata": {
        "id": "E8p89u8-oc-H"
      },
      "source": [
        "# **Big Data Challenges**\n",
        "\n",
        "# When moving from small CSVs to TBs of LMS data, challenges include:\n",
        "\n",
        "- Slow CSV reads → need columnar formats (Parquet, ORC)\n",
        "\n",
        "- Memory issues → repartition, caching, avoid broadcasts\n",
        "\n",
        "- Real-time data → LMS click logs arrive continuously"
      ]
    },
    {
      "cell_type": "markdown",
      "metadata": {
        "id": "zfqEfgSsWhwu"
      },
      "source": [
        "# Goal: Show how this student dropout prediction pipeline could scale to large datasets.\n",
        "We won’t actually run a big dataset here (Colab won’t handle TBs of data), but we’ll:\n",
        "\n",
        "- Write PySpark / Dask equivalents for your data ingestion, merging, and preprocessing steps.\n",
        "\n",
        "- Explain how to store data in S3, BigQuery, or Hive.\n",
        "\n",
        "- Show how you could handle real-time data streaming from an LMS (Learning Management System)."
      ]
    },
    {
      "cell_type": "markdown",
      "metadata": {
        "id": "LNpd6ELWWxQG"
      },
      "source": [
        "# **1️⃣ Batch Processing – PySpark Version of Phases 0–5**"
      ]
    },
    {
      "cell_type": "markdown",
      "metadata": {
        "id": "CiuN6nxLW5yK"
      },
      "source": [
        "- Spark will distribute the computation across multiple cores/nodes.\n",
        "\n",
        "- Can handle millions of rows easily."
      ]
    },
    {
      "cell_type": "code",
      "execution_count": 90,
      "metadata": {
        "colab": {
          "base_uri": "https://localhost:8080/"
        },
        "id": "EhKYVokinqvA",
        "outputId": "03839f78-8bbb-4615-91b7-b10116d92087"
      },
      "outputs": [
        {
          "output_type": "stream",
          "name": "stdout",
          "text": [
            "+----------+------------+-------+\n",
            "|id_student|total_clicks|dropout|\n",
            "+----------+------------+-------+\n",
            "|    180753|           0|      0|\n",
            "|    180753|           0|      0|\n",
            "|    180753|           0|      0|\n",
            "|    180753|           0|      0|\n",
            "|    180753|           0|      0|\n",
            "|    324084|           0|      0|\n",
            "|    324084|           0|      0|\n",
            "|    324084|           0|      0|\n",
            "|    324084|           0|      0|\n",
            "|    324084|           0|      0|\n",
            "+----------+------------+-------+\n",
            "only showing top 10 rows\n",
            "\n"
          ]
        }
      ],
      "source": [
        "# ------------------------------\n",
        "# Phase 0–5: Full Cleaned PySpark Pipeline\n",
        "# ------------------------------\n",
        "\n",
        "from pyspark.sql import SparkSession\n",
        "from pyspark.sql.functions import col, sum as spark_sum, when, coalesce, lit\n",
        "import os\n",
        "\n",
        "# ------------------------------\n",
        "# 1️⃣ Initialize Spark (Colab-friendly)\n",
        "# ------------------------------\n",
        "spark = (SparkSession.builder\n",
        "         .appName(\"OULAD Dropout Prediction\")\n",
        "         .config(\"spark.driver.memory\", \"4g\")  # Colab RAM\n",
        "         .getOrCreate())\n",
        "\n",
        "# ------------------------------\n",
        "# 2️⃣ Paths\n",
        "# ------------------------------\n",
        "data_path = \"/content/drive/MyDrive/Colab Notebooks/OULAD Dataset\"\n",
        "parquet_path = f\"{data_path}/parquet_data\"\n",
        "os.makedirs(parquet_path, exist_ok=True)\n",
        "\n",
        "# ------------------------------\n",
        "# 3️⃣ Read CSVs safely (infer schema)\n",
        "# ------------------------------\n",
        "student_info = spark.read.csv(f\"{data_path}/studentInfo.csv\", header=True, inferSchema=True)\n",
        "student_assessment = spark.read.csv(f\"{data_path}/studentAssessment.csv\", header=True, inferSchema=True)\n",
        "\n",
        "# Read multiple VLE CSVs and union\n",
        "student_vle_list = [spark.read.csv(f\"{data_path}/studentVle_{i}.csv\", header=True, inferSchema=True) for i in range(1, 8)]\n",
        "student_vle = student_vle_list[0]\n",
        "for df in student_vle_list[1:]:\n",
        "    student_vle = student_vle.union(df)\n",
        "\n",
        "# ------------------------------\n",
        "# 4️⃣ Optional: Save as Parquet for speed\n",
        "# ------------------------------\n",
        "student_info.write.mode(\"overwrite\").parquet(f\"{parquet_path}/student_info.parquet\")\n",
        "student_assessment.write.mode(\"overwrite\").parquet(f\"{parquet_path}/student_assessment.parquet\")\n",
        "student_vle.write.mode(\"overwrite\").parquet(f\"{parquet_path}/student_vle.parquet\")\n",
        "\n",
        "# ------------------------------\n",
        "# 5️⃣ Load Parquet (faster)\n",
        "# ------------------------------\n",
        "student_info = spark.read.parquet(f\"{parquet_path}/student_info.parquet\")\n",
        "student_assessment = spark.read.parquet(f\"{parquet_path}/student_assessment.parquet\")\n",
        "student_vle = spark.read.parquet(f\"{parquet_path}/student_vle.parquet\")\n",
        "\n",
        "# ------------------------------\n",
        "# 6️⃣ Aggregate VLE clicks safely\n",
        "# ------------------------------\n",
        "student_vle = student_vle.repartition(\"id_student\")  # optimize join shuffle\n",
        "student_vle_agg = student_vle.groupBy(\"id_student\") \\\n",
        "                             .agg(spark_sum(coalesce(col(\"sum_click\"), lit(0))).alias(\"total_clicks\")) \\\n",
        "                             .cache()\n",
        "\n",
        "# ------------------------------\n",
        "# 7️⃣ Repartition DataFrames for safe joins\n",
        "# ------------------------------\n",
        "student_info = student_info.repartition(\"id_student\")\n",
        "student_assessment = student_assessment.repartition(\"id_student\")\n",
        "student_vle_agg = student_vle_agg.repartition(\"id_student\")\n",
        "\n",
        "# ------------------------------\n",
        "# 8️⃣ Join datasets (no broadcast)\n",
        "# ------------------------------\n",
        "student_df = student_info.join(student_vle_agg, on=\"id_student\", how=\"left\") \\\n",
        "                         .join(student_assessment, on=\"id_student\", how=\"left\")\n",
        "\n",
        "# ------------------------------\n",
        "# 9️⃣ Clean total_clicks and add dropout label\n",
        "# ------------------------------\n",
        "student_df = student_df.withColumn(\"total_clicks\", coalesce(col(\"total_clicks\"), lit(0))) \\\n",
        "                       .withColumn(\"dropout\", when(col(\"final_result\") == \"Withdrawn\", 1).otherwise(0))\n",
        "\n",
        "# ------------------------------\n",
        "# 10️⃣ Preview cleaned DataFrame\n",
        "# ------------------------------\n",
        "student_df.select(\"id_student\", \"total_clicks\", \"dropout\").show(10)\n"
      ]
    },
    {
      "cell_type": "markdown",
      "metadata": {
        "id": "gqPBHBWSpz7J"
      },
      "source": [
        "# ***Completed  ✅ ***\n",
        "\n",
        "# **Data Ingestion**\n",
        "\n",
        "- Reading multiple CSVs (studentInfo.csv, studentAssessment.csv, studentVle_*.csv)\n",
        "\n",
        "- Unioning multiple VLE CSVs\n",
        "\n",
        "- Optional saving/loading as Parquet for faster access\n",
        "\n",
        "- Supports large-scale ingestion**\n",
        "\n",
        "# **Data Cleaning / Preprocessing**\n",
        "\n",
        "- Aggregating VLE clicks safely (groupBy + sum + coalesce)\n",
        "\n",
        "- Repartitioning DataFrames to optimize joins\n",
        "\n",
        "-  Joining student_info, student_vle_agg, and student_assessment\n",
        "\n",
        "- Filling null values and adding dropout label\n",
        "\n",
        "- All major preprocessing done in a scalable way\n",
        "\n",
        "# **Optimization for Big Data**\n",
        "\n",
        "- Using repartition to reduce shuffle cost\n",
        "\n",
        "- Caching aggregated VLE DataFrame (student_vle_agg.cache())\n",
        "\n",
        "- Writing intermediate data as Parquet (columnar storage, faster queries)\n",
        "\n",
        "- Ready for distributed computation"
      ]
    },
    {
      "cell_type": "markdown",
      "metadata": {
        "id": "z3apfWy_hLgj"
      },
      "source": [
        "# **✅ Phases Completed**\n",
        "# 🔰 Phase 0 – Setup & Dataset Selection\n",
        "\n",
        "✔ You chose OULAD\n",
        "\n",
        "✔ Loaded all CSVs into Colab\n",
        "\n",
        "✔ Understood file structure\n",
        "\n",
        "# 📆 Phase 1 – Data Ingestion & Merging\n",
        "\n",
        "✔ Loaded with pandas (initially)\n",
        "\n",
        "✔ Later implemented PySpark ingestion + merging\n",
        "\n",
        "# 🧹 Phase 2 – Data Cleaning & Preprocessing\n",
        "\n",
        "✔ Handled missing values (imputation)\n",
        "\n",
        "✔ Encoded categoricals\n",
        "\n",
        "✔ Scaling/normalization\n",
        "\n",
        "✔ Feature engineering (clicks, scores, ratio, dropout label)\n",
        "\n",
        "# 📊 Phase 3 – EDA\n",
        "\n",
        "✔ Visualizations: dropout distribution, engagement vs dropout, gender/age/education effects, correlation matrix\n",
        "\n",
        "# 🧠 Phase 4 – Predictive Modeling\n",
        "\n",
        "✔ Logistic Regression, Random Forest, XGBoost\n",
        "\n",
        "✔ Accuracy, Precision, Recall, F1, AUC\n",
        "\n",
        "✔ Confusion Matrix, ROC curve\n",
        "\n",
        "# 🔬 Phase 5 – Model Interpretation\n",
        "\n",
        "✔ Feature importance (Random Forest)\n",
        "\n",
        "✔ SHAP Beeswarm plot for interpretability\n",
        "\n",
        "✔ Single prediction function\n",
        "\n",
        "# ⚙️ Phase 6 – Big Data Perspective\n",
        "\n",
        "✔ PySpark pipeline (done by you just now)\n",
        "Still missing:\n",
        "\n",
        "⏳ Show Dask equivalent (lighter big-data framework)\n",
        "\n",
        "⏳ Example: Cloud storage integration (S3 / GCS / Hive / BigQuery)\n",
        "\n",
        "⏳ Example: Streaming logs simulation (real-time LMS clicks → Kafka / Spark Streaming)"
      ]
    },
    {
      "cell_type": "markdown",
      "metadata": {
        "id": "6jrSKuuXhswb"
      },
      "source": [
        "# **🔜 What’s Left?**\n",
        "\n",
        "# - (Optional) Dask version of your pipeline → easier to run in Colab without Spark overhead.\n",
        "\n",
        "# - Cloud-scale storage demo:\n",
        "\n",
        "- How your data could be written/read from AWS S3, Google BigQuery, or Hive tables.\n",
        "\n",
        "\n",
        "#-  Streaming ingestion simulation:\n",
        "\n",
        "- Example: Kafka / Spark Structured Streaming to read LMS click logs in real time.\n",
        "\n"
      ]
    },
    {
      "cell_type": "markdown",
      "metadata": {
        "id": "0arJfiZhitfJ"
      },
      "source": [
        "# **⚙️ Phase 6 (Dask Version) – Big Data Perspective**\n"
      ]
    },
    {
      "cell_type": "code",
      "execution_count": 91,
      "metadata": {
        "id": "2DVvgYEDja-y",
        "colab": {
          "base_uri": "https://localhost:8080/"
        },
        "outputId": "d793b2b4-fcb4-49ff-f776-5e878fb31105"
      },
      "outputs": [
        {
          "output_type": "stream",
          "name": "stdout",
          "text": [
            "✅ Data saved as Parquet for faster reloads\n",
            "  code_module code_presentation  id_student gender               region  \\\n",
            "0         AAA             2013J     11391.0      M  East Anglian Region   \n",
            "1         AAA             2013J     11391.0      M  East Anglian Region   \n",
            "2         AAA             2013J     11391.0      M  East Anglian Region   \n",
            "3         AAA             2013J     11391.0      M  East Anglian Region   \n",
            "4         AAA             2013J     11391.0      M  East Anglian Region   \n",
            "5         AAA             2013J     28400.0      F             Scotland   \n",
            "6         AAA             2013J     28400.0      F             Scotland   \n",
            "7         AAA             2013J     28400.0      F             Scotland   \n",
            "8         AAA             2013J     28400.0      F             Scotland   \n",
            "9         AAA             2013J     28400.0      F             Scotland   \n",
            "\n",
            "  highest_education imd_band age_band  num_of_prev_attempts  studied_credits  \\\n",
            "0  HE Qualification  90-100%     55<=                   0.0            240.0   \n",
            "1  HE Qualification  90-100%     55<=                   0.0            240.0   \n",
            "2  HE Qualification  90-100%     55<=                   0.0            240.0   \n",
            "3  HE Qualification  90-100%     55<=                   0.0            240.0   \n",
            "4  HE Qualification  90-100%     55<=                   0.0            240.0   \n",
            "5  HE Qualification   20-30%    35-55                   0.0             60.0   \n",
            "6  HE Qualification   20-30%    35-55                   0.0             60.0   \n",
            "7  HE Qualification   20-30%    35-55                   0.0             60.0   \n",
            "8  HE Qualification   20-30%    35-55                   0.0             60.0   \n",
            "9  HE Qualification   20-30%    35-55                   0.0             60.0   \n",
            "\n",
            "  disability final_result  total_clicks  id_assessment  date_submitted  \\\n",
            "0          N         Pass           NaN         1752.0            18.0   \n",
            "1          N         Pass           NaN         1753.0            53.0   \n",
            "2          N         Pass           NaN         1754.0           115.0   \n",
            "3          N         Pass           NaN         1755.0           164.0   \n",
            "4          N         Pass           NaN         1756.0           212.0   \n",
            "5          N         Pass           NaN         1752.0            22.0   \n",
            "6          N         Pass           NaN         1753.0            52.0   \n",
            "7          N         Pass           NaN         1754.0           121.0   \n",
            "8          N         Pass           NaN         1755.0           164.0   \n",
            "9          N         Pass           NaN         1756.0           212.0   \n",
            "\n",
            "   is_banked  score  dropout  \n",
            "0        0.0   78.0        0  \n",
            "1        0.0   85.0        0  \n",
            "2        0.0   80.0        0  \n",
            "3        0.0   85.0        0  \n",
            "4        0.0   82.0        0  \n",
            "5        0.0   70.0        0  \n",
            "6        0.0   68.0        0  \n",
            "7        0.0   70.0        0  \n",
            "8        0.0   64.0        0  \n",
            "9        0.0   60.0        0  \n"
          ]
        }
      ],
      "source": [
        "# ------------------------------\n",
        "# Phase 6: Dask Pipeline for OULAD (with Parquet)\n",
        "# ------------------------------\n",
        "\n",
        "import dask.dataframe as dd\n",
        "import os\n",
        "\n",
        "# ------------------------------\n",
        "# 1️⃣ Paths\n",
        "# ------------------------------\n",
        "data_path = \"/content/drive/MyDrive/Colab Notebooks/OULAD Dataset\"\n",
        "parquet_path = f\"{data_path}/dask_parquet\"\n",
        "os.makedirs(parquet_path, exist_ok=True)\n",
        "\n",
        "# ------------------------------\n",
        "# 2️⃣ Read CSVs safely\n",
        "# ------------------------------\n",
        "student_info = dd.read_csv(f\"{data_path}/studentInfo.csv\", assume_missing=True)\n",
        "student_assessment = dd.read_csv(f\"{data_path}/studentAssessment.csv\", assume_missing=True)\n",
        "\n",
        "# Read multiple VLE CSVs in parallel\n",
        "student_vle = dd.read_csv([f\"{data_path}/studentVle_{i}.csv\" for i in range(1, 8)], assume_missing=True)\n",
        "\n",
        "# ------------------------------\n",
        "# 3️⃣ Aggregate VLE clicks\n",
        "# ------------------------------\n",
        "student_vle_agg = student_vle.groupby(\"id_student\")[\"sum_click\"].sum().reset_index()\n",
        "student_vle_agg = student_vle_agg.rename(columns={\"sum_click\": \"total_clicks\"})\n",
        "\n",
        "# ------------------------------\n",
        "# 4️⃣ Merge datasets\n",
        "# ------------------------------\n",
        "student_df = student_info.merge(student_vle_agg, on=\"id_student\", how=\"left\") \\\n",
        "                         .merge(student_assessment, on=\"id_student\", how=\"left\")\n",
        "\n",
        "# ------------------------------\n",
        "# 5️⃣ Add dropout label\n",
        "# ------------------------------\n",
        "student_df[\"dropout\"] = (student_df[\"final_result\"] == \"Withdrawn\").astype(int)\n",
        "\n",
        "# ------------------------------\n",
        "# 6️⃣ Save as Parquet (optimized format)\n",
        "# ------------------------------\n",
        "student_info.to_parquet(f\"{parquet_path}/student_info.parquet\", overwrite=True)\n",
        "student_assessment.to_parquet(f\"{parquet_path}/student_assessment.parquet\", overwrite=True)\n",
        "student_vle_agg.to_parquet(f\"{parquet_path}/student_vle.parquet\", overwrite=True)\n",
        "student_df.to_parquet(f\"{parquet_path}/student_df.parquet\", overwrite=True)\n",
        "\n",
        "print(\"✅ Data saved as Parquet for faster reloads\")\n",
        "\n",
        "# ------------------------------\n",
        "# 7️⃣ Reload Parquet (fast)\n",
        "# ------------------------------\n",
        "student_df = dd.read_parquet(f\"{parquet_path}/student_df.parquet\")\n",
        "\n",
        "# ------------------------------\n",
        "# 8️⃣ Preview final dataset\n",
        "# ------------------------------\n",
        "print(student_df.head(10))\n"
      ]
    },
    {
      "cell_type": "markdown",
      "metadata": {
        "id": "gKNLwXMti-HT"
      },
      "source": [
        "# **🔑 Key Notes:**\n",
        "\n",
        "- Unlike PySpark, Dask runs in parallel on CPU cores without JVM overhead → much faster in Colab.\n",
        "\n",
        "- You still get lazy evaluation like Spark (operations are delayed until .compute() or .head() is called).\n",
        "\n",
        "- For bigger clusters, you can even scale this with Dask.distributed."
      ]
    },
    {
      "cell_type": "markdown",
      "metadata": {
        "id": "2NpC78l-jKYT"
      },
      "source": [
        "# **✅ Now you have:**\n",
        "\n",
        "- PySpark version (full distributed pipeline).\n",
        "\n",
        "- Dask version (faster, easier in Colab)."
      ]
    },
    {
      "cell_type": "markdown",
      "metadata": {
        "id": "dWjcmK26SNfz"
      },
      "source": [
        "# **Cloud storage integration (S3, Hive, BigQuery).**\n",
        "\n",
        "Save your cleaned student_df to S3, Hive, or BigQuery."
      ]
    },
    {
      "cell_type": "markdown",
      "metadata": {
        "id": "s_8_WsDWj8gr"
      },
      "source": [
        "# **☁️ Option A — AWS S3**\n",
        "\n",
        "# **✅ Spark ↔ S3 (Parquet/CSV)**"
      ]
    },
    {
      "cell_type": "markdown",
      "metadata": {
        "id": "aJsxPrRllXCy"
      },
      "source": [
        "- Adding Hadoop-AWS + AWS SDK JARs (needed for s3a://).\n",
        "\n",
        "- Passing your AWS keys + region properly.\n",
        "\n",
        "- Demonstrating read/write to S3."
      ]
    },
    {
      "cell_type": "code",
      "execution_count": 45,
      "metadata": {
        "id": "JXHmyvyP1cYx",
        "colab": {
          "base_uri": "https://localhost:8080/"
        },
        "outputId": "e47401a7-7213-4d93-c891-010f2902aebb"
      },
      "outputs": [
        {
          "output_type": "stream",
          "name": "stdout",
          "text": [
            "Requirement already satisfied: pyspark==3.5.1 in /usr/local/lib/python3.11/dist-packages (3.5.1)\n",
            "Requirement already satisfied: findspark in /usr/local/lib/python3.11/dist-packages (2.0.1)\n",
            "Requirement already satisfied: py4j==0.10.9.7 in /usr/local/lib/python3.11/dist-packages (from pyspark==3.5.1) (0.10.9.7)\n",
            "✅ Student Info Sample:\n",
            "+-----------+-----------------+----------+------+--------------------+--------------------+--------+--------+--------------------+---------------+----------+------------+\n",
            "|code_module|code_presentation|id_student|gender|              region|   highest_education|imd_band|age_band|num_of_prev_attempts|studied_credits|disability|final_result|\n",
            "+-----------+-----------------+----------+------+--------------------+--------------------+--------+--------+--------------------+---------------+----------+------------+\n",
            "|        AAA|            2013J|     11391|     M| East Anglian Region|    HE Qualification| 90-100%|    55<=|                   0|            240|         N|        Pass|\n",
            "|        AAA|            2013J|     28400|     F|            Scotland|    HE Qualification|  20-30%|   35-55|                   0|             60|         N|        Pass|\n",
            "|        AAA|            2013J|     30268|     F|North Western Region|A Level or Equiva...|  30-40%|   35-55|                   0|             60|         Y|   Withdrawn|\n",
            "|        AAA|            2013J|     31604|     F|   South East Region|A Level or Equiva...|  50-60%|   35-55|                   0|             60|         N|        Pass|\n",
            "|        AAA|            2013J|     32885|     F|West Midlands Region|  Lower Than A Level|  50-60%|    0-35|                   0|             60|         N|        Pass|\n",
            "+-----------+-----------------+----------+------+--------------------+--------------------+--------+--------+--------------------+---------------+----------+------------+\n",
            "only showing top 5 rows\n",
            "\n",
            "✅ Student Assessment Sample:\n",
            "+-------------+----------+--------------+---------+-----+\n",
            "|id_assessment|id_student|date_submitted|is_banked|score|\n",
            "+-------------+----------+--------------+---------+-----+\n",
            "|         1752|     11391|            18|        0|   78|\n",
            "|         1752|     28400|            22|        0|   70|\n",
            "|         1752|     31604|            17|        0|   72|\n",
            "|         1752|     32885|            26|        0|   69|\n",
            "|         1752|     38053|            19|        0|   79|\n",
            "+-------------+----------+--------------+---------+-----+\n",
            "only showing top 5 rows\n",
            "\n",
            "✅ Written Parquet files to Google Drive\n",
            "✅ Read Back from Parquet:\n",
            "+-----------+-----------------+----------+------+--------------------+--------------------+--------+--------+--------------------+---------------+----------+------------+\n",
            "|code_module|code_presentation|id_student|gender|              region|   highest_education|imd_band|age_band|num_of_prev_attempts|studied_credits|disability|final_result|\n",
            "+-----------+-----------------+----------+------+--------------------+--------------------+--------+--------+--------------------+---------------+----------+------------+\n",
            "|        AAA|            2013J|     11391|     M| East Anglian Region|    HE Qualification| 90-100%|    55<=|                   0|            240|         N|        Pass|\n",
            "|        AAA|            2013J|     28400|     F|            Scotland|    HE Qualification|  20-30%|   35-55|                   0|             60|         N|        Pass|\n",
            "|        AAA|            2013J|     30268|     F|North Western Region|A Level or Equiva...|  30-40%|   35-55|                   0|             60|         Y|   Withdrawn|\n",
            "|        AAA|            2013J|     31604|     F|   South East Region|A Level or Equiva...|  50-60%|   35-55|                   0|             60|         N|        Pass|\n",
            "|        AAA|            2013J|     32885|     F|West Midlands Region|  Lower Than A Level|  50-60%|    0-35|                   0|             60|         N|        Pass|\n",
            "+-----------+-----------------+----------+------+--------------------+--------------------+--------+--------+--------------------+---------------+----------+------------+\n",
            "only showing top 5 rows\n",
            "\n"
          ]
        },
        {
          "output_type": "execute_result",
          "data": {
            "text/plain": [
              "[]"
            ]
          },
          "metadata": {},
          "execution_count": 45
        }
      ],
      "source": [
        "# ==========================\n",
        "# 1️⃣ Install dependencies\n",
        "# ==========================\n",
        "!pip install pyspark==3.5.1 findspark\n",
        "\n",
        "# ==========================\n",
        "# 2️⃣ Imports\n",
        "# ==========================\n",
        "from pyspark.sql import SparkSession\n",
        "import os\n",
        "\n",
        "# ==========================\n",
        "# 3️⃣ Google Drive Path Setup\n",
        "# ==========================\n",
        "# Make sure your dataset is uploaded to Drive: /content/drive/MyDrive/Colab Notebooks/OULAD Dataset\n",
        "data_path = \"/content/drive/MyDrive/Colab Notebooks/OULAD Dataset\"\n",
        "parquet_path = f\"{data_path}/parquet_data\"\n",
        "os.makedirs(parquet_path, exist_ok=True)\n",
        "\n",
        "# ==========================\n",
        "# 4️⃣ Start Spark Session\n",
        "# ==========================\n",
        "spark = (SparkSession.builder\n",
        "         .appName(\"OULAD-GDrive\")\n",
        "         .config(\"spark.driver.memory\", \"4g\")\n",
        "         .getOrCreate())\n",
        "\n",
        "# ==========================\n",
        "# 5️⃣ Read CSV from Google Drive\n",
        "# ==========================\n",
        "df_info = spark.read.csv(f\"{data_path}/studentInfo.csv\",\n",
        "                         header=True, inferSchema=True)\n",
        "\n",
        "df_assess = spark.read.csv(f\"{data_path}/studentAssessment.csv\",\n",
        "                           header=True, inferSchema=True)\n",
        "\n",
        "# ==========================\n",
        "# 6️⃣ Show Sample\n",
        "# ==========================\n",
        "print(\"✅ Student Info Sample:\")\n",
        "df_info.show(5)\n",
        "\n",
        "print(\"✅ Student Assessment Sample:\")\n",
        "df_assess.show(5)\n",
        "\n",
        "# ==========================\n",
        "# 7️⃣ Save as Parquet (Big Data friendly)\n",
        "# ==========================\n",
        "df_info.write.mode(\"overwrite\").parquet(f\"{parquet_path}/student_info.parquet\")\n",
        "df_assess.write.mode(\"overwrite\").parquet(f\"{parquet_path}/student_assess.parquet\")\n",
        "\n",
        "print(\"✅ Written Parquet files to Google Drive\")\n",
        "\n",
        "# ==========================\n",
        "# 8️⃣ Read Back Parquet to Verify\n",
        "# ==========================\n",
        "df_info2 = spark.read.parquet(f\"{parquet_path}/student_info.parquet\")\n",
        "print(\"✅ Read Back from Parquet:\")\n",
        "df_info2.show(5)\n",
        "[]"
      ]
    },
    {
      "cell_type": "markdown",
      "metadata": {
        "id": "97UVIm-ckGr7"
      },
      "source": [
        "# **✅ Dask ↔ S3 (uses s3fs)**"
      ]
    },
    {
      "cell_type": "code",
      "source": [],
      "metadata": {
        "id": "qZQFuzMp0iXs"
      },
      "execution_count": null,
      "outputs": []
    },
    {
      "cell_type": "code",
      "execution_count": 97,
      "metadata": {
        "id": "DBFgrF9P3OGQ",
        "colab": {
          "base_uri": "https://localhost:8080/"
        },
        "outputId": "b78b8dcb-a8b0-4570-99dc-39de7a80ede9"
      },
      "outputs": [
        {
          "output_type": "stream",
          "name": "stdout",
          "text": [
            "Requirement already satisfied: fsspec in /usr/local/lib/python3.11/dist-packages (2025.3.0)\n",
            "Requirement already satisfied: gcsfs in /usr/local/lib/python3.11/dist-packages (2025.3.0)\n",
            "Requirement already satisfied: dask[complete] in /usr/local/lib/python3.11/dist-packages (2025.5.0)\n",
            "Requirement already satisfied: click>=8.1 in /usr/local/lib/python3.11/dist-packages (from dask[complete]) (8.2.1)\n",
            "Requirement already satisfied: cloudpickle>=3.0.0 in /usr/local/lib/python3.11/dist-packages (from dask[complete]) (3.1.1)\n",
            "Requirement already satisfied: packaging>=20.0 in /usr/local/lib/python3.11/dist-packages (from dask[complete]) (25.0)\n",
            "Requirement already satisfied: partd>=1.4.0 in /usr/local/lib/python3.11/dist-packages (from dask[complete]) (1.4.2)\n",
            "Requirement already satisfied: pyyaml>=5.3.1 in /usr/local/lib/python3.11/dist-packages (from dask[complete]) (6.0.2)\n",
            "Requirement already satisfied: toolz>=0.10.0 in /usr/local/lib/python3.11/dist-packages (from dask[complete]) (0.12.1)\n",
            "Requirement already satisfied: importlib_metadata>=4.13.0 in /usr/local/lib/python3.11/dist-packages (from dask[complete]) (8.7.0)\n",
            "Requirement already satisfied: pyarrow>=14.0.1 in /usr/local/lib/python3.11/dist-packages (from dask[complete]) (18.1.0)\n",
            "Requirement already satisfied: lz4>=4.3.2 in /usr/local/lib/python3.11/dist-packages (from dask[complete]) (4.4.4)\n",
            "Requirement already satisfied: aiohttp!=4.0.0a0,!=4.0.0a1 in /usr/local/lib/python3.11/dist-packages (from gcsfs) (3.12.15)\n",
            "Requirement already satisfied: decorator>4.1.2 in /usr/local/lib/python3.11/dist-packages (from gcsfs) (4.4.2)\n",
            "Requirement already satisfied: google-auth>=1.2 in /usr/local/lib/python3.11/dist-packages (from gcsfs) (2.38.0)\n",
            "Requirement already satisfied: google-auth-oauthlib in /usr/local/lib/python3.11/dist-packages (from gcsfs) (1.2.2)\n",
            "Requirement already satisfied: google-cloud-storage in /usr/local/lib/python3.11/dist-packages (from gcsfs) (2.19.0)\n",
            "Requirement already satisfied: requests in /usr/local/lib/python3.11/dist-packages (from gcsfs) (2.32.3)\n",
            "Requirement already satisfied: aiohappyeyeballs>=2.5.0 in /usr/local/lib/python3.11/dist-packages (from aiohttp!=4.0.0a0,!=4.0.0a1->gcsfs) (2.6.1)\n",
            "Requirement already satisfied: aiosignal>=1.4.0 in /usr/local/lib/python3.11/dist-packages (from aiohttp!=4.0.0a0,!=4.0.0a1->gcsfs) (1.4.0)\n",
            "Requirement already satisfied: attrs>=17.3.0 in /usr/local/lib/python3.11/dist-packages (from aiohttp!=4.0.0a0,!=4.0.0a1->gcsfs) (25.3.0)\n",
            "Requirement already satisfied: frozenlist>=1.1.1 in /usr/local/lib/python3.11/dist-packages (from aiohttp!=4.0.0a0,!=4.0.0a1->gcsfs) (1.7.0)\n",
            "Requirement already satisfied: multidict<7.0,>=4.5 in /usr/local/lib/python3.11/dist-packages (from aiohttp!=4.0.0a0,!=4.0.0a1->gcsfs) (6.6.4)\n",
            "Requirement already satisfied: propcache>=0.2.0 in /usr/local/lib/python3.11/dist-packages (from aiohttp!=4.0.0a0,!=4.0.0a1->gcsfs) (0.3.2)\n",
            "Requirement already satisfied: yarl<2.0,>=1.17.0 in /usr/local/lib/python3.11/dist-packages (from aiohttp!=4.0.0a0,!=4.0.0a1->gcsfs) (1.20.1)\n",
            "Requirement already satisfied: cachetools<6.0,>=2.0.0 in /usr/local/lib/python3.11/dist-packages (from google-auth>=1.2->gcsfs) (5.5.2)\n",
            "Requirement already satisfied: pyasn1-modules>=0.2.1 in /usr/local/lib/python3.11/dist-packages (from google-auth>=1.2->gcsfs) (0.4.2)\n",
            "Requirement already satisfied: rsa<5,>=3.1.4 in /usr/local/lib/python3.11/dist-packages (from google-auth>=1.2->gcsfs) (4.9.1)\n",
            "Requirement already satisfied: zipp>=3.20 in /usr/local/lib/python3.11/dist-packages (from importlib_metadata>=4.13.0->dask[complete]) (3.23.0)\n",
            "Requirement already satisfied: locket in /usr/local/lib/python3.11/dist-packages (from partd>=1.4.0->dask[complete]) (1.0.0)\n",
            "Requirement already satisfied: numpy>=1.24 in /usr/local/lib/python3.11/dist-packages (from dask[complete]) (2.0.2)\n",
            "Requirement already satisfied: pandas>=2.0 in /usr/local/lib/python3.11/dist-packages (from dask[complete]) (2.2.2)\n",
            "Requirement already satisfied: distributed==2025.5.0 in /usr/local/lib/python3.11/dist-packages (from dask[complete]) (2025.5.0)\n",
            "Requirement already satisfied: bokeh>=3.1.0 in /usr/local/lib/python3.11/dist-packages (from dask[complete]) (3.7.3)\n",
            "Requirement already satisfied: jinja2>=2.10.3 in /usr/local/lib/python3.11/dist-packages (from dask[complete]) (3.1.6)\n",
            "Requirement already satisfied: msgpack>=1.0.2 in /usr/local/lib/python3.11/dist-packages (from distributed==2025.5.0->dask[complete]) (1.1.1)\n",
            "Requirement already satisfied: psutil>=5.8.0 in /usr/local/lib/python3.11/dist-packages (from distributed==2025.5.0->dask[complete]) (5.9.5)\n",
            "Requirement already satisfied: sortedcontainers>=2.0.5 in /usr/local/lib/python3.11/dist-packages (from distributed==2025.5.0->dask[complete]) (2.4.0)\n",
            "Requirement already satisfied: tblib>=1.6.0 in /usr/local/lib/python3.11/dist-packages (from distributed==2025.5.0->dask[complete]) (3.1.0)\n",
            "Requirement already satisfied: tornado>=6.2.0 in /usr/local/lib/python3.11/dist-packages (from distributed==2025.5.0->dask[complete]) (6.4.2)\n",
            "Requirement already satisfied: urllib3>=1.26.5 in /usr/local/lib/python3.11/dist-packages (from distributed==2025.5.0->dask[complete]) (2.5.0)\n",
            "Requirement already satisfied: zict>=3.0.0 in /usr/local/lib/python3.11/dist-packages (from distributed==2025.5.0->dask[complete]) (3.0.0)\n",
            "Requirement already satisfied: requests-oauthlib>=0.7.0 in /usr/local/lib/python3.11/dist-packages (from google-auth-oauthlib->gcsfs) (2.0.0)\n",
            "Requirement already satisfied: google-api-core<3.0.0dev,>=2.15.0 in /usr/local/lib/python3.11/dist-packages (from google-cloud-storage->gcsfs) (2.25.1)\n",
            "Requirement already satisfied: google-cloud-core<3.0dev,>=2.3.0 in /usr/local/lib/python3.11/dist-packages (from google-cloud-storage->gcsfs) (2.4.3)\n",
            "Requirement already satisfied: google-resumable-media>=2.7.2 in /usr/local/lib/python3.11/dist-packages (from google-cloud-storage->gcsfs) (2.7.2)\n",
            "Requirement already satisfied: google-crc32c<2.0dev,>=1.0 in /usr/local/lib/python3.11/dist-packages (from google-cloud-storage->gcsfs) (1.7.1)\n",
            "Requirement already satisfied: charset-normalizer<4,>=2 in /usr/local/lib/python3.11/dist-packages (from requests->gcsfs) (3.4.3)\n",
            "Requirement already satisfied: idna<4,>=2.5 in /usr/local/lib/python3.11/dist-packages (from requests->gcsfs) (3.10)\n",
            "Requirement already satisfied: certifi>=2017.4.17 in /usr/local/lib/python3.11/dist-packages (from requests->gcsfs) (2025.8.3)\n",
            "Requirement already satisfied: typing-extensions>=4.2 in /usr/local/lib/python3.11/dist-packages (from aiosignal>=1.4.0->aiohttp!=4.0.0a0,!=4.0.0a1->gcsfs) (4.14.1)\n",
            "Requirement already satisfied: contourpy>=1.2 in /usr/local/lib/python3.11/dist-packages (from bokeh>=3.1.0->dask[complete]) (1.3.3)\n",
            "Requirement already satisfied: narwhals>=1.13 in /usr/local/lib/python3.11/dist-packages (from bokeh>=3.1.0->dask[complete]) (2.1.1)\n",
            "Requirement already satisfied: pillow>=7.1.0 in /usr/local/lib/python3.11/dist-packages (from bokeh>=3.1.0->dask[complete]) (11.3.0)\n",
            "Requirement already satisfied: xyzservices>=2021.09.1 in /usr/local/lib/python3.11/dist-packages (from bokeh>=3.1.0->dask[complete]) (2025.4.0)\n",
            "Requirement already satisfied: googleapis-common-protos<2.0.0,>=1.56.2 in /usr/local/lib/python3.11/dist-packages (from google-api-core<3.0.0dev,>=2.15.0->google-cloud-storage->gcsfs) (1.70.0)\n",
            "Requirement already satisfied: protobuf!=3.20.0,!=3.20.1,!=4.21.0,!=4.21.1,!=4.21.2,!=4.21.3,!=4.21.4,!=4.21.5,<7.0.0,>=3.19.5 in /usr/local/lib/python3.11/dist-packages (from google-api-core<3.0.0dev,>=2.15.0->google-cloud-storage->gcsfs) (5.29.5)\n",
            "Requirement already satisfied: proto-plus<2.0.0,>=1.22.3 in /usr/local/lib/python3.11/dist-packages (from google-api-core<3.0.0dev,>=2.15.0->google-cloud-storage->gcsfs) (1.26.1)\n",
            "Requirement already satisfied: MarkupSafe>=2.0 in /usr/local/lib/python3.11/dist-packages (from jinja2>=2.10.3->dask[complete]) (3.0.2)\n",
            "Requirement already satisfied: python-dateutil>=2.8.2 in /usr/local/lib/python3.11/dist-packages (from pandas>=2.0->dask[complete]) (2.9.0.post0)\n",
            "Requirement already satisfied: pytz>=2020.1 in /usr/local/lib/python3.11/dist-packages (from pandas>=2.0->dask[complete]) (2025.2)\n",
            "Requirement already satisfied: tzdata>=2022.7 in /usr/local/lib/python3.11/dist-packages (from pandas>=2.0->dask[complete]) (2025.2)\n",
            "Requirement already satisfied: pyasn1<0.7.0,>=0.6.1 in /usr/local/lib/python3.11/dist-packages (from pyasn1-modules>=0.2.1->google-auth>=1.2->gcsfs) (0.6.1)\n",
            "Requirement already satisfied: oauthlib>=3.0.0 in /usr/local/lib/python3.11/dist-packages (from requests-oauthlib>=0.7.0->google-auth-oauthlib->gcsfs) (3.3.1)\n",
            "Requirement already satisfied: six>=1.5 in /usr/local/lib/python3.11/dist-packages (from python-dateutil>=2.8.2->pandas>=2.0->dask[complete]) (1.17.0)\n",
            "✅ Parquet Read Back:\n",
            "  code_module code_presentation  id_student gender                region  \\\n",
            "0         AAA             2013J       11391      M   East Anglian Region   \n",
            "1         AAA             2013J       28400      F              Scotland   \n",
            "2         AAA             2013J       30268      F  North Western Region   \n",
            "3         AAA             2013J       31604      F     South East Region   \n",
            "4         AAA             2013J       32885      F  West Midlands Region   \n",
            "\n",
            "       highest_education imd_band age_band  num_of_prev_attempts  \\\n",
            "0       HE Qualification  90-100%     55<=                     0   \n",
            "1       HE Qualification   20-30%    35-55                     0   \n",
            "2  A Level or Equivalent   30-40%    35-55                     0   \n",
            "3  A Level or Equivalent   50-60%    35-55                     0   \n",
            "4     Lower Than A Level   50-60%     0-35                     0   \n",
            "\n",
            "   studied_credits disability final_result  \n",
            "0              240          N         Pass  \n",
            "1               60          N         Pass  \n",
            "2               60          Y    Withdrawn  \n",
            "3               60          N         Pass  \n",
            "4               60          N         Pass  \n"
          ]
        }
      ],
      "source": [
        "# ==========================\n",
        "# 1️⃣ Install dependencies\n",
        "# ==========================\n",
        "!pip install dask[complete] fsspec gcsfs\n",
        "\n",
        "# ==========================\n",
        "# 2️⃣ Imports\n",
        "# ==========================\n",
        "import dask.dataframe as dd\n",
        "import os\n",
        "\n",
        "# ==========================\n",
        "# 3️⃣ Google Drive Path\n",
        "# ==========================\n",
        "# Make sure your dataset is in Drive: /content/drive/MyDrive/Colab Notebooks/OULAD Dataset\n",
        "data_path = \"/content/drive/MyDrive/Colab Notebooks/OULAD Dataset\"\n",
        "parquet_path = f\"{data_path}/parquet_data\"\n",
        "os.makedirs(parquet_path, exist_ok=True)\n",
        "\n",
        "# ==========================\n",
        "# 4️⃣ Read CSV from Google Drive\n",
        "# ==========================\n",
        "student_info = dd.read_csv(f\"{data_path}/studentInfo.csv\")\n",
        "\n",
        "# ==========================\n",
        "# 5️⃣ Save as Parquet\n",
        "# ==========================\n",
        "student_info.to_parquet(f\"{parquet_path}/dask_student_info.parquet\", overwrite=True)\n",
        "\n",
        "# ==========================\n",
        "# 6️⃣ Read Back Parquet\n",
        "# ==========================\n",
        "student_info2 = dd.read_parquet(f\"{parquet_path}/dask_student_info.parquet\")\n",
        "\n",
        "print(\"✅ Parquet Read Back:\")\n",
        "print(student_info2.head())\n"
      ]
    },
    {
      "cell_type": "markdown",
      "metadata": {
        "id": "Aaxa2NGukRVi"
      },
      "source": [
        "# **Notes**\n",
        "\n",
        "- Prefer Parquet over CSV (smaller, faster).\n",
        "\n",
        "- In production, avoid hardcoding keys — use IAM roles (EC2/EMR) or AWS profiles."
      ]
    },
    {
      "cell_type": "markdown",
      "metadata": {
        "id": "b6gQmiw6kXNK"
      },
      "source": [
        "# **🐝 Option B — Hive / HDFS (Spark + Hive Metastore)**\n",
        "\n",
        "# **✅ Spark with Hive support (create DB/table & query)**"
      ]
    },
    {
      "cell_type": "markdown",
      "metadata": {
        "id": "eEmZdIorkkV6"
      },
      "source": [
        "# **Notes**\n",
        "\n",
        "- You need a working Hive Metastore (on local/cluster). On EMR/Dataproc this is available.\n",
        "\n",
        "- For HDFS paths, use hdfs://namenode:8020/path/... in read/write calls."
      ]
    },
    {
      "cell_type": "code",
      "source": [
        "import shutil\n",
        "import os\n",
        "\n",
        "# -------------------------------------------------\n",
        "# Create Hive database\n",
        "# -------------------------------------------------\n",
        "spark.sql(\"CREATE DATABASE IF NOT EXISTS oulad_db\")\n",
        "spark.sql(\"USE oulad_db\")\n",
        "\n",
        "# -------------------------------------------------\n",
        "# Drop table and remove folder if exists\n",
        "# -------------------------------------------------\n",
        "table_name = \"oulad_student\"\n",
        "table_path = f\"/content/spark-warehouse/oulad_db.db/{table_name}\"\n",
        "\n",
        "# Drop Hive table if it exists\n",
        "spark.sql(f\"DROP TABLE IF EXISTS {table_name}\")\n",
        "\n",
        "# Delete leftover folder if exists\n",
        "if os.path.exists(table_path):\n",
        "    shutil.rmtree(table_path)\n",
        "    print(f\"🗑️ Removed existing folder: {table_path}\")\n",
        "\n",
        "# -------------------------------------------------\n",
        "# Save DataFrame as Hive table\n",
        "# -------------------------------------------------\n",
        "(student_df.write\n",
        " .mode(\"overwrite\")\n",
        " .format(\"parquet\")\n",
        " .saveAsTable(table_name))\n",
        "\n",
        "print(f\"✅ Data successfully saved as Hive table 'oulad_db.{table_name}'\")\n",
        "\n",
        "# -------------------------------------------------\n",
        "# Verify Table\n",
        "# -------------------------------------------------\n",
        "spark.sql(\"SHOW TABLES IN oulad_db\").show()\n",
        "spark.sql(f\"SELECT * FROM {table_name} LIMIT 5\").show()\n"
      ],
      "metadata": {
        "colab": {
          "base_uri": "https://localhost:8080/"
        },
        "id": "T-sM8FKO1Ruk",
        "outputId": "ffc4f14d-86a0-40de-c3e7-679b4dc6daef"
      },
      "execution_count": 99,
      "outputs": [
        {
          "output_type": "stream",
          "name": "stdout",
          "text": [
            "🗑️ Removed existing folder: /content/spark-warehouse/oulad_db.db/oulad_student\n",
            "✅ Data successfully saved as Hive table 'oulad_db.oulad_student'\n",
            "+---------+-------------+-----------+\n",
            "|namespace|    tableName|isTemporary|\n",
            "+---------+-------------+-----------+\n",
            "| oulad_db|oulad_student|      false|\n",
            "+---------+-------------+-----------+\n",
            "\n",
            "+-----------+-----------------+----------+------+--------------------+--------------------+--------+--------+--------------------+---------------+----------+------------+\n",
            "|code_module|code_presentation|id_student|gender|              region|   highest_education|imd_band|age_band|num_of_prev_attempts|studied_credits|disability|final_result|\n",
            "+-----------+-----------------+----------+------+--------------------+--------------------+--------+--------+--------------------+---------------+----------+------------+\n",
            "|        AAA|            2013J|     11391|     M| East Anglian Region|    HE Qualification| 90-100%|    55<=|                   0|            240|         N|        Pass|\n",
            "|        AAA|            2013J|     28400|     F|            Scotland|    HE Qualification|  20-30%|   35-55|                   0|             60|         N|        Pass|\n",
            "|        AAA|            2013J|     30268|     F|North Western Region|A Level or Equiva...|  30-40%|   35-55|                   0|             60|         Y|   Withdrawn|\n",
            "|        AAA|            2013J|     31604|     F|   South East Region|A Level or Equiva...|  50-60%|   35-55|                   0|             60|         N|        Pass|\n",
            "|        AAA|            2013J|     32885|     F|West Midlands Region|  Lower Than A Level|  50-60%|    0-35|                   0|             60|         N|        Pass|\n",
            "+-----------+-----------------+----------+------+--------------------+--------------------+--------+--------+--------------------+---------------+----------+------------+\n",
            "\n"
          ]
        }
      ]
    },
    {
      "cell_type": "code",
      "execution_count": 100,
      "metadata": {
        "id": "YngmP8wOjMKl",
        "colab": {
          "base_uri": "https://localhost:8080/"
        },
        "outputId": "5fe83911-361d-4839-a552-2987849c4edc"
      },
      "outputs": [
        {
          "output_type": "stream",
          "name": "stdout",
          "text": [
            "Requirement already satisfied: pyspark==3.5.1 in /usr/local/lib/python3.11/dist-packages (3.5.1)\n",
            "Requirement already satisfied: py4j==0.10.9.7 in /usr/local/lib/python3.11/dist-packages (from pyspark==3.5.1) (0.10.9.7)\n",
            "File ‘/usr/local/lib/python3.11/dist-packages/pyspark/jars/spark-hive_2.12-3.5.1.jar’ already there; not retrieving.\n",
            "\n",
            "assessments.csv  streaming_clicks\t  studentVle_1.csv  studentVle_6.csv\n",
            "courses.csv\t studentAssessment.csv\t  studentVle_2.csv  studentVle_7.csv\n",
            "dask_parquet\t studentInfo.csv\t  studentVle_3.csv  vle.csv\n",
            "parquet_data\t studentRegistration.csv  studentVle_4.csv\n",
            "stream_clicks\t studentVle_0.csv\t  studentVle_5.csv\n",
            "✅ CSVs Loaded\n",
            "student_info rows: 32593\n",
            "student_assess rows: 173912\n",
            "student_vle rows: 10655280\n",
            "✅ Final student_df schema:\n",
            "root\n",
            " |-- id_student: integer (nullable = true)\n",
            " |-- code_module: string (nullable = true)\n",
            " |-- code_presentation: string (nullable = true)\n",
            " |-- gender: string (nullable = true)\n",
            " |-- region: string (nullable = true)\n",
            " |-- highest_education: string (nullable = true)\n",
            " |-- imd_band: string (nullable = true)\n",
            " |-- age_band: string (nullable = true)\n",
            " |-- num_of_prev_attempts: integer (nullable = true)\n",
            " |-- studied_credits: integer (nullable = true)\n",
            " |-- disability: string (nullable = true)\n",
            " |-- final_result: string (nullable = true)\n",
            " |-- total_clicks: long (nullable = true)\n",
            " |-- id_assessment: integer (nullable = true)\n",
            " |-- date_submitted: integer (nullable = true)\n",
            " |-- is_banked: integer (nullable = true)\n",
            " |-- score: integer (nullable = true)\n",
            " |-- dropout: integer (nullable = false)\n",
            "\n",
            "+----------+-----------+-----------------+------+--------------------+---------------------+--------+--------+--------------------+---------------+----------+------------+------------+-------------+--------------+---------+-----+-------+\n",
            "|id_student|code_module|code_presentation|gender|region              |highest_education    |imd_band|age_band|num_of_prev_attempts|studied_credits|disability|final_result|total_clicks|id_assessment|date_submitted|is_banked|score|dropout|\n",
            "+----------+-----------+-----------------+------+--------------------+---------------------+--------+--------+--------------------+---------------+----------+------------+------------+-------------+--------------+---------+-----+-------+\n",
            "|30268     |AAA        |2013J            |F     |North Western Region|A Level or Equivalent|30-40%  |35-55   |0                   |60             |Y         |Withdrawn   |281         |NULL         |NULL          |NULL     |NULL |1      |\n",
            "|11391     |AAA        |2013J            |M     |East Anglian Region |HE Qualification     |90-100% |55<=    |0                   |240            |N         |Pass        |934         |1756         |212           |0        |82   |0      |\n",
            "|11391     |AAA        |2013J            |M     |East Anglian Region |HE Qualification     |90-100% |55<=    |0                   |240            |N         |Pass        |934         |1755         |164           |0        |85   |0      |\n",
            "|11391     |AAA        |2013J            |M     |East Anglian Region |HE Qualification     |90-100% |55<=    |0                   |240            |N         |Pass        |934         |1754         |115           |0        |80   |0      |\n",
            "|11391     |AAA        |2013J            |M     |East Anglian Region |HE Qualification     |90-100% |55<=    |0                   |240            |N         |Pass        |934         |1753         |53            |0        |85   |0      |\n",
            "+----------+-----------+-----------------+------+--------------------+---------------------+--------+--------+--------------------+---------------+----------+------------+------------+-------------+--------------+---------+-----+-------+\n",
            "only showing top 5 rows\n",
            "\n",
            "✅ Data written to Hive as oulad_student\n",
            "+--------------------+------------------+-------------------+\n",
            "|   highest_education|        avg_clicks|       dropout_rate|\n",
            "+--------------------+------------------+-------------------+\n",
            "|     No Formal quals| 2192.413997627521| 0.1861271676300578|\n",
            "|  Lower Than A Level|2230.4309673475354|0.16585798507852037|\n",
            "|Post Graduate Qua...| 3352.147877013177|0.13691128148959475|\n",
            "|A Level or Equiva...|2308.7630378434424| 0.1317068170169144|\n",
            "|    HE Qualification|2850.9735262248514|  0.126482786623742|\n",
            "+--------------------+------------------+-------------------+\n",
            "\n"
          ]
        }
      ],
      "source": [
        "# ==========================\n",
        "# 1️⃣ Install Hive support\n",
        "# ==========================\n",
        "!pip install pyspark==3.5.1\n",
        "!wget -nc https://repo1.maven.org/maven2/org/apache/spark/spark-hive_2.12/3.5.1/spark-hive_2.12-3.5.1.jar -P /usr/local/lib/python3.11/dist-packages/pyspark/jars/\n",
        "\n",
        "# ==========================\n",
        "# 2️⃣ Start Spark with Hive\n",
        "# ==========================\n",
        "from pyspark.sql import SparkSession\n",
        "from pyspark.sql.functions import col, sum as spark_sum, when\n",
        "import os\n",
        "\n",
        "spark = (SparkSession.builder\n",
        "         .appName(\"OULAD-Hive\")\n",
        "         .config(\"spark.sql.warehouse.dir\", \"/user/hive/warehouse\")   # warehouse location\n",
        "         .config(\"hive.metastore.schema.verification\", \"false\")\n",
        "         .config(\"spark.sql.catalogImplementation\", \"hive\")\n",
        "         .enableHiveSupport()\n",
        "         .getOrCreate())\n",
        "\n",
        "# ==========================\n",
        "# 3️⃣ Load OULAD CSVs\n",
        "# ==========================\n",
        "base_path = \"/content/drive/MyDrive/Colab Notebooks/OULAD Dataset\"\n",
        "\n",
        "# List files to confirm\n",
        "!ls \"$base_path\"\n",
        "\n",
        "# Main tables\n",
        "student_info   = spark.read.csv(os.path.join(base_path, \"studentInfo.csv\"), header=True, inferSchema=True)\n",
        "student_assess = spark.read.csv(os.path.join(base_path, \"studentAssessment.csv\"), header=True, inferSchema=True)\n",
        "\n",
        "# FIX: studentVle is split into multiple files studentVle_0..7.csv\n",
        "student_vle    = spark.read.csv(os.path.join(base_path, \"studentVle_*.csv\"), header=True, inferSchema=True)\n",
        "\n",
        "print(\"✅ CSVs Loaded\")\n",
        "print(\"student_info rows:\", student_info.count())\n",
        "print(\"student_assess rows:\", student_assess.count())\n",
        "print(\"student_vle rows:\", student_vle.count())\n",
        "\n",
        "# ==========================\n",
        "# 4️⃣ Feature Engineering\n",
        "# ==========================\n",
        "# Aggregate VLE clicks\n",
        "student_vle_agg = student_vle.groupBy(\"id_student\").agg(\n",
        "    spark_sum(\"sum_click\").alias(\"total_clicks\")\n",
        ")\n",
        "\n",
        "# Join datasets\n",
        "student_df = (student_info\n",
        "              .join(student_vle_agg, on=\"id_student\", how=\"left\")\n",
        "              .join(student_assess, on=\"id_student\", how=\"left\"))\n",
        "\n",
        "# Create dropout label\n",
        "student_df = student_df.withColumn(\n",
        "    \"dropout\", when(col(\"final_result\") == \"Withdrawn\", 1).otherwise(0)\n",
        ")\n",
        "\n",
        "print(\"✅ Final student_df schema:\")\n",
        "student_df.printSchema()\n",
        "student_df.show(5, truncate=False)\n",
        "\n",
        "# ==========================\n",
        "# 5️⃣ Hive: Create DB + Save\n",
        "# ==========================\n",
        "spark.sql(\"CREATE DATABASE IF NOT EXISTS oulad_db\")\n",
        "spark.sql(\"USE oulad_db\")\n",
        "\n",
        "(student_df\n",
        " .write\n",
        " .mode(\"overwrite\")\n",
        " .format(\"parquet\")\n",
        " .saveAsTable(\"oulad_student\"))\n",
        "\n",
        "print(\"✅ Data written to Hive as oulad_student\")\n",
        "\n",
        "# ==========================\n",
        "# 6️⃣ Query in Hive\n",
        "# ==========================\n",
        "spark.sql(\"\"\"\n",
        "SELECT highest_education,\n",
        "       AVG(total_clicks) AS avg_clicks,\n",
        "       AVG(dropout) AS dropout_rate\n",
        "FROM oulad_student\n",
        "GROUP BY highest_education\n",
        "ORDER BY dropout_rate DESC\n",
        "\"\"\").show(10)\n"
      ]
    },
    {
      "cell_type": "markdown",
      "metadata": {
        "id": "AFb3h9TykowT"
      },
      "source": [
        "# **🟨 Option C — Google BigQuery**\n",
        "# **✅ Spark ↔ BigQuery (via Spark BigQuery Connector)**\n",
        "\n",
        "Works great on Dataproc or Spark with the BQ connector JAR available."
      ]
    },
    {
      "cell_type": "code",
      "source": [],
      "metadata": {
        "id": "zvIB_Xja1yis"
      },
      "execution_count": null,
      "outputs": []
    },
    {
      "cell_type": "code",
      "source": [
        "# -------------------------------------------------------\n",
        "# FULL CODE: Load OULAD dataset from Google Drive (CSV)\n",
        "# -------------------------------------------------------\n",
        "\n",
        "# 1. Mount Google Drive\n",
        "from google.colab import drive\n",
        "drive.mount('/content/drive')\n",
        "\n",
        "# Correct path where your CSVs are stored\n",
        "data_path = \"/content/drive/MyDrive/Colab Notebooks/OULAD Dataset/\"\n",
        "\n",
        "# Load with Pandas\n",
        "import pandas as pd\n",
        "studentInfo_pd = pd.read_csv(data_path + \"studentInfo.csv\")\n",
        "print(\"Pandas DataFrame shape:\", studentInfo_pd.shape)\n",
        "print(studentInfo_pd.head())\n",
        "\n",
        "# Load with PySpark\n",
        "from pyspark.sql import SparkSession\n",
        "spark = SparkSession.builder.appName(\"OULAD\").getOrCreate()\n",
        "\n",
        "studentInfo_spark = spark.read.csv(data_path + \"studentInfo.csv\", header=True, inferSchema=True)\n",
        "print(\"Spark DataFrame Schema:\")\n",
        "studentInfo_spark.printSchema()\n",
        "studentInfo_spark.show(5)\n",
        "\n"
      ],
      "metadata": {
        "id": "vYwS2hHhq-_B",
        "colab": {
          "base_uri": "https://localhost:8080/"
        },
        "outputId": "fb5f25c1-cbb3-401c-9abf-999a06222b1e"
      },
      "execution_count": 101,
      "outputs": [
        {
          "output_type": "stream",
          "name": "stdout",
          "text": [
            "Drive already mounted at /content/drive; to attempt to forcibly remount, call drive.mount(\"/content/drive\", force_remount=True).\n",
            "Pandas DataFrame shape: (32593, 12)\n",
            "  code_module code_presentation  id_student gender                region  \\\n",
            "0         AAA             2013J       11391      M   East Anglian Region   \n",
            "1         AAA             2013J       28400      F              Scotland   \n",
            "2         AAA             2013J       30268      F  North Western Region   \n",
            "3         AAA             2013J       31604      F     South East Region   \n",
            "4         AAA             2013J       32885      F  West Midlands Region   \n",
            "\n",
            "       highest_education imd_band age_band  num_of_prev_attempts  \\\n",
            "0       HE Qualification  90-100%     55<=                     0   \n",
            "1       HE Qualification   20-30%    35-55                     0   \n",
            "2  A Level or Equivalent   30-40%    35-55                     0   \n",
            "3  A Level or Equivalent   50-60%    35-55                     0   \n",
            "4     Lower Than A Level   50-60%     0-35                     0   \n",
            "\n",
            "   studied_credits disability final_result  \n",
            "0              240          N         Pass  \n",
            "1               60          N         Pass  \n",
            "2               60          Y    Withdrawn  \n",
            "3               60          N         Pass  \n",
            "4               60          N         Pass  \n",
            "Spark DataFrame Schema:\n",
            "root\n",
            " |-- code_module: string (nullable = true)\n",
            " |-- code_presentation: string (nullable = true)\n",
            " |-- id_student: integer (nullable = true)\n",
            " |-- gender: string (nullable = true)\n",
            " |-- region: string (nullable = true)\n",
            " |-- highest_education: string (nullable = true)\n",
            " |-- imd_band: string (nullable = true)\n",
            " |-- age_band: string (nullable = true)\n",
            " |-- num_of_prev_attempts: integer (nullable = true)\n",
            " |-- studied_credits: integer (nullable = true)\n",
            " |-- disability: string (nullable = true)\n",
            " |-- final_result: string (nullable = true)\n",
            "\n",
            "+-----------+-----------------+----------+------+--------------------+--------------------+--------+--------+--------------------+---------------+----------+------------+\n",
            "|code_module|code_presentation|id_student|gender|              region|   highest_education|imd_band|age_band|num_of_prev_attempts|studied_credits|disability|final_result|\n",
            "+-----------+-----------------+----------+------+--------------------+--------------------+--------+--------+--------------------+---------------+----------+------------+\n",
            "|        AAA|            2013J|     11391|     M| East Anglian Region|    HE Qualification| 90-100%|    55<=|                   0|            240|         N|        Pass|\n",
            "|        AAA|            2013J|     28400|     F|            Scotland|    HE Qualification|  20-30%|   35-55|                   0|             60|         N|        Pass|\n",
            "|        AAA|            2013J|     30268|     F|North Western Region|A Level or Equiva...|  30-40%|   35-55|                   0|             60|         Y|   Withdrawn|\n",
            "|        AAA|            2013J|     31604|     F|   South East Region|A Level or Equiva...|  50-60%|   35-55|                   0|             60|         N|        Pass|\n",
            "|        AAA|            2013J|     32885|     F|West Midlands Region|  Lower Than A Level|  50-60%|    0-35|                   0|             60|         N|        Pass|\n",
            "+-----------+-----------------+----------+------+--------------------+--------------------+--------+--------+--------------------+---------------+----------+------------+\n",
            "only showing top 5 rows\n",
            "\n"
          ]
        }
      ]
    },
    {
      "cell_type": "code",
      "source": [],
      "metadata": {
        "id": "NPA0rpyj11RE"
      },
      "execution_count": null,
      "outputs": []
    },
    {
      "cell_type": "code",
      "source": [
        "import os\n",
        "\n",
        "data_path = \"/content/drive/MyDrive/Colab Notebooks/OULAD Dataset/\"\n",
        "print(\"Files in dataset folder:\")\n",
        "print(os.listdir(data_path))\n"
      ],
      "metadata": {
        "id": "GWf7t0DlswcP"
      },
      "execution_count": null,
      "outputs": []
    },
    {
      "cell_type": "code",
      "source": [
        "# -----------------------------\n",
        "# Step 1: Mount Google Drive\n",
        "# -----------------------------\n",
        "from google.colab import drive\n",
        "drive.mount('/content/drive')\n",
        "\n",
        "import pandas as pd\n",
        "import glob\n",
        "import os\n",
        "\n",
        "# -----------------------------\n",
        "# Step 2: Set file path\n",
        "# -----------------------------\n",
        "base_path = \"/content/drive/MyDrive/Colab Notebooks/OULAD Dataset\"\n",
        "\n",
        "# -----------------------------\n",
        "# Step 3: Load CSVs\n",
        "# -----------------------------\n",
        "print(\"Loading CSV files...\")\n",
        "\n",
        "student_info = pd.read_csv(os.path.join(base_path, \"studentInfo.csv\"))\n",
        "student_assessment = pd.read_csv(os.path.join(base_path, \"studentAssessment.csv\"))\n",
        "courses = pd.read_csv(os.path.join(base_path, \"courses.csv\"))\n",
        "student_registration = pd.read_csv(os.path.join(base_path, \"studentRegistration.csv\"))\n",
        "assessments = pd.read_csv(os.path.join(base_path, \"assessments.csv\"))\n",
        "vle = pd.read_csv(os.path.join(base_path, \"vle.csv\"))\n",
        "\n",
        "# Load & aggregate all studentVle_* files\n",
        "vle_files = glob.glob(os.path.join(base_path, \"studentVle_*.csv\"))\n",
        "student_vle = pd.concat([pd.read_csv(f) for f in vle_files], ignore_index=True)\n",
        "\n",
        "# Aggregate to avoid memory explosion\n",
        "student_vle_agg = (\n",
        "    student_vle.groupby([\"id_student\", \"code_module\", \"code_presentation\"])\n",
        "    .agg(total_clicks=(\"sum_click\", \"sum\"), n_sites=(\"id_site\", \"nunique\"))\n",
        "    .reset_index()\n",
        ")\n",
        "\n",
        "print(\"✅ All files loaded successfully!\")\n",
        "\n",
        "# -----------------------------\n",
        "# Step 4: Merge datasets\n",
        "# -----------------------------\n",
        "print(\"Merging datasets...\")\n",
        "\n",
        "# Merge student info with registration\n",
        "merged = pd.merge(\n",
        "    student_info,\n",
        "    student_registration,\n",
        "    on=[\"id_student\", \"code_module\", \"code_presentation\"],\n",
        "    how=\"left\"\n",
        ")\n",
        "\n",
        "# Merge student assessments with assessment metadata\n",
        "student_assessment_full = pd.merge(\n",
        "    student_assessment,\n",
        "    assessments,\n",
        "    on=\"id_assessment\",\n",
        "    how=\"left\"\n",
        ")\n",
        "\n",
        "# Aggregate assessments per student\n",
        "student_assess_agg = (\n",
        "    student_assessment_full.groupby([\"id_student\", \"code_module\", \"code_presentation\"])\n",
        "    .agg(\n",
        "        avg_score=(\"score\", \"mean\"),\n",
        "        n_assessments=(\"id_assessment\", \"nunique\")\n",
        "    )\n",
        "    .reset_index()\n",
        ")\n",
        "\n",
        "# Merge in aggregates\n",
        "merged = pd.merge(merged, student_assess_agg, on=[\"id_student\", \"code_module\", \"code_presentation\"], how=\"left\")\n",
        "merged = pd.merge(merged, student_vle_agg, on=[\"id_student\", \"code_module\", \"code_presentation\"], how=\"left\")\n",
        "merged = pd.merge(merged, courses, on=[\"code_module\", \"code_presentation\"], how=\"left\")\n",
        "\n",
        "print(\"✅ Merge complete!\")\n",
        "\n",
        "# -----------------------------\n",
        "# Step 5: Save final dataset\n",
        "# -----------------------------\n",
        "output_csv = os.path.join(base_path, \"student_merged.csv\")\n",
        "output_parquet = os.path.join(base_path, \"student_merged.parquet\")\n",
        "\n",
        "merged.to_csv(output_csv, index=False)\n",
        "merged.to_parquet(output_parquet, index=False)\n",
        "\n",
        "print(f\"✅ Final dataset saved as:\\nCSV: {output_csv}\\nParquet: {output_parquet}\")\n",
        "print(\"Shape of final dataset:\", merged.shape)\n"
      ],
      "metadata": {
        "colab": {
          "base_uri": "https://localhost:8080/"
        },
        "id": "MwWMvmDE284Y",
        "outputId": "bef006a0-2675-4616-b6c9-14f82bc1d004"
      },
      "execution_count": 1,
      "outputs": [
        {
          "output_type": "stream",
          "name": "stdout",
          "text": [
            "Drive already mounted at /content/drive; to attempt to forcibly remount, call drive.mount(\"/content/drive\", force_remount=True).\n",
            "Loading CSV files...\n",
            "✅ All files loaded successfully!\n",
            "Merging datasets...\n",
            "✅ Merge complete!\n",
            "✅ Final dataset saved as:\n",
            "CSV: /content/drive/MyDrive/Colab Notebooks/OULAD Dataset/student_merged.csv\n",
            "Parquet: /content/drive/MyDrive/Colab Notebooks/OULAD Dataset/student_merged.parquet\n",
            "Shape of final dataset: (32593, 19)\n"
          ]
        }
      ]
    },
    {
      "cell_type": "code",
      "source": [
        "# -------------------------------------------------------\n",
        "# FULL CODE: Load OULAD CSVs from Google Drive with Pandas + Spark\n",
        "# -------------------------------------------------------\n",
        "\n",
        "# 1. Mount Google Drive\n",
        "from google.colab import drive\n",
        "drive.mount('/content/drive')\n",
        "\n",
        "# Path where your OULAD CSVs are stored (adjust if needed)\n",
        "data_path = \"/content/drive/MyDrive/Colab Notebooks/OULAD Dataset/\"\n",
        "\n",
        "# 2. Load one CSV with Pandas (quick check)\n",
        "import pandas as pd\n",
        "studentInfo_pd = pd.read_csv(data_path + \"studentInfo.csv\")\n",
        "print(\"Pandas DataFrame shape:\", studentInfo_pd.shape)\n",
        "print(studentInfo_pd.head())\n",
        "\n",
        "# 3. Load CSVs with PySpark\n",
        "from pyspark.sql import SparkSession\n",
        "spark = SparkSession.builder.appName(\"OULAD\").getOrCreate()\n",
        "\n",
        "# Example: Load multiple OULAD CSVs into Spark DataFrames\n",
        "studentInfo_spark = spark.read.csv(data_path + \"studentInfo.csv\", header=True, inferSchema=True)\n",
        "studentAssessment_spark = spark.read.csv(data_path + \"studentAssessment.csv\", header=True, inferSchema=True)\n",
        "studentVle_spark = spark.read.csv(data_path + \"student_merged.csv\", header=True, inferSchema=True)\n",
        "courses_spark = spark.read.csv(data_path + \"courses.csv\", header=True, inferSchema=True)\n",
        "\n",
        "# 4. Show schemas and sample rows\n",
        "print(\"=== studentInfo ===\")\n",
        "studentInfo_spark.printSchema()\n",
        "studentInfo_spark.show(5)\n",
        "\n",
        "print(\"=== studentAssessment ===\")\n",
        "studentAssessment_spark.printSchema()\n",
        "studentAssessment_spark.show(5)\n",
        "\n",
        "print(\"=== studentVle ===\")\n",
        "studentVle_spark.printSchema()\n",
        "studentVle_spark.show(5)\n",
        "\n",
        "print(\"=== courses ===\")\n",
        "courses_spark.printSchema()\n",
        "courses_spark.show(5)\n"
      ],
      "metadata": {
        "id": "yWlQ-JzhsSFI",
        "colab": {
          "base_uri": "https://localhost:8080/"
        },
        "outputId": "e1e04cb4-a387-4101-e489-b7ed49197524"
      },
      "execution_count": 3,
      "outputs": [
        {
          "output_type": "stream",
          "name": "stdout",
          "text": [
            "Drive already mounted at /content/drive; to attempt to forcibly remount, call drive.mount(\"/content/drive\", force_remount=True).\n",
            "Pandas DataFrame shape: (32593, 12)\n",
            "  code_module code_presentation  id_student gender                region  \\\n",
            "0         AAA             2013J       11391      M   East Anglian Region   \n",
            "1         AAA             2013J       28400      F              Scotland   \n",
            "2         AAA             2013J       30268      F  North Western Region   \n",
            "3         AAA             2013J       31604      F     South East Region   \n",
            "4         AAA             2013J       32885      F  West Midlands Region   \n",
            "\n",
            "       highest_education imd_band age_band  num_of_prev_attempts  \\\n",
            "0       HE Qualification  90-100%     55<=                     0   \n",
            "1       HE Qualification   20-30%    35-55                     0   \n",
            "2  A Level or Equivalent   30-40%    35-55                     0   \n",
            "3  A Level or Equivalent   50-60%    35-55                     0   \n",
            "4     Lower Than A Level   50-60%     0-35                     0   \n",
            "\n",
            "   studied_credits disability final_result  \n",
            "0              240          N         Pass  \n",
            "1               60          N         Pass  \n",
            "2               60          Y    Withdrawn  \n",
            "3               60          N         Pass  \n",
            "4               60          N         Pass  \n",
            "=== studentInfo ===\n",
            "root\n",
            " |-- code_module: string (nullable = true)\n",
            " |-- code_presentation: string (nullable = true)\n",
            " |-- id_student: integer (nullable = true)\n",
            " |-- gender: string (nullable = true)\n",
            " |-- region: string (nullable = true)\n",
            " |-- highest_education: string (nullable = true)\n",
            " |-- imd_band: string (nullable = true)\n",
            " |-- age_band: string (nullable = true)\n",
            " |-- num_of_prev_attempts: integer (nullable = true)\n",
            " |-- studied_credits: integer (nullable = true)\n",
            " |-- disability: string (nullable = true)\n",
            " |-- final_result: string (nullable = true)\n",
            "\n",
            "+-----------+-----------------+----------+------+--------------------+--------------------+--------+--------+--------------------+---------------+----------+------------+\n",
            "|code_module|code_presentation|id_student|gender|              region|   highest_education|imd_band|age_band|num_of_prev_attempts|studied_credits|disability|final_result|\n",
            "+-----------+-----------------+----------+------+--------------------+--------------------+--------+--------+--------------------+---------------+----------+------------+\n",
            "|        AAA|            2013J|     11391|     M| East Anglian Region|    HE Qualification| 90-100%|    55<=|                   0|            240|         N|        Pass|\n",
            "|        AAA|            2013J|     28400|     F|            Scotland|    HE Qualification|  20-30%|   35-55|                   0|             60|         N|        Pass|\n",
            "|        AAA|            2013J|     30268|     F|North Western Region|A Level or Equiva...|  30-40%|   35-55|                   0|             60|         Y|   Withdrawn|\n",
            "|        AAA|            2013J|     31604|     F|   South East Region|A Level or Equiva...|  50-60%|   35-55|                   0|             60|         N|        Pass|\n",
            "|        AAA|            2013J|     32885|     F|West Midlands Region|  Lower Than A Level|  50-60%|    0-35|                   0|             60|         N|        Pass|\n",
            "+-----------+-----------------+----------+------+--------------------+--------------------+--------+--------+--------------------+---------------+----------+------------+\n",
            "only showing top 5 rows\n",
            "\n",
            "=== studentAssessment ===\n",
            "root\n",
            " |-- id_assessment: integer (nullable = true)\n",
            " |-- id_student: integer (nullable = true)\n",
            " |-- date_submitted: integer (nullable = true)\n",
            " |-- is_banked: integer (nullable = true)\n",
            " |-- score: integer (nullable = true)\n",
            "\n",
            "+-------------+----------+--------------+---------+-----+\n",
            "|id_assessment|id_student|date_submitted|is_banked|score|\n",
            "+-------------+----------+--------------+---------+-----+\n",
            "|         1752|     11391|            18|        0|   78|\n",
            "|         1752|     28400|            22|        0|   70|\n",
            "|         1752|     31604|            17|        0|   72|\n",
            "|         1752|     32885|            26|        0|   69|\n",
            "|         1752|     38053|            19|        0|   79|\n",
            "+-------------+----------+--------------+---------+-----+\n",
            "only showing top 5 rows\n",
            "\n",
            "=== studentVle ===\n",
            "root\n",
            " |-- code_module: string (nullable = true)\n",
            " |-- code_presentation: string (nullable = true)\n",
            " |-- id_student: integer (nullable = true)\n",
            " |-- gender: string (nullable = true)\n",
            " |-- region: string (nullable = true)\n",
            " |-- highest_education: string (nullable = true)\n",
            " |-- imd_band: string (nullable = true)\n",
            " |-- age_band: string (nullable = true)\n",
            " |-- num_of_prev_attempts: integer (nullable = true)\n",
            " |-- studied_credits: integer (nullable = true)\n",
            " |-- disability: string (nullable = true)\n",
            " |-- final_result: string (nullable = true)\n",
            " |-- date_registration: double (nullable = true)\n",
            " |-- date_unregistration: double (nullable = true)\n",
            " |-- avg_score: double (nullable = true)\n",
            " |-- n_assessments: double (nullable = true)\n",
            " |-- total_clicks: double (nullable = true)\n",
            " |-- n_sites: double (nullable = true)\n",
            " |-- module_presentation_length: integer (nullable = true)\n",
            "\n",
            "+-----------+-----------------+----------+------+--------------------+--------------------+--------+--------+--------------------+---------------+----------+------------+-----------------+-------------------+---------+-------------+------------+-------+--------------------------+\n",
            "|code_module|code_presentation|id_student|gender|              region|   highest_education|imd_band|age_band|num_of_prev_attempts|studied_credits|disability|final_result|date_registration|date_unregistration|avg_score|n_assessments|total_clicks|n_sites|module_presentation_length|\n",
            "+-----------+-----------------+----------+------+--------------------+--------------------+--------+--------+--------------------+---------------+----------+------------+-----------------+-------------------+---------+-------------+------------+-------+--------------------------+\n",
            "|        AAA|            2013J|     11391|     M| East Anglian Region|    HE Qualification| 90-100%|    55<=|                   0|            240|         N|        Pass|           -159.0|               NULL|     82.0|          5.0|       934.0|   55.0|                       268|\n",
            "|        AAA|            2013J|     28400|     F|            Scotland|    HE Qualification|  20-30%|   35-55|                   0|             60|         N|        Pass|            -53.0|               NULL|     66.4|          5.0|      1435.0|   84.0|                       268|\n",
            "|        AAA|            2013J|     30268|     F|North Western Region|A Level or Equiva...|  30-40%|   35-55|                   0|             60|         Y|   Withdrawn|            -92.0|               12.0|     NULL|         NULL|       281.0|   22.0|                       268|\n",
            "|        AAA|            2013J|     31604|     F|   South East Region|A Level or Equiva...|  50-60%|   35-55|                   0|             60|         N|        Pass|            -52.0|               NULL|     76.0|          5.0|      2158.0|   82.0|                       268|\n",
            "|        AAA|            2013J|     32885|     F|West Midlands Region|  Lower Than A Level|  50-60%|    0-35|                   0|             60|         N|        Pass|           -176.0|               NULL|     54.4|          5.0|      1034.0|   66.0|                       268|\n",
            "+-----------+-----------------+----------+------+--------------------+--------------------+--------+--------+--------------------+---------------+----------+------------+-----------------+-------------------+---------+-------------+------------+-------+--------------------------+\n",
            "only showing top 5 rows\n",
            "\n",
            "=== courses ===\n",
            "root\n",
            " |-- code_module: string (nullable = true)\n",
            " |-- code_presentation: string (nullable = true)\n",
            " |-- module_presentation_length: integer (nullable = true)\n",
            "\n",
            "+-----------+-----------------+--------------------------+\n",
            "|code_module|code_presentation|module_presentation_length|\n",
            "+-----------+-----------------+--------------------------+\n",
            "|        AAA|            2013J|                       268|\n",
            "|        AAA|            2014J|                       269|\n",
            "|        BBB|            2013J|                       268|\n",
            "|        BBB|            2014J|                       262|\n",
            "|        BBB|            2013B|                       240|\n",
            "+-----------+-----------------+--------------------------+\n",
            "only showing top 5 rows\n",
            "\n"
          ]
        }
      ]
    },
    {
      "cell_type": "code",
      "source": [
        "# -----------------------------\n",
        "# Step 1: Mount Google Drive\n",
        "# -----------------------------\n",
        "from google.colab import drive\n",
        "drive.mount('/content/drive')\n",
        "\n",
        "import pandas as pd\n",
        "import glob\n",
        "import os\n",
        "\n",
        "# -----------------------------\n",
        "# Step 2: Set file path\n",
        "# -----------------------------\n",
        "base_path = \"/content/drive/MyDrive/Colab Notebooks/OULAD Dataset\"\n",
        "\n",
        "# -----------------------------\n",
        "# Step 3: Load CSVs\n",
        "# -----------------------------\n",
        "print(\"Loading CSV files...\")\n",
        "\n",
        "student_info = pd.read_csv(os.path.join(base_path, \"studentInfo.csv\"))\n",
        "student_assessment = pd.read_csv(os.path.join(base_path, \"studentAssessment.csv\"))\n",
        "courses = pd.read_csv(os.path.join(base_path, \"courses.csv\"))\n",
        "student_registration = pd.read_csv(os.path.join(base_path, \"studentRegistration.csv\"))\n",
        "assessments = pd.read_csv(os.path.join(base_path, \"assessments.csv\"))\n",
        "vle = pd.read_csv(os.path.join(base_path, \"vle.csv\"))\n",
        "\n",
        "# Load all studentVle_* files and aggregate\n",
        "vle_files = glob.glob(os.path.join(base_path, \"studentVle_*.csv\"))\n",
        "student_vle = pd.concat([pd.read_csv(f) for f in vle_files], ignore_index=True)\n",
        "\n",
        "student_vle_agg = (\n",
        "    student_vle.groupby([\"id_student\", \"code_module\", \"code_presentation\"])\n",
        "    .agg(total_clicks=(\"sum_click\", \"sum\"), n_sites=(\"id_site\", \"nunique\"))\n",
        "    .reset_index()\n",
        ")\n",
        "\n",
        "print(\"✅ All files loaded successfully!\")\n",
        "\n",
        "# -----------------------------\n",
        "# Step 4: Merge datasets\n",
        "# -----------------------------\n",
        "print(\"Merging datasets...\")\n",
        "\n",
        "# Merge student info + registration\n",
        "merged = pd.merge(\n",
        "    student_info,\n",
        "    student_registration,\n",
        "    on=[\"id_student\", \"code_module\", \"code_presentation\"],\n",
        "    how=\"left\"\n",
        ")\n",
        "\n",
        "# Merge student assessments with assessment metadata\n",
        "student_assessment_full = pd.merge(\n",
        "    student_assessment,\n",
        "    assessments,\n",
        "    on=\"id_assessment\",\n",
        "    how=\"left\"\n",
        ")\n",
        "\n",
        "# Aggregate assessments per student\n",
        "student_assess_agg = (\n",
        "    student_assessment_full.groupby([\"id_student\", \"code_module\", \"code_presentation\"])\n",
        "    .agg(\n",
        "        avg_score=(\"score\", \"mean\"),\n",
        "        n_assessments=(\"id_assessment\", \"nunique\")\n",
        "    )\n",
        "    .reset_index()\n",
        ")\n",
        "\n",
        "# Merge everything\n",
        "merged = pd.merge(merged, student_assess_agg, on=[\"id_student\", \"code_module\", \"code_presentation\"], how=\"left\")\n",
        "merged = pd.merge(merged, student_vle_agg, on=[\"id_student\", \"code_module\", \"code_presentation\"], how=\"left\")\n",
        "merged = pd.merge(merged, courses, on=[\"code_module\", \"code_presentation\"], how=\"left\")\n",
        "\n",
        "print(\"✅ Merge complete!\")\n",
        "\n",
        "# -----------------------------\n",
        "# Step 5: Save final dataset\n",
        "# -----------------------------\n",
        "output_csv = os.path.join(base_path, \"student_merged.csv\")\n",
        "output_parquet = os.path.join(base_path, \"student_merged.parquet\")\n",
        "\n",
        "merged.to_csv(output_csv, index=False)\n",
        "merged.to_parquet(output_parquet, index=False)\n",
        "\n",
        "print(f\"✅ Final dataset saved as:\\nCSV: {output_csv}\\nParquet: {output_parquet}\")\n",
        "print(\"Shape of final dataset:\", merged.shape)\n"
      ],
      "metadata": {
        "colab": {
          "base_uri": "https://localhost:8080/"
        },
        "id": "0gymaEMf3gHd",
        "outputId": "5a8dc685-36cd-4107-ad4b-4e1e47aa1160"
      },
      "execution_count": 5,
      "outputs": [
        {
          "output_type": "stream",
          "name": "stdout",
          "text": [
            "Drive already mounted at /content/drive; to attempt to forcibly remount, call drive.mount(\"/content/drive\", force_remount=True).\n",
            "Loading CSV files...\n",
            "✅ All files loaded successfully!\n",
            "Merging datasets...\n",
            "✅ Merge complete!\n",
            "✅ Final dataset saved as:\n",
            "CSV: /content/drive/MyDrive/Colab Notebooks/OULAD Dataset/student_merged.csv\n",
            "Parquet: /content/drive/MyDrive/Colab Notebooks/OULAD Dataset/student_merged.parquet\n",
            "Shape of final dataset: (32593, 19)\n"
          ]
        }
      ]
    },
    {
      "cell_type": "markdown",
      "metadata": {
        "id": "ebEwHYFdkv-K"
      },
      "source": [
        "# **✅ Pandas/Dask ↔ BigQuery (simple & fast for moderate sizes)**"
      ]
    },
    {
      "cell_type": "code",
      "source": [
        "# ---------------------------------------\n",
        "# Load OULAD Dataset with Dask\n",
        "# ---------------------------------------\n",
        "\n",
        "import dask.dataframe as dd\n",
        "\n",
        "# Base dataset folder\n",
        "dataset_path = \"/content/drive/MyDrive/Colab Notebooks/OULAD Dataset/\"\n",
        "\n",
        "# Load each CSV separately\n",
        "student_info = dd.read_csv(dataset_path + \"studentInfo.csv\", assume_missing=True)\n",
        "courses = dd.read_csv(dataset_path + \"courses.csv\", assume_missing=True)\n",
        "assessments = dd.read_csv(dataset_path + \"assessments.csv\", assume_missing=True)\n",
        "student_assessment = dd.read_csv(dataset_path + \"studentAssessment.csv\", assume_missing=True)\n",
        "student_registration = dd.read_csv(dataset_path + \"studentRegistration.csv\", assume_missing=True)\n",
        "student_vle = dd.read_csv(dataset_path + \"student_merged.csv\", assume_missing=True)\n",
        "vle = dd.read_csv(dataset_path + \"vle.csv\", assume_missing=True)\n",
        "\n",
        "# ---------------------------------------\n",
        "# Quick sanity check\n",
        "# ---------------------------------------\n",
        "\n",
        "print(\"✅ Files Loaded Successfully!\")\n",
        "print(\"student_info shape:\", student_info.shape)\n",
        "print(\"courses shape:\", courses.shape)\n",
        "print(\"assessments shape:\", assessments.shape)\n",
        "print(\"student_assessment shape:\", student_assessment.shape)\n",
        "print(\"student_registration shape:\", student_registration.shape)\n",
        "print(\"student_vle shape:\", student_vle.shape)\n",
        "print(\"vle shape:\", vle.shape)\n",
        "\n",
        "# Show a preview of each\n",
        "print(\"\\n--- student_info ---\")\n",
        "print(student_info.head())\n",
        "\n",
        "print(\"\\n--- courses ---\")\n",
        "print(courses.head())\n",
        "\n",
        "print(\"\\n--- assessments ---\")\n",
        "print(assessments.head())\n",
        "\n",
        "print(\"\\n--- student_assessment ---\")\n",
        "print(student_assessment.head())\n",
        "\n",
        "print(\"\\n--- student_registration ---\")\n",
        "print(student_registration.head())\n",
        "\n",
        "print(\"\\n--- student_vle ---\")\n",
        "print(student_vle.head())\n",
        "\n",
        "print(\"\\n--- vle ---\")\n",
        "print(vle.head())\n"
      ],
      "metadata": {
        "colab": {
          "base_uri": "https://localhost:8080/"
        },
        "id": "nRbcao-54Y10",
        "outputId": "a5431e42-d929-4f23-da2d-ce61c41c2088"
      },
      "execution_count": 10,
      "outputs": [
        {
          "output_type": "stream",
          "name": "stdout",
          "text": [
            "✅ Files Loaded Successfully!\n",
            "student_info shape: (<dask_expr.expr.Scalar: expr=ArrowStringConversion(frame=FromMapProjectable(0eefd8c)).size() // 12, dtype=int64>, 12)\n",
            "courses shape: (<dask_expr.expr.Scalar: expr=ArrowStringConversion(frame=FromMapProjectable(2c5742c)).size() // 3, dtype=int64>, 3)\n",
            "assessments shape: (<dask_expr.expr.Scalar: expr=ArrowStringConversion(frame=FromMapProjectable(f67ae03)).size() // 6, dtype=int64>, 6)\n",
            "student_assessment shape: (<dask_expr.expr.Scalar: expr=ArrowStringConversion(frame=FromMapProjectable(23bad08)).size() // 5, dtype=int64>, 5)\n",
            "student_registration shape: (<dask_expr.expr.Scalar: expr=ArrowStringConversion(frame=FromMapProjectable(bd7043c)).size() // 5, dtype=int64>, 5)\n",
            "student_vle shape: (<dask_expr.expr.Scalar: expr=ArrowStringConversion(frame=FromMapProjectable(8b975c1)).size() // 19, dtype=int64>, 19)\n",
            "vle shape: (<dask_expr.expr.Scalar: expr=ArrowStringConversion(frame=FromMapProjectable(9f5ec6f)).size() // 6, dtype=int64>, 6)\n",
            "\n",
            "--- student_info ---\n",
            "  code_module code_presentation  id_student gender                region  \\\n",
            "0         AAA             2013J     11391.0      M   East Anglian Region   \n",
            "1         AAA             2013J     28400.0      F              Scotland   \n",
            "2         AAA             2013J     30268.0      F  North Western Region   \n",
            "3         AAA             2013J     31604.0      F     South East Region   \n",
            "4         AAA             2013J     32885.0      F  West Midlands Region   \n",
            "\n",
            "       highest_education imd_band age_band  num_of_prev_attempts  \\\n",
            "0       HE Qualification  90-100%     55<=                   0.0   \n",
            "1       HE Qualification   20-30%    35-55                   0.0   \n",
            "2  A Level or Equivalent   30-40%    35-55                   0.0   \n",
            "3  A Level or Equivalent   50-60%    35-55                   0.0   \n",
            "4     Lower Than A Level   50-60%     0-35                   0.0   \n",
            "\n",
            "   studied_credits disability final_result  \n",
            "0            240.0          N         Pass  \n",
            "1             60.0          N         Pass  \n",
            "2             60.0          Y    Withdrawn  \n",
            "3             60.0          N         Pass  \n",
            "4             60.0          N         Pass  \n",
            "\n",
            "--- courses ---\n",
            "  code_module code_presentation  module_presentation_length\n",
            "0         AAA             2013J                       268.0\n",
            "1         AAA             2014J                       269.0\n",
            "2         BBB             2013J                       268.0\n",
            "3         BBB             2014J                       262.0\n",
            "4         BBB             2013B                       240.0\n",
            "\n",
            "--- assessments ---\n",
            "  code_module code_presentation  id_assessment assessment_type   date  weight\n",
            "0         AAA             2013J         1752.0             TMA   19.0    10.0\n",
            "1         AAA             2013J         1753.0             TMA   54.0    20.0\n",
            "2         AAA             2013J         1754.0             TMA  117.0    20.0\n",
            "3         AAA             2013J         1755.0             TMA  166.0    20.0\n",
            "4         AAA             2013J         1756.0             TMA  215.0    30.0\n",
            "\n",
            "--- student_assessment ---\n",
            "   id_assessment  id_student  date_submitted  is_banked  score\n",
            "0         1752.0     11391.0            18.0        0.0   78.0\n",
            "1         1752.0     28400.0            22.0        0.0   70.0\n",
            "2         1752.0     31604.0            17.0        0.0   72.0\n",
            "3         1752.0     32885.0            26.0        0.0   69.0\n",
            "4         1752.0     38053.0            19.0        0.0   79.0\n",
            "\n",
            "--- student_registration ---\n",
            "  code_module code_presentation  id_student  date_registration  \\\n",
            "0         AAA             2013J     11391.0             -159.0   \n",
            "1         AAA             2013J     28400.0              -53.0   \n",
            "2         AAA             2013J     30268.0              -92.0   \n",
            "3         AAA             2013J     31604.0              -52.0   \n",
            "4         AAA             2013J     32885.0             -176.0   \n",
            "\n",
            "   date_unregistration  \n",
            "0                  NaN  \n",
            "1                  NaN  \n",
            "2                 12.0  \n",
            "3                  NaN  \n",
            "4                  NaN  \n",
            "\n",
            "--- student_vle ---\n",
            "  code_module code_presentation  id_student gender                region  \\\n",
            "0         AAA             2013J     11391.0      M   East Anglian Region   \n",
            "1         AAA             2013J     28400.0      F              Scotland   \n",
            "2         AAA             2013J     30268.0      F  North Western Region   \n",
            "3         AAA             2013J     31604.0      F     South East Region   \n",
            "4         AAA             2013J     32885.0      F  West Midlands Region   \n",
            "\n",
            "       highest_education imd_band age_band  num_of_prev_attempts  \\\n",
            "0       HE Qualification  90-100%     55<=                   0.0   \n",
            "1       HE Qualification   20-30%    35-55                   0.0   \n",
            "2  A Level or Equivalent   30-40%    35-55                   0.0   \n",
            "3  A Level or Equivalent   50-60%    35-55                   0.0   \n",
            "4     Lower Than A Level   50-60%     0-35                   0.0   \n",
            "\n",
            "   studied_credits disability final_result  date_registration  \\\n",
            "0            240.0          N         Pass             -159.0   \n",
            "1             60.0          N         Pass              -53.0   \n",
            "2             60.0          Y    Withdrawn              -92.0   \n",
            "3             60.0          N         Pass              -52.0   \n",
            "4             60.0          N         Pass             -176.0   \n",
            "\n",
            "   date_unregistration  avg_score  n_assessments  total_clicks  n_sites  \\\n",
            "0                  NaN       82.0            5.0         934.0     55.0   \n",
            "1                  NaN       66.4            5.0        1435.0     84.0   \n",
            "2                 12.0        NaN            NaN         281.0     22.0   \n",
            "3                  NaN       76.0            5.0        2158.0     82.0   \n",
            "4                  NaN       54.4            5.0        1034.0     66.0   \n",
            "\n",
            "   module_presentation_length  \n",
            "0                       268.0  \n",
            "1                       268.0  \n",
            "2                       268.0  \n",
            "3                       268.0  \n",
            "4                       268.0  \n",
            "\n",
            "--- vle ---\n",
            "    id_site code_module code_presentation activity_type  week_from  week_to\n",
            "0  546943.0         AAA             2013J      resource        NaN      NaN\n",
            "1  546712.0         AAA             2013J     oucontent        NaN      NaN\n",
            "2  546998.0         AAA             2013J      resource        NaN      NaN\n",
            "3  546888.0         AAA             2013J           url        NaN      NaN\n",
            "4  547035.0         AAA             2013J      resource        NaN      NaN\n"
          ]
        }
      ]
    },
    {
      "cell_type": "markdown",
      "metadata": {
        "id": "BC1YTDFJSWjn"
      },
      "source": [
        "# **Real-time streaming (LMS clicks)**\n",
        "\n",
        "- Use Spark Structured Streaming (from Kafka, for example) to ingest clicks.\n",
        "\n",
        "- Aggregate in real-time by id_student."
      ]
    },
    {
      "cell_type": "code",
      "source": [],
      "metadata": {
        "id": "WTPBn5mm5Pib"
      },
      "execution_count": null,
      "outputs": []
    },
    {
      "cell_type": "markdown",
      "metadata": {
        "id": "-JJwWfDHSf_E"
      },
      "source": [
        "# **ML-ready pipeline**\n",
        "\n",
        "- Encode categorical features (StringIndexer).\n",
        "\n",
        "- Assemble features (VectorAssembler).\n",
        "\n",
        "- Train/test split.\n",
        "\n",
        "- Distributed model training using Spark MLlib (LogisticRegression)."
      ]
    },
    {
      "cell_type": "code",
      "source": [
        "# Install Dash Bootstrap Components\n",
        "!pip install dash-bootstrap-components\n"
      ],
      "metadata": {
        "colab": {
          "base_uri": "https://localhost:8080/"
        },
        "id": "fpcquHcdLiAc",
        "outputId": "875608d4-a473-4c37-e6d3-3f5d13790060"
      },
      "execution_count": 11,
      "outputs": [
        {
          "output_type": "stream",
          "name": "stdout",
          "text": [
            "Collecting dash-bootstrap-components\n",
            "  Downloading dash_bootstrap_components-2.0.3-py3-none-any.whl.metadata (18 kB)\n",
            "Collecting dash>=3.0.4 (from dash-bootstrap-components)\n",
            "  Downloading dash-3.2.0-py3-none-any.whl.metadata (10 kB)\n",
            "Requirement already satisfied: Flask<3.2,>=1.0.4 in /usr/local/lib/python3.11/dist-packages (from dash>=3.0.4->dash-bootstrap-components) (3.1.1)\n",
            "Requirement already satisfied: Werkzeug<3.2 in /usr/local/lib/python3.11/dist-packages (from dash>=3.0.4->dash-bootstrap-components) (3.1.3)\n",
            "Requirement already satisfied: plotly>=5.0.0 in /usr/local/lib/python3.11/dist-packages (from dash>=3.0.4->dash-bootstrap-components) (5.24.1)\n",
            "Requirement already satisfied: importlib-metadata in /usr/local/lib/python3.11/dist-packages (from dash>=3.0.4->dash-bootstrap-components) (8.7.0)\n",
            "Requirement already satisfied: typing-extensions>=4.1.1 in /usr/local/lib/python3.11/dist-packages (from dash>=3.0.4->dash-bootstrap-components) (4.14.1)\n",
            "Requirement already satisfied: requests in /usr/local/lib/python3.11/dist-packages (from dash>=3.0.4->dash-bootstrap-components) (2.32.3)\n",
            "Collecting retrying (from dash>=3.0.4->dash-bootstrap-components)\n",
            "  Downloading retrying-1.4.2-py3-none-any.whl.metadata (5.5 kB)\n",
            "Requirement already satisfied: nest-asyncio in /usr/local/lib/python3.11/dist-packages (from dash>=3.0.4->dash-bootstrap-components) (1.6.0)\n",
            "Requirement already satisfied: setuptools in /usr/local/lib/python3.11/dist-packages (from dash>=3.0.4->dash-bootstrap-components) (75.2.0)\n",
            "Requirement already satisfied: blinker>=1.9.0 in /usr/local/lib/python3.11/dist-packages (from Flask<3.2,>=1.0.4->dash>=3.0.4->dash-bootstrap-components) (1.9.0)\n",
            "Requirement already satisfied: click>=8.1.3 in /usr/local/lib/python3.11/dist-packages (from Flask<3.2,>=1.0.4->dash>=3.0.4->dash-bootstrap-components) (8.2.1)\n",
            "Requirement already satisfied: itsdangerous>=2.2.0 in /usr/local/lib/python3.11/dist-packages (from Flask<3.2,>=1.0.4->dash>=3.0.4->dash-bootstrap-components) (2.2.0)\n",
            "Requirement already satisfied: jinja2>=3.1.2 in /usr/local/lib/python3.11/dist-packages (from Flask<3.2,>=1.0.4->dash>=3.0.4->dash-bootstrap-components) (3.1.6)\n",
            "Requirement already satisfied: markupsafe>=2.1.1 in /usr/local/lib/python3.11/dist-packages (from Flask<3.2,>=1.0.4->dash>=3.0.4->dash-bootstrap-components) (3.0.2)\n",
            "Requirement already satisfied: tenacity>=6.2.0 in /usr/local/lib/python3.11/dist-packages (from plotly>=5.0.0->dash>=3.0.4->dash-bootstrap-components) (9.1.2)\n",
            "Requirement already satisfied: packaging in /usr/local/lib/python3.11/dist-packages (from plotly>=5.0.0->dash>=3.0.4->dash-bootstrap-components) (25.0)\n",
            "Requirement already satisfied: zipp>=3.20 in /usr/local/lib/python3.11/dist-packages (from importlib-metadata->dash>=3.0.4->dash-bootstrap-components) (3.23.0)\n",
            "Requirement already satisfied: charset-normalizer<4,>=2 in /usr/local/lib/python3.11/dist-packages (from requests->dash>=3.0.4->dash-bootstrap-components) (3.4.3)\n",
            "Requirement already satisfied: idna<4,>=2.5 in /usr/local/lib/python3.11/dist-packages (from requests->dash>=3.0.4->dash-bootstrap-components) (3.10)\n",
            "Requirement already satisfied: urllib3<3,>=1.21.1 in /usr/local/lib/python3.11/dist-packages (from requests->dash>=3.0.4->dash-bootstrap-components) (2.5.0)\n",
            "Requirement already satisfied: certifi>=2017.4.17 in /usr/local/lib/python3.11/dist-packages (from requests->dash>=3.0.4->dash-bootstrap-components) (2025.8.3)\n",
            "Downloading dash_bootstrap_components-2.0.3-py3-none-any.whl (203 kB)\n",
            "\u001b[2K   \u001b[90m━━━━━━━━━━━━━━━━━━━━━━━━━━━━━━━━━━━━━━━━\u001b[0m \u001b[32m203.7/203.7 kB\u001b[0m \u001b[31m13.0 MB/s\u001b[0m eta \u001b[36m0:00:00\u001b[0m\n",
            "\u001b[?25hDownloading dash-3.2.0-py3-none-any.whl (7.9 MB)\n",
            "\u001b[2K   \u001b[90m━━━━━━━━━━━━━━━━━━━━━━━━━━━━━━━━━━━━━━━━\u001b[0m \u001b[32m7.9/7.9 MB\u001b[0m \u001b[31m26.9 MB/s\u001b[0m eta \u001b[36m0:00:00\u001b[0m\n",
            "\u001b[?25hDownloading retrying-1.4.2-py3-none-any.whl (10 kB)\n",
            "Installing collected packages: retrying, dash, dash-bootstrap-components\n",
            "Successfully installed dash-3.2.0 dash-bootstrap-components-2.0.3 retrying-1.4.2\n"
          ]
        }
      ]
    },
    {
      "cell_type": "code",
      "source": [],
      "metadata": {
        "id": "l6dXe6oy7V-t"
      },
      "execution_count": null,
      "outputs": []
    },
    {
      "cell_type": "code",
      "source": [
        "# -----------------------------\n",
        "# Imports\n",
        "# -----------------------------\n",
        "from dash import Dash, html, dcc\n",
        "from dash.dependencies import Input, Output\n",
        "import plotly.express as px\n",
        "import pandas as pd\n",
        "\n",
        "# -----------------------------\n",
        "# Load CSV directly into Pandas\n",
        "# -----------------------------\n",
        "df = pd.read_csv('/content/drive/MyDrive/Colab Notebooks/Dashboard data.csv')\n",
        "\n",
        "# -----------------------------\n",
        "# Initialize Dash app\n",
        "# -----------------------------\n",
        "app = Dash(__name__)\n",
        "app.title = \"Student Dropout Dashboard\"\n",
        "\n",
        "# -----------------------------\n",
        "# Layout with dropdowns, cards & headers\n",
        "# -----------------------------\n",
        "app.layout = html.Div([\n",
        "    html.H1(\"📊 Student Dropout Analysis Dashboard\",\n",
        "            style={'textAlign':'center', 'marginBottom':'30px'}),\n",
        "\n",
        "    # Dropdown filters\n",
        "    html.Div([\n",
        "        html.Div([\n",
        "            html.Label(\"Select Module\"),\n",
        "            dcc.Dropdown(\n",
        "                id='module-dropdown',\n",
        "                options=[{'label': m, 'value': m} for m in sorted(df['code_module'].unique())],\n",
        "                value=[sorted(df['code_module'].unique())[0]],\n",
        "                multi=True\n",
        "            ),\n",
        "        ], style={'width':'48%', 'display':'inline-block', 'padding':'10px'}),\n",
        "\n",
        "        html.Div([\n",
        "            html.Label(\"Select Presentation\"),\n",
        "            dcc.Dropdown(\n",
        "                id='presentation-dropdown',\n",
        "                options=[{'label': p, 'value': p} for p in sorted(df['code_presentation'].unique())],\n",
        "                value=[sorted(df['code_presentation'].unique())[0]],\n",
        "                multi=True\n",
        "            ),\n",
        "        ], style={'width':'48%', 'display':'inline-block', 'padding':'10px'}),\n",
        "    ], style={'marginBottom':'30px'}),\n",
        "\n",
        "    # Graphs\n",
        "    html.Div([\n",
        "        html.Div([html.H3(\"Dropout Distribution\"), dcc.Graph(id='dropout-bar')],\n",
        "                 style={'width':'48%', 'display':'inline-block', 'verticalAlign':'top', 'padding':'10px'}),\n",
        "\n",
        "        html.Div([html.H3(\"Engagement vs Dropout\"), dcc.Graph(id='engagement-heatmap')],\n",
        "                 style={'width':'48%', 'display':'inline-block', 'verticalAlign':'top', 'padding':'10px'}),\n",
        "    ]),\n",
        "\n",
        "    html.Div([\n",
        "        html.Div([html.H3(\"Predicted Dropout Probabilities\"), dcc.Graph(id='prediction-hist')],\n",
        "                 style={'width':'48%', 'display':'inline-block', 'verticalAlign':'top', 'padding':'10px'}),\n",
        "\n",
        "        html.Div([html.H3(\"Score vs Total Clicks\"), dcc.Graph(id='score-scatter')],\n",
        "                 style={'width':'48%', 'display':'inline-block', 'verticalAlign':'top', 'padding':'10px'}),\n",
        "    ]),\n",
        "\n",
        "    html.Div([\n",
        "        html.Div([html.H3(\"Correlation Matrix\"), dcc.Graph(id='corr-heatmap')],\n",
        "                 style={'width':'48%', 'display':'inline-block', 'verticalAlign':'top', 'padding':'10px'}),\n",
        "\n",
        "        html.Div([html.H3(\"Dropout Pie Chart\"), dcc.Graph(id='dropout-pie')],\n",
        "                 style={'width':'48%', 'display':'inline-block', 'verticalAlign':'top', 'padding':'10px'}),\n",
        "    ]),\n",
        "\n",
        "    # Overall metrics\n",
        "    html.Div([\n",
        "        html.H3(\"Overall Metrics\", style={'textAlign':'center'}),\n",
        "        html.Div([\n",
        "            html.Div(id='total-students', style={'width':'33%', 'display':'inline-block', 'textAlign':'center'}),\n",
        "            html.Div(id='dropout-percent', style={'width':'33%', 'display':'inline-block', 'textAlign':'center'}),\n",
        "            html.Div(id='avg-clicks', style={'width':'33%', 'display':'inline-block', 'textAlign':'center'}),\n",
        "        ])\n",
        "    ], style={'marginTop':'30px'})\n",
        "])\n",
        "\n",
        "# -----------------------------\n",
        "# Callback to update all graphs and metrics\n",
        "# -----------------------------\n",
        "@app.callback(\n",
        "    Output('dropout-bar', 'figure'),\n",
        "    Output('engagement-heatmap', 'figure'),\n",
        "    Output('prediction-hist', 'figure'),\n",
        "    Output('score-scatter', 'figure'),\n",
        "    Output('corr-heatmap', 'figure'),\n",
        "    Output('dropout-pie', 'figure'),\n",
        "    Output('total-students', 'children'),\n",
        "    Output('dropout-percent', 'children'),\n",
        "    Output('avg-clicks', 'children'),\n",
        "    Input('module-dropdown', 'value'),\n",
        "    Input('presentation-dropdown', 'value')\n",
        ")\n",
        "def update_dashboard(selected_modules, selected_presentations):\n",
        "    # Filter data based on dropdown selection\n",
        "    filtered_df = df[df['code_module'].isin(selected_modules) & df['code_presentation'].isin(selected_presentations)]\n",
        "\n",
        "    # Dropout distribution\n",
        "    fig1 = px.histogram(filtered_df, x='dropout', color='dropout', barmode='group',\n",
        "                        labels={'dropout':'Dropout'}, hover_data=filtered_df.columns)\n",
        "    fig1.update_layout(title_text='Dropout Distribution', title_x=0.5, template='plotly_dark')\n",
        "\n",
        "    # Engagement heatmap\n",
        "    fig2 = px.density_heatmap(filtered_df, x='total_clicks', y='dropout', nbinsx=30, nbinsy=2,\n",
        "                              color_continuous_scale='Viridis', labels={'total_clicks':'Total Clicks'})\n",
        "    fig2.update_layout(title_text='Engagement vs Dropout', title_x=0.5, template='plotly_dark')\n",
        "\n",
        "    # Predicted probabilities\n",
        "    if 'prediction_prob' in filtered_df.columns:\n",
        "        fig3 = px.histogram(filtered_df, x='prediction_prob', color='dropout', nbins=20,\n",
        "                            labels={'prediction_prob':'Predicted Probability'}, hover_data=filtered_df.columns)\n",
        "    else:\n",
        "        fig3 = px.histogram(filtered_df, x='dropout', color='dropout', nbins=2)\n",
        "    fig3.update_layout(title_text='Predicted Dropout Probabilities', title_x=0.5, template='plotly_dark')\n",
        "\n",
        "    # Score vs Total Clicks scatter\n",
        "    fig4 = px.scatter(filtered_df, x='total_clicks', y='score', color='dropout', hover_data=['id_student'],\n",
        "                      labels={'total_clicks':'Total Clicks', 'score':'Score'})\n",
        "    fig4.update_layout(title_text='Score vs Total Clicks', title_x=0.5, template='plotly_dark')\n",
        "\n",
        "    # Correlation matrix (numeric only)\n",
        "    numeric_df = filtered_df.select_dtypes(include=['int64','float64'])\n",
        "    fig5 = px.imshow(numeric_df.corr(), text_auto=True, color_continuous_scale='Viridis')\n",
        "    fig5.update_layout(title_text='Correlation Matrix', title_x=0.5, template='plotly_dark')\n",
        "\n",
        "    # Dropout pie chart\n",
        "    pie_counts = filtered_df['dropout'].value_counts()\n",
        "    fig6 = px.pie(values=pie_counts.values, names=pie_counts.index, color=pie_counts.index)\n",
        "    fig6.update_layout(title_text='Dropout Proportion', title_x=0.5, template='plotly_dark')\n",
        "\n",
        "    # Metrics\n",
        "    total_students = f\"Total Students: {len(filtered_df)}\"\n",
        "    dropout_percent = f\"Dropout %: {filtered_df['dropout'].mean()*100:.2f}%\"\n",
        "    avg_clicks = f\"Average Clicks: {filtered_df['total_clicks'].mean():.2f}\"\n",
        "\n",
        "    return fig1, fig2, fig3, fig4, fig5, fig6, total_students, dropout_percent, avg_clicks\n",
        "\n",
        "# -----------------------------\n",
        "# Run app\n",
        "# -----------------------------\n",
        "if __name__ == '__main__':\n",
        "    app.run(debug=True, host='0.0.0.0', port=8050)\n"
      ],
      "metadata": {
        "colab": {
          "base_uri": "https://localhost:8080/",
          "height": 671
        },
        "id": "HVIB7HDZe4uO",
        "outputId": "1e5cfe10-b6ba-411e-94b3-6bd6b7c92132"
      },
      "execution_count": 12,
      "outputs": [
        {
          "output_type": "display_data",
          "data": {
            "text/plain": [
              "<IPython.core.display.Javascript object>"
            ],
            "application/javascript": [
              "(async (port, path, width, height, cache, element) => {\n",
              "    if (!google.colab.kernel.accessAllowed && !cache) {\n",
              "      return;\n",
              "    }\n",
              "    element.appendChild(document.createTextNode(''));\n",
              "    const url = await google.colab.kernel.proxyPort(port, {cache});\n",
              "    const iframe = document.createElement('iframe');\n",
              "    iframe.src = new URL(path, url).toString();\n",
              "    iframe.height = height;\n",
              "    iframe.width = width;\n",
              "    iframe.style.border = 0;\n",
              "    iframe.allow = [\n",
              "        'accelerometer',\n",
              "        'autoplay',\n",
              "        'camera',\n",
              "        'clipboard-read',\n",
              "        'clipboard-write',\n",
              "        'gyroscope',\n",
              "        'magnetometer',\n",
              "        'microphone',\n",
              "        'serial',\n",
              "        'usb',\n",
              "        'xr-spatial-tracking',\n",
              "    ].join('; ');\n",
              "    element.appendChild(iframe);\n",
              "  })(8050, \"/\", \"100%\", 650, false, window.element)"
            ]
          },
          "metadata": {}
        }
      ]
    }
  ],
  "metadata": {
    "colab": {
      "provenance": [],
      "mount_file_id": "1DI-H7IRV9qXLrqQYw_mf5eFKbVyUn9k9",
      "authorship_tag": "ABX9TyO8wVdLNWHgVHTR1LLCtRC/",
      "include_colab_link": true
    },
    "kernelspec": {
      "display_name": "Python 3",
      "name": "python3"
    },
    "language_info": {
      "name": "python"
    }
  },
  "nbformat": 4,
  "nbformat_minor": 0
}